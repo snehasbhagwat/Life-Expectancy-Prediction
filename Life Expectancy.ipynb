{
 "cells": [
  {
   "cell_type": "markdown",
   "metadata": {},
   "source": [
    "# Running Regression Model"
   ]
  },
  {
   "cell_type": "markdown",
   "metadata": {},
   "source": [
    "## Exploratory Data Analysis and Data Preprocessing"
   ]
  },
  {
   "cell_type": "code",
   "execution_count": 1,
   "metadata": {},
   "outputs": [],
   "source": [
    "import numpy as np\n",
    "import pandas as pd\n",
    "import matplotlib.pyplot as plt"
   ]
  },
  {
   "cell_type": "code",
   "execution_count": 2,
   "metadata": {},
   "outputs": [],
   "source": [
    "train=pd.read_csv(\"Life Expectancy.csv\",sep=r'\\s*,\\s*',engine='python')"
   ]
  },
  {
   "cell_type": "code",
   "execution_count": 3,
   "metadata": {},
   "outputs": [
    {
     "name": "stdout",
     "output_type": "stream",
     "text": [
      "<class 'pandas.core.frame.DataFrame'>\n",
      "RangeIndex: 2928 entries, 0 to 2927\n",
      "Data columns (total 22 columns):\n",
      " #   Column                           Non-Null Count  Dtype  \n",
      "---  ------                           --------------  -----  \n",
      " 0   Country                          2928 non-null   object \n",
      " 1   Year                             2928 non-null   int64  \n",
      " 2   Status                           2928 non-null   object \n",
      " 3   Life expectancy                  2928 non-null   float64\n",
      " 4   Adult Mortality                  2928 non-null   int64  \n",
      " 5   infant deaths                    2928 non-null   int64  \n",
      " 6   Alcohol                          2735 non-null   float64\n",
      " 7   percentage expenditure           2928 non-null   float64\n",
      " 8   Hepatitis B                      2375 non-null   float64\n",
      " 9   Measles                          2928 non-null   int64  \n",
      " 10  BMI                              2896 non-null   float64\n",
      " 11  under-five deaths                2928 non-null   int64  \n",
      " 12  Polio                            2909 non-null   float64\n",
      " 13  Total expenditure                2702 non-null   float64\n",
      " 14  Diphtheria                       2909 non-null   float64\n",
      " 15  HIV/AIDS                         2928 non-null   float64\n",
      " 16  GDP                              2485 non-null   float64\n",
      " 17  Population                       2284 non-null   float64\n",
      " 18  thinness  1-19 years             2896 non-null   float64\n",
      " 19  thinness 5-9 years               2896 non-null   float64\n",
      " 20  Income composition of resources  2768 non-null   float64\n",
      " 21  Schooling                        2768 non-null   float64\n",
      "dtypes: float64(15), int64(5), object(2)\n",
      "memory usage: 480.4+ KB\n"
     ]
    }
   ],
   "source": [
    "# The Y variable is the average life span in a country. Indicator variables are various factors of a country like GDP, Avg BMI,etc.\n",
    "train.info()"
   ]
  },
  {
   "cell_type": "code",
   "execution_count": 4,
   "metadata": {},
   "outputs": [
    {
     "data": {
      "text/html": [
       "<div>\n",
       "<style scoped>\n",
       "    .dataframe tbody tr th:only-of-type {\n",
       "        vertical-align: middle;\n",
       "    }\n",
       "\n",
       "    .dataframe tbody tr th {\n",
       "        vertical-align: top;\n",
       "    }\n",
       "\n",
       "    .dataframe thead th {\n",
       "        text-align: right;\n",
       "    }\n",
       "</style>\n",
       "<table border=\"1\" class=\"dataframe\">\n",
       "  <thead>\n",
       "    <tr style=\"text-align: right;\">\n",
       "      <th></th>\n",
       "      <th>Year</th>\n",
       "      <th>Life expectancy</th>\n",
       "      <th>Adult Mortality</th>\n",
       "      <th>infant deaths</th>\n",
       "      <th>Alcohol</th>\n",
       "      <th>percentage expenditure</th>\n",
       "      <th>Hepatitis B</th>\n",
       "      <th>Measles</th>\n",
       "      <th>BMI</th>\n",
       "      <th>under-five deaths</th>\n",
       "      <th>Polio</th>\n",
       "      <th>Total expenditure</th>\n",
       "      <th>Diphtheria</th>\n",
       "      <th>HIV/AIDS</th>\n",
       "      <th>GDP</th>\n",
       "      <th>Population</th>\n",
       "      <th>thinness  1-19 years</th>\n",
       "      <th>thinness 5-9 years</th>\n",
       "      <th>Income composition of resources</th>\n",
       "      <th>Schooling</th>\n",
       "    </tr>\n",
       "  </thead>\n",
       "  <tbody>\n",
       "    <tr>\n",
       "      <th>count</th>\n",
       "      <td>2928.00000</td>\n",
       "      <td>2928.000000</td>\n",
       "      <td>2928.000000</td>\n",
       "      <td>2928.000000</td>\n",
       "      <td>2735.000000</td>\n",
       "      <td>2928.000000</td>\n",
       "      <td>2375.000000</td>\n",
       "      <td>2928.000000</td>\n",
       "      <td>2896.000000</td>\n",
       "      <td>2928.000000</td>\n",
       "      <td>2909.000000</td>\n",
       "      <td>2702.000000</td>\n",
       "      <td>2909.000000</td>\n",
       "      <td>2928.000000</td>\n",
       "      <td>2485.000000</td>\n",
       "      <td>2.284000e+03</td>\n",
       "      <td>2896.000000</td>\n",
       "      <td>2896.000000</td>\n",
       "      <td>2768.000000</td>\n",
       "      <td>2768.000000</td>\n",
       "    </tr>\n",
       "    <tr>\n",
       "      <th>mean</th>\n",
       "      <td>2007.50000</td>\n",
       "      <td>69.224932</td>\n",
       "      <td>164.796448</td>\n",
       "      <td>30.407445</td>\n",
       "      <td>4.614856</td>\n",
       "      <td>740.321185</td>\n",
       "      <td>80.960842</td>\n",
       "      <td>2427.855874</td>\n",
       "      <td>38.235394</td>\n",
       "      <td>42.179303</td>\n",
       "      <td>82.548298</td>\n",
       "      <td>5.930163</td>\n",
       "      <td>82.321416</td>\n",
       "      <td>1.747712</td>\n",
       "      <td>7494.210719</td>\n",
       "      <td>1.276454e+07</td>\n",
       "      <td>4.850622</td>\n",
       "      <td>4.881423</td>\n",
       "      <td>0.627419</td>\n",
       "      <td>11.999639</td>\n",
       "    </tr>\n",
       "    <tr>\n",
       "      <th>std</th>\n",
       "      <td>4.61056</td>\n",
       "      <td>9.523867</td>\n",
       "      <td>124.292079</td>\n",
       "      <td>118.114450</td>\n",
       "      <td>4.050749</td>\n",
       "      <td>1990.930605</td>\n",
       "      <td>25.018337</td>\n",
       "      <td>11485.970937</td>\n",
       "      <td>19.959590</td>\n",
       "      <td>160.700547</td>\n",
       "      <td>23.416674</td>\n",
       "      <td>2.483273</td>\n",
       "      <td>23.706644</td>\n",
       "      <td>5.085542</td>\n",
       "      <td>14282.251492</td>\n",
       "      <td>6.103765e+07</td>\n",
       "      <td>4.420829</td>\n",
       "      <td>4.509609</td>\n",
       "      <td>0.210978</td>\n",
       "      <td>3.346440</td>\n",
       "    </tr>\n",
       "    <tr>\n",
       "      <th>min</th>\n",
       "      <td>2000.00000</td>\n",
       "      <td>36.300000</td>\n",
       "      <td>1.000000</td>\n",
       "      <td>0.000000</td>\n",
       "      <td>0.010000</td>\n",
       "      <td>0.000000</td>\n",
       "      <td>1.000000</td>\n",
       "      <td>0.000000</td>\n",
       "      <td>1.000000</td>\n",
       "      <td>0.000000</td>\n",
       "      <td>3.000000</td>\n",
       "      <td>0.370000</td>\n",
       "      <td>2.000000</td>\n",
       "      <td>0.100000</td>\n",
       "      <td>1.681350</td>\n",
       "      <td>3.400000e+01</td>\n",
       "      <td>0.100000</td>\n",
       "      <td>0.100000</td>\n",
       "      <td>0.000000</td>\n",
       "      <td>0.000000</td>\n",
       "    </tr>\n",
       "    <tr>\n",
       "      <th>25%</th>\n",
       "      <td>2003.75000</td>\n",
       "      <td>63.100000</td>\n",
       "      <td>74.000000</td>\n",
       "      <td>0.000000</td>\n",
       "      <td>0.905000</td>\n",
       "      <td>4.853964</td>\n",
       "      <td>77.000000</td>\n",
       "      <td>0.000000</td>\n",
       "      <td>19.300000</td>\n",
       "      <td>0.000000</td>\n",
       "      <td>78.000000</td>\n",
       "      <td>4.260000</td>\n",
       "      <td>78.000000</td>\n",
       "      <td>0.100000</td>\n",
       "      <td>463.852618</td>\n",
       "      <td>1.966738e+05</td>\n",
       "      <td>1.600000</td>\n",
       "      <td>1.575000</td>\n",
       "      <td>0.493000</td>\n",
       "      <td>10.100000</td>\n",
       "    </tr>\n",
       "    <tr>\n",
       "      <th>50%</th>\n",
       "      <td>2007.50000</td>\n",
       "      <td>72.100000</td>\n",
       "      <td>144.000000</td>\n",
       "      <td>3.000000</td>\n",
       "      <td>3.770000</td>\n",
       "      <td>65.611455</td>\n",
       "      <td>92.000000</td>\n",
       "      <td>17.000000</td>\n",
       "      <td>43.350000</td>\n",
       "      <td>4.000000</td>\n",
       "      <td>93.000000</td>\n",
       "      <td>5.750000</td>\n",
       "      <td>93.000000</td>\n",
       "      <td>0.100000</td>\n",
       "      <td>1764.973870</td>\n",
       "      <td>1.391756e+06</td>\n",
       "      <td>3.300000</td>\n",
       "      <td>3.400000</td>\n",
       "      <td>0.677000</td>\n",
       "      <td>12.300000</td>\n",
       "    </tr>\n",
       "    <tr>\n",
       "      <th>75%</th>\n",
       "      <td>2011.25000</td>\n",
       "      <td>75.700000</td>\n",
       "      <td>228.000000</td>\n",
       "      <td>22.000000</td>\n",
       "      <td>7.715000</td>\n",
       "      <td>442.614322</td>\n",
       "      <td>97.000000</td>\n",
       "      <td>362.250000</td>\n",
       "      <td>56.100000</td>\n",
       "      <td>28.000000</td>\n",
       "      <td>97.000000</td>\n",
       "      <td>7.490000</td>\n",
       "      <td>97.000000</td>\n",
       "      <td>0.800000</td>\n",
       "      <td>5932.899677</td>\n",
       "      <td>7.426746e+06</td>\n",
       "      <td>7.200000</td>\n",
       "      <td>7.200000</td>\n",
       "      <td>0.779250</td>\n",
       "      <td>14.300000</td>\n",
       "    </tr>\n",
       "    <tr>\n",
       "      <th>max</th>\n",
       "      <td>2015.00000</td>\n",
       "      <td>89.000000</td>\n",
       "      <td>723.000000</td>\n",
       "      <td>1800.000000</td>\n",
       "      <td>17.870000</td>\n",
       "      <td>19479.911610</td>\n",
       "      <td>99.000000</td>\n",
       "      <td>212183.000000</td>\n",
       "      <td>77.600000</td>\n",
       "      <td>2500.000000</td>\n",
       "      <td>99.000000</td>\n",
       "      <td>17.600000</td>\n",
       "      <td>99.000000</td>\n",
       "      <td>50.600000</td>\n",
       "      <td>119172.741800</td>\n",
       "      <td>1.293859e+09</td>\n",
       "      <td>27.700000</td>\n",
       "      <td>28.600000</td>\n",
       "      <td>0.948000</td>\n",
       "      <td>20.700000</td>\n",
       "    </tr>\n",
       "  </tbody>\n",
       "</table>\n",
       "</div>"
      ],
      "text/plain": [
       "             Year  Life expectancy  Adult Mortality  infant deaths  \\\n",
       "count  2928.00000      2928.000000      2928.000000    2928.000000   \n",
       "mean   2007.50000        69.224932       164.796448      30.407445   \n",
       "std       4.61056         9.523867       124.292079     118.114450   \n",
       "min    2000.00000        36.300000         1.000000       0.000000   \n",
       "25%    2003.75000        63.100000        74.000000       0.000000   \n",
       "50%    2007.50000        72.100000       144.000000       3.000000   \n",
       "75%    2011.25000        75.700000       228.000000      22.000000   \n",
       "max    2015.00000        89.000000       723.000000    1800.000000   \n",
       "\n",
       "           Alcohol  percentage expenditure  Hepatitis B        Measles  \\\n",
       "count  2735.000000             2928.000000  2375.000000    2928.000000   \n",
       "mean      4.614856              740.321185    80.960842    2427.855874   \n",
       "std       4.050749             1990.930605    25.018337   11485.970937   \n",
       "min       0.010000                0.000000     1.000000       0.000000   \n",
       "25%       0.905000                4.853964    77.000000       0.000000   \n",
       "50%       3.770000               65.611455    92.000000      17.000000   \n",
       "75%       7.715000              442.614322    97.000000     362.250000   \n",
       "max      17.870000            19479.911610    99.000000  212183.000000   \n",
       "\n",
       "               BMI  under-five deaths        Polio  Total expenditure  \\\n",
       "count  2896.000000        2928.000000  2909.000000        2702.000000   \n",
       "mean     38.235394          42.179303    82.548298           5.930163   \n",
       "std      19.959590         160.700547    23.416674           2.483273   \n",
       "min       1.000000           0.000000     3.000000           0.370000   \n",
       "25%      19.300000           0.000000    78.000000           4.260000   \n",
       "50%      43.350000           4.000000    93.000000           5.750000   \n",
       "75%      56.100000          28.000000    97.000000           7.490000   \n",
       "max      77.600000        2500.000000    99.000000          17.600000   \n",
       "\n",
       "        Diphtheria     HIV/AIDS            GDP    Population  \\\n",
       "count  2909.000000  2928.000000    2485.000000  2.284000e+03   \n",
       "mean     82.321416     1.747712    7494.210719  1.276454e+07   \n",
       "std      23.706644     5.085542   14282.251492  6.103765e+07   \n",
       "min       2.000000     0.100000       1.681350  3.400000e+01   \n",
       "25%      78.000000     0.100000     463.852618  1.966738e+05   \n",
       "50%      93.000000     0.100000    1764.973870  1.391756e+06   \n",
       "75%      97.000000     0.800000    5932.899677  7.426746e+06   \n",
       "max      99.000000    50.600000  119172.741800  1.293859e+09   \n",
       "\n",
       "       thinness  1-19 years  thinness 5-9 years  \\\n",
       "count           2896.000000         2896.000000   \n",
       "mean               4.850622            4.881423   \n",
       "std                4.420829            4.509609   \n",
       "min                0.100000            0.100000   \n",
       "25%                1.600000            1.575000   \n",
       "50%                3.300000            3.400000   \n",
       "75%                7.200000            7.200000   \n",
       "max               27.700000           28.600000   \n",
       "\n",
       "       Income composition of resources    Schooling  \n",
       "count                      2768.000000  2768.000000  \n",
       "mean                          0.627419    11.999639  \n",
       "std                           0.210978     3.346440  \n",
       "min                           0.000000     0.000000  \n",
       "25%                           0.493000    10.100000  \n",
       "50%                           0.677000    12.300000  \n",
       "75%                           0.779250    14.300000  \n",
       "max                           0.948000    20.700000  "
      ]
     },
     "execution_count": 4,
     "metadata": {},
     "output_type": "execute_result"
    }
   ],
   "source": [
    "train.describe()"
   ]
  },
  {
   "cell_type": "code",
   "execution_count": 5,
   "metadata": {},
   "outputs": [
    {
     "data": {
      "text/plain": [
       "Index(['Country', 'Year', 'Status', 'Life expectancy', 'Adult Mortality',\n",
       "       'infant deaths', 'Alcohol', 'percentage expenditure', 'Hepatitis B',\n",
       "       'Measles', 'BMI', 'under-five deaths', 'Polio', 'Total expenditure',\n",
       "       'Diphtheria', 'HIV/AIDS', 'GDP', 'Population', 'thinness  1-19 years',\n",
       "       'thinness 5-9 years', 'Income composition of resources', 'Schooling'],\n",
       "      dtype='object')"
      ]
     },
     "execution_count": 5,
     "metadata": {},
     "output_type": "execute_result"
    }
   ],
   "source": [
    "train.columns"
   ]
  },
  {
   "cell_type": "code",
   "execution_count": 6,
   "metadata": {},
   "outputs": [
    {
     "data": {
      "text/plain": [
       "Country                             object\n",
       "Year                                 int64\n",
       "Status                              object\n",
       "Life expectancy                    float64\n",
       "Adult Mortality                      int64\n",
       "infant deaths                        int64\n",
       "Alcohol                            float64\n",
       "percentage expenditure             float64\n",
       "Hepatitis B                        float64\n",
       "Measles                              int64\n",
       "BMI                                float64\n",
       "under-five deaths                    int64\n",
       "Polio                              float64\n",
       "Total expenditure                  float64\n",
       "Diphtheria                         float64\n",
       "HIV/AIDS                           float64\n",
       "GDP                                float64\n",
       "Population                         float64\n",
       "thinness  1-19 years               float64\n",
       "thinness 5-9 years                 float64\n",
       "Income composition of resources    float64\n",
       "Schooling                          float64\n",
       "dtype: object"
      ]
     },
     "execution_count": 6,
     "metadata": {},
     "output_type": "execute_result"
    }
   ],
   "source": [
    "train.dtypes"
   ]
  },
  {
   "cell_type": "code",
   "execution_count": 7,
   "metadata": {},
   "outputs": [
    {
     "data": {
      "text/html": [
       "<style  type=\"text/css\" >\n",
       "    #T_8e167157_c593_11ea_bab4_040e3c9252bfrow0_col0 {\n",
       "            background-color:  #b40426;\n",
       "            color:  #f1f1f1;\n",
       "        }    #T_8e167157_c593_11ea_bab4_040e3c9252bfrow0_col1 {\n",
       "            background-color:  #dfdbd9;\n",
       "            color:  #000000;\n",
       "        }    #T_8e167157_c593_11ea_bab4_040e3c9252bfrow0_col2 {\n",
       "            background-color:  #b5cdfa;\n",
       "            color:  #000000;\n",
       "        }    #T_8e167157_c593_11ea_bab4_040e3c9252bfrow0_col3 {\n",
       "            background-color:  #6b8df0;\n",
       "            color:  #000000;\n",
       "        }    #T_8e167157_c593_11ea_bab4_040e3c9252bfrow0_col4 {\n",
       "            background-color:  #93b5fe;\n",
       "            color:  #000000;\n",
       "        }    #T_8e167157_c593_11ea_bab4_040e3c9252bfrow0_col5 {\n",
       "            background-color:  #85a8fc;\n",
       "            color:  #000000;\n",
       "        }    #T_8e167157_c593_11ea_bab4_040e3c9252bfrow0_col6 {\n",
       "            background-color:  #96b7ff;\n",
       "            color:  #000000;\n",
       "        }    #T_8e167157_c593_11ea_bab4_040e3c9252bfrow0_col7 {\n",
       "            background-color:  #536edd;\n",
       "            color:  #000000;\n",
       "        }    #T_8e167157_c593_11ea_bab4_040e3c9252bfrow0_col8 {\n",
       "            background-color:  #c5d6f2;\n",
       "            color:  #000000;\n",
       "        }    #T_8e167157_c593_11ea_bab4_040e3c9252bfrow0_col9 {\n",
       "            background-color:  #6c8ff1;\n",
       "            color:  #000000;\n",
       "        }    #T_8e167157_c593_11ea_bab4_040e3c9252bfrow0_col10 {\n",
       "            background-color:  #9bbcff;\n",
       "            color:  #000000;\n",
       "        }    #T_8e167157_c593_11ea_bab4_040e3c9252bfrow0_col11 {\n",
       "            background-color:  #9abbff;\n",
       "            color:  #000000;\n",
       "        }    #T_8e167157_c593_11ea_bab4_040e3c9252bfrow0_col12 {\n",
       "            background-color:  #a6c4fe;\n",
       "            color:  #000000;\n",
       "        }    #T_8e167157_c593_11ea_bab4_040e3c9252bfrow0_col13 {\n",
       "            background-color:  #93b5fe;\n",
       "            color:  #000000;\n",
       "        }    #T_8e167157_c593_11ea_bab4_040e3c9252bfrow0_col14 {\n",
       "            background-color:  #a1c0ff;\n",
       "            color:  #000000;\n",
       "        }    #T_8e167157_c593_11ea_bab4_040e3c9252bfrow0_col15 {\n",
       "            background-color:  #6282ea;\n",
       "            color:  #000000;\n",
       "        }    #T_8e167157_c593_11ea_bab4_040e3c9252bfrow0_col16 {\n",
       "            background-color:  #a5c3fe;\n",
       "            color:  #000000;\n",
       "        }    #T_8e167157_c593_11ea_bab4_040e3c9252bfrow0_col17 {\n",
       "            background-color:  #a5c3fe;\n",
       "            color:  #000000;\n",
       "        }    #T_8e167157_c593_11ea_bab4_040e3c9252bfrow0_col18 {\n",
       "            background-color:  #d8dce2;\n",
       "            color:  #000000;\n",
       "        }    #T_8e167157_c593_11ea_bab4_040e3c9252bfrow0_col19 {\n",
       "            background-color:  #d4dbe6;\n",
       "            color:  #000000;\n",
       "        }    #T_8e167157_c593_11ea_bab4_040e3c9252bfrow1_col0 {\n",
       "            background-color:  #94b6ff;\n",
       "            color:  #000000;\n",
       "        }    #T_8e167157_c593_11ea_bab4_040e3c9252bfrow1_col1 {\n",
       "            background-color:  #b40426;\n",
       "            color:  #f1f1f1;\n",
       "        }    #T_8e167157_c593_11ea_bab4_040e3c9252bfrow1_col2 {\n",
       "            background-color:  #3b4cc0;\n",
       "            color:  #f1f1f1;\n",
       "        }    #T_8e167157_c593_11ea_bab4_040e3c9252bfrow1_col3 {\n",
       "            background-color:  #4257c9;\n",
       "            color:  #f1f1f1;\n",
       "        }    #T_8e167157_c593_11ea_bab4_040e3c9252bfrow1_col4 {\n",
       "            background-color:  #efcebd;\n",
       "            color:  #000000;\n",
       "        }    #T_8e167157_c593_11ea_bab4_040e3c9252bfrow1_col5 {\n",
       "            background-color:  #dedcdb;\n",
       "            color:  #000000;\n",
       "        }    #T_8e167157_c593_11ea_bab4_040e3c9252bfrow1_col6 {\n",
       "            background-color:  #bfd3f6;\n",
       "            color:  #000000;\n",
       "        }    #T_8e167157_c593_11ea_bab4_040e3c9252bfrow1_col7 {\n",
       "            background-color:  #3f53c6;\n",
       "            color:  #f1f1f1;\n",
       "        }    #T_8e167157_c593_11ea_bab4_040e3c9252bfrow1_col8 {\n",
       "            background-color:  #f6a586;\n",
       "            color:  #000000;\n",
       "        }    #T_8e167157_c593_11ea_bab4_040e3c9252bfrow1_col9 {\n",
       "            background-color:  #3e51c5;\n",
       "            color:  #f1f1f1;\n",
       "        }    #T_8e167157_c593_11ea_bab4_040e3c9252bfrow1_col10 {\n",
       "            background-color:  #efcfbf;\n",
       "            color:  #000000;\n",
       "        }    #T_8e167157_c593_11ea_bab4_040e3c9252bfrow1_col11 {\n",
       "            background-color:  #bcd2f7;\n",
       "            color:  #000000;\n",
       "        }    #T_8e167157_c593_11ea_bab4_040e3c9252bfrow1_col12 {\n",
       "            background-color:  #f1cdba;\n",
       "            color:  #000000;\n",
       "        }    #T_8e167157_c593_11ea_bab4_040e3c9252bfrow1_col13 {\n",
       "            background-color:  #3b4cc0;\n",
       "            color:  #f1f1f1;\n",
       "        }    #T_8e167157_c593_11ea_bab4_040e3c9252bfrow1_col14 {\n",
       "            background-color:  #efcebd;\n",
       "            color:  #000000;\n",
       "        }    #T_8e167157_c593_11ea_bab4_040e3c9252bfrow1_col15 {\n",
       "            background-color:  #5673e0;\n",
       "            color:  #000000;\n",
       "        }    #T_8e167157_c593_11ea_bab4_040e3c9252bfrow1_col16 {\n",
       "            background-color:  #445acc;\n",
       "            color:  #f1f1f1;\n",
       "        }    #T_8e167157_c593_11ea_bab4_040e3c9252bfrow1_col17 {\n",
       "            background-color:  #485fd1;\n",
       "            color:  #f1f1f1;\n",
       "        }    #T_8e167157_c593_11ea_bab4_040e3c9252bfrow1_col18 {\n",
       "            background-color:  #ec7f63;\n",
       "            color:  #000000;\n",
       "        }    #T_8e167157_c593_11ea_bab4_040e3c9252bfrow1_col19 {\n",
       "            background-color:  #e7745b;\n",
       "            color:  #000000;\n",
       "        }    #T_8e167157_c593_11ea_bab4_040e3c9252bfrow2_col0 {\n",
       "            background-color:  #4a63d3;\n",
       "            color:  #f1f1f1;\n",
       "        }    #T_8e167157_c593_11ea_bab4_040e3c9252bfrow2_col1 {\n",
       "            background-color:  #3b4cc0;\n",
       "            color:  #f1f1f1;\n",
       "        }    #T_8e167157_c593_11ea_bab4_040e3c9252bfrow2_col2 {\n",
       "            background-color:  #b40426;\n",
       "            color:  #f1f1f1;\n",
       "        }    #T_8e167157_c593_11ea_bab4_040e3c9252bfrow2_col3 {\n",
       "            background-color:  #8caffe;\n",
       "            color:  #000000;\n",
       "        }    #T_8e167157_c593_11ea_bab4_040e3c9252bfrow2_col4 {\n",
       "            background-color:  #6f92f3;\n",
       "            color:  #000000;\n",
       "        }    #T_8e167157_c593_11ea_bab4_040e3c9252bfrow2_col5 {\n",
       "            background-color:  #3d50c3;\n",
       "            color:  #f1f1f1;\n",
       "        }    #T_8e167157_c593_11ea_bab4_040e3c9252bfrow2_col6 {\n",
       "            background-color:  #4b64d5;\n",
       "            color:  #f1f1f1;\n",
       "        }    #T_8e167157_c593_11ea_bab4_040e3c9252bfrow2_col7 {\n",
       "            background-color:  #7396f5;\n",
       "            color:  #000000;\n",
       "        }    #T_8e167157_c593_11ea_bab4_040e3c9252bfrow2_col8 {\n",
       "            background-color:  #5977e3;\n",
       "            color:  #000000;\n",
       "        }    #T_8e167157_c593_11ea_bab4_040e3c9252bfrow2_col9 {\n",
       "            background-color:  #93b5fe;\n",
       "            color:  #000000;\n",
       "        }    #T_8e167157_c593_11ea_bab4_040e3c9252bfrow2_col10 {\n",
       "            background-color:  #3b4cc0;\n",
       "            color:  #f1f1f1;\n",
       "        }    #T_8e167157_c593_11ea_bab4_040e3c9252bfrow2_col11 {\n",
       "            background-color:  #6384eb;\n",
       "            color:  #000000;\n",
       "        }    #T_8e167157_c593_11ea_bab4_040e3c9252bfrow2_col12 {\n",
       "            background-color:  #3b4cc0;\n",
       "            color:  #f1f1f1;\n",
       "        }    #T_8e167157_c593_11ea_bab4_040e3c9252bfrow2_col13 {\n",
       "            background-color:  #f7af91;\n",
       "            color:  #000000;\n",
       "        }    #T_8e167157_c593_11ea_bab4_040e3c9252bfrow2_col14 {\n",
       "            background-color:  #3b4cc0;\n",
       "            color:  #f1f1f1;\n",
       "        }    #T_8e167157_c593_11ea_bab4_040e3c9252bfrow2_col15 {\n",
       "            background-color:  #5977e3;\n",
       "            color:  #000000;\n",
       "        }    #T_8e167157_c593_11ea_bab4_040e3c9252bfrow2_col16 {\n",
       "            background-color:  #e8d6cc;\n",
       "            color:  #000000;\n",
       "        }    #T_8e167157_c593_11ea_bab4_040e3c9252bfrow2_col17 {\n",
       "            background-color:  #e9d5cb;\n",
       "            color:  #000000;\n",
       "        }    #T_8e167157_c593_11ea_bab4_040e3c9252bfrow2_col18 {\n",
       "            background-color:  #3b4cc0;\n",
       "            color:  #f1f1f1;\n",
       "        }    #T_8e167157_c593_11ea_bab4_040e3c9252bfrow2_col19 {\n",
       "            background-color:  #3e51c5;\n",
       "            color:  #f1f1f1;\n",
       "        }    #T_8e167157_c593_11ea_bab4_040e3c9252bfrow3_col0 {\n",
       "            background-color:  #5673e0;\n",
       "            color:  #000000;\n",
       "        }    #T_8e167157_c593_11ea_bab4_040e3c9252bfrow3_col1 {\n",
       "            background-color:  #9dbdff;\n",
       "            color:  #000000;\n",
       "        }    #T_8e167157_c593_11ea_bab4_040e3c9252bfrow3_col2 {\n",
       "            background-color:  #d1dae9;\n",
       "            color:  #000000;\n",
       "        }    #T_8e167157_c593_11ea_bab4_040e3c9252bfrow3_col3 {\n",
       "            background-color:  #b40426;\n",
       "            color:  #f1f1f1;\n",
       "        }    #T_8e167157_c593_11ea_bab4_040e3c9252bfrow3_col4 {\n",
       "            background-color:  #82a6fb;\n",
       "            color:  #000000;\n",
       "        }    #T_8e167157_c593_11ea_bab4_040e3c9252bfrow3_col5 {\n",
       "            background-color:  #6485ec;\n",
       "            color:  #000000;\n",
       "        }    #T_8e167157_c593_11ea_bab4_040e3c9252bfrow3_col6 {\n",
       "            background-color:  #3c4ec2;\n",
       "            color:  #f1f1f1;\n",
       "        }    #T_8e167157_c593_11ea_bab4_040e3c9252bfrow3_col7 {\n",
       "            background-color:  #eed0c0;\n",
       "            color:  #000000;\n",
       "        }    #T_8e167157_c593_11ea_bab4_040e3c9252bfrow3_col8 {\n",
       "            background-color:  #7b9ff9;\n",
       "            color:  #000000;\n",
       "        }    #T_8e167157_c593_11ea_bab4_040e3c9252bfrow3_col9 {\n",
       "            background-color:  #b40426;\n",
       "            color:  #f1f1f1;\n",
       "        }    #T_8e167157_c593_11ea_bab4_040e3c9252bfrow3_col10 {\n",
       "            background-color:  #536edd;\n",
       "            color:  #000000;\n",
       "        }    #T_8e167157_c593_11ea_bab4_040e3c9252bfrow3_col11 {\n",
       "            background-color:  #5f7fe8;\n",
       "            color:  #000000;\n",
       "        }    #T_8e167157_c593_11ea_bab4_040e3c9252bfrow3_col12 {\n",
       "            background-color:  #516ddb;\n",
       "            color:  #000000;\n",
       "        }    #T_8e167157_c593_11ea_bab4_040e3c9252bfrow3_col13 {\n",
       "            background-color:  #b7cff9;\n",
       "            color:  #000000;\n",
       "        }    #T_8e167157_c593_11ea_bab4_040e3c9252bfrow3_col14 {\n",
       "            background-color:  #688aef;\n",
       "            color:  #000000;\n",
       "        }    #T_8e167157_c593_11ea_bab4_040e3c9252bfrow3_col15 {\n",
       "            background-color:  #f2c9b4;\n",
       "            color:  #000000;\n",
       "        }    #T_8e167157_c593_11ea_bab4_040e3c9252bfrow3_col16 {\n",
       "            background-color:  #f6bda2;\n",
       "            color:  #000000;\n",
       "        }    #T_8e167157_c593_11ea_bab4_040e3c9252bfrow3_col17 {\n",
       "            background-color:  #f7bca1;\n",
       "            color:  #000000;\n",
       "        }    #T_8e167157_c593_11ea_bab4_040e3c9252bfrow3_col18 {\n",
       "            background-color:  #80a3fa;\n",
       "            color:  #000000;\n",
       "        }    #T_8e167157_c593_11ea_bab4_040e3c9252bfrow3_col19 {\n",
       "            background-color:  #779af7;\n",
       "            color:  #000000;\n",
       "        }    #T_8e167157_c593_11ea_bab4_040e3c9252bfrow4_col0 {\n",
       "            background-color:  #536edd;\n",
       "            color:  #000000;\n",
       "        }    #T_8e167157_c593_11ea_bab4_040e3c9252bfrow4_col1 {\n",
       "            background-color:  #f6bda2;\n",
       "            color:  #000000;\n",
       "        }    #T_8e167157_c593_11ea_bab4_040e3c9252bfrow4_col2 {\n",
       "            background-color:  #9dbdff;\n",
       "            color:  #000000;\n",
       "        }    #T_8e167157_c593_11ea_bab4_040e3c9252bfrow4_col3 {\n",
       "            background-color:  #5673e0;\n",
       "            color:  #000000;\n",
       "        }    #T_8e167157_c593_11ea_bab4_040e3c9252bfrow4_col4 {\n",
       "            background-color:  #b40426;\n",
       "            color:  #f1f1f1;\n",
       "        }    #T_8e167157_c593_11ea_bab4_040e3c9252bfrow4_col5 {\n",
       "            background-color:  #d6dce4;\n",
       "            color:  #000000;\n",
       "        }    #T_8e167157_c593_11ea_bab4_040e3c9252bfrow4_col6 {\n",
       "            background-color:  #90b2fe;\n",
       "            color:  #000000;\n",
       "        }    #T_8e167157_c593_11ea_bab4_040e3c9252bfrow4_col7 {\n",
       "            background-color:  #5a78e4;\n",
       "            color:  #000000;\n",
       "        }    #T_8e167157_c593_11ea_bab4_040e3c9252bfrow4_col8 {\n",
       "            background-color:  #edd2c3;\n",
       "            color:  #000000;\n",
       "        }    #T_8e167157_c593_11ea_bab4_040e3c9252bfrow4_col9 {\n",
       "            background-color:  #5977e3;\n",
       "            color:  #000000;\n",
       "        }    #T_8e167157_c593_11ea_bab4_040e3c9252bfrow4_col10 {\n",
       "            background-color:  #bcd2f7;\n",
       "            color:  #000000;\n",
       "        }    #T_8e167157_c593_11ea_bab4_040e3c9252bfrow4_col11 {\n",
       "            background-color:  #d1dae9;\n",
       "            color:  #000000;\n",
       "        }    #T_8e167157_c593_11ea_bab4_040e3c9252bfrow4_col12 {\n",
       "            background-color:  #bcd2f7;\n",
       "            color:  #000000;\n",
       "        }    #T_8e167157_c593_11ea_bab4_040e3c9252bfrow4_col13 {\n",
       "            background-color:  #a7c5fe;\n",
       "            color:  #000000;\n",
       "        }    #T_8e167157_c593_11ea_bab4_040e3c9252bfrow4_col14 {\n",
       "            background-color:  #dddcdc;\n",
       "            color:  #000000;\n",
       "        }    #T_8e167157_c593_11ea_bab4_040e3c9252bfrow4_col15 {\n",
       "            background-color:  #536edd;\n",
       "            color:  #000000;\n",
       "        }    #T_8e167157_c593_11ea_bab4_040e3c9252bfrow4_col16 {\n",
       "            background-color:  #4e68d8;\n",
       "            color:  #000000;\n",
       "        }    #T_8e167157_c593_11ea_bab4_040e3c9252bfrow4_col17 {\n",
       "            background-color:  #516ddb;\n",
       "            color:  #000000;\n",
       "        }    #T_8e167157_c593_11ea_bab4_040e3c9252bfrow4_col18 {\n",
       "            background-color:  #f4c5ad;\n",
       "            color:  #000000;\n",
       "        }    #T_8e167157_c593_11ea_bab4_040e3c9252bfrow4_col19 {\n",
       "            background-color:  #f7af91;\n",
       "            color:  #000000;\n",
       "        }    #T_8e167157_c593_11ea_bab4_040e3c9252bfrow5_col0 {\n",
       "            background-color:  #6a8bef;\n",
       "            color:  #000000;\n",
       "        }    #T_8e167157_c593_11ea_bab4_040e3c9252bfrow5_col1 {\n",
       "            background-color:  #f5c1a9;\n",
       "            color:  #000000;\n",
       "        }    #T_8e167157_c593_11ea_bab4_040e3c9252bfrow5_col2 {\n",
       "            background-color:  #93b5fe;\n",
       "            color:  #000000;\n",
       "        }    #T_8e167157_c593_11ea_bab4_040e3c9252bfrow5_col3 {\n",
       "            background-color:  #5e7de7;\n",
       "            color:  #000000;\n",
       "        }    #T_8e167157_c593_11ea_bab4_040e3c9252bfrow5_col4 {\n",
       "            background-color:  #e7d7ce;\n",
       "            color:  #000000;\n",
       "        }    #T_8e167157_c593_11ea_bab4_040e3c9252bfrow5_col5 {\n",
       "            background-color:  #b40426;\n",
       "            color:  #f1f1f1;\n",
       "        }    #T_8e167157_c593_11ea_bab4_040e3c9252bfrow5_col6 {\n",
       "            background-color:  #7da0f9;\n",
       "            color:  #000000;\n",
       "        }    #T_8e167157_c593_11ea_bab4_040e3c9252bfrow5_col7 {\n",
       "            background-color:  #5977e3;\n",
       "            color:  #000000;\n",
       "        }    #T_8e167157_c593_11ea_bab4_040e3c9252bfrow5_col8 {\n",
       "            background-color:  #dddcdc;\n",
       "            color:  #000000;\n",
       "        }    #T_8e167157_c593_11ea_bab4_040e3c9252bfrow5_col9 {\n",
       "            background-color:  #5f7fe8;\n",
       "            color:  #000000;\n",
       "        }    #T_8e167157_c593_11ea_bab4_040e3c9252bfrow5_col10 {\n",
       "            background-color:  #a9c6fd;\n",
       "            color:  #000000;\n",
       "        }    #T_8e167157_c593_11ea_bab4_040e3c9252bfrow5_col11 {\n",
       "            background-color:  #b2ccfb;\n",
       "            color:  #000000;\n",
       "        }    #T_8e167157_c593_11ea_bab4_040e3c9252bfrow5_col12 {\n",
       "            background-color:  #a9c6fd;\n",
       "            color:  #000000;\n",
       "        }    #T_8e167157_c593_11ea_bab4_040e3c9252bfrow5_col13 {\n",
       "            background-color:  #9dbdff;\n",
       "            color:  #000000;\n",
       "        }    #T_8e167157_c593_11ea_bab4_040e3c9252bfrow5_col14 {\n",
       "            background-color:  #cf453c;\n",
       "            color:  #f1f1f1;\n",
       "        }    #T_8e167157_c593_11ea_bab4_040e3c9252bfrow5_col15 {\n",
       "            background-color:  #5572df;\n",
       "            color:  #000000;\n",
       "        }    #T_8e167157_c593_11ea_bab4_040e3c9252bfrow5_col16 {\n",
       "            background-color:  #7597f6;\n",
       "            color:  #000000;\n",
       "        }    #T_8e167157_c593_11ea_bab4_040e3c9252bfrow5_col17 {\n",
       "            background-color:  #7699f6;\n",
       "            color:  #000000;\n",
       "        }    #T_8e167157_c593_11ea_bab4_040e3c9252bfrow5_col18 {\n",
       "            background-color:  #eed0c0;\n",
       "            color:  #000000;\n",
       "        }    #T_8e167157_c593_11ea_bab4_040e3c9252bfrow5_col19 {\n",
       "            background-color:  #f0cdbb;\n",
       "            color:  #000000;\n",
       "        }    #T_8e167157_c593_11ea_bab4_040e3c9252bfrow6_col0 {\n",
       "            background-color:  #81a4fb;\n",
       "            color:  #000000;\n",
       "        }    #T_8e167157_c593_11ea_bab4_040e3c9252bfrow6_col1 {\n",
       "            background-color:  #ebd3c6;\n",
       "            color:  #000000;\n",
       "        }    #T_8e167157_c593_11ea_bab4_040e3c9252bfrow6_col2 {\n",
       "            background-color:  #a3c2fe;\n",
       "            color:  #000000;\n",
       "        }    #T_8e167157_c593_11ea_bab4_040e3c9252bfrow6_col3 {\n",
       "            background-color:  #3b4cc0;\n",
       "            color:  #f1f1f1;\n",
       "        }    #T_8e167157_c593_11ea_bab4_040e3c9252bfrow6_col4 {\n",
       "            background-color:  #b3cdfb;\n",
       "            color:  #000000;\n",
       "        }    #T_8e167157_c593_11ea_bab4_040e3c9252bfrow6_col5 {\n",
       "            background-color:  #81a4fb;\n",
       "            color:  #000000;\n",
       "        }    #T_8e167157_c593_11ea_bab4_040e3c9252bfrow6_col6 {\n",
       "            background-color:  #b40426;\n",
       "            color:  #f1f1f1;\n",
       "        }    #T_8e167157_c593_11ea_bab4_040e3c9252bfrow6_col7 {\n",
       "            background-color:  #485fd1;\n",
       "            color:  #f1f1f1;\n",
       "        }    #T_8e167157_c593_11ea_bab4_040e3c9252bfrow6_col8 {\n",
       "            background-color:  #cfdaea;\n",
       "            color:  #000000;\n",
       "        }    #T_8e167157_c593_11ea_bab4_040e3c9252bfrow6_col9 {\n",
       "            background-color:  #3b4cc0;\n",
       "            color:  #f1f1f1;\n",
       "        }    #T_8e167157_c593_11ea_bab4_040e3c9252bfrow6_col10 {\n",
       "            background-color:  #f1ccb8;\n",
       "            color:  #000000;\n",
       "        }    #T_8e167157_c593_11ea_bab4_040e3c9252bfrow6_col11 {\n",
       "            background-color:  #96b7ff;\n",
       "            color:  #000000;\n",
       "        }    #T_8e167157_c593_11ea_bab4_040e3c9252bfrow6_col12 {\n",
       "            background-color:  #f7af91;\n",
       "            color:  #000000;\n",
       "        }    #T_8e167157_c593_11ea_bab4_040e3c9252bfrow6_col13 {\n",
       "            background-color:  #98b9ff;\n",
       "            color:  #000000;\n",
       "        }    #T_8e167157_c593_11ea_bab4_040e3c9252bfrow6_col14 {\n",
       "            background-color:  #9dbdff;\n",
       "            color:  #000000;\n",
       "        }    #T_8e167157_c593_11ea_bab4_040e3c9252bfrow6_col15 {\n",
       "            background-color:  #3b4cc0;\n",
       "            color:  #f1f1f1;\n",
       "        }    #T_8e167157_c593_11ea_bab4_040e3c9252bfrow6_col16 {\n",
       "            background-color:  #93b5fe;\n",
       "            color:  #000000;\n",
       "        }    #T_8e167157_c593_11ea_bab4_040e3c9252bfrow6_col17 {\n",
       "            background-color:  #93b5fe;\n",
       "            color:  #000000;\n",
       "        }    #T_8e167157_c593_11ea_bab4_040e3c9252bfrow6_col18 {\n",
       "            background-color:  #cfdaea;\n",
       "            color:  #000000;\n",
       "        }    #T_8e167157_c593_11ea_bab4_040e3c9252bfrow6_col19 {\n",
       "            background-color:  #d6dce4;\n",
       "            color:  #000000;\n",
       "        }    #T_8e167157_c593_11ea_bab4_040e3c9252bfrow7_col0 {\n",
       "            background-color:  #4961d2;\n",
       "            color:  #f1f1f1;\n",
       "        }    #T_8e167157_c593_11ea_bab4_040e3c9252bfrow7_col1 {\n",
       "            background-color:  #a5c3fe;\n",
       "            color:  #000000;\n",
       "        }    #T_8e167157_c593_11ea_bab4_040e3c9252bfrow7_col2 {\n",
       "            background-color:  #c9d7f0;\n",
       "            color:  #000000;\n",
       "        }    #T_8e167157_c593_11ea_bab4_040e3c9252bfrow7_col3 {\n",
       "            background-color:  #f1cdba;\n",
       "            color:  #000000;\n",
       "        }    #T_8e167157_c593_11ea_bab4_040e3c9252bfrow7_col4 {\n",
       "            background-color:  #92b4fe;\n",
       "            color:  #000000;\n",
       "        }    #T_8e167157_c593_11ea_bab4_040e3c9252bfrow7_col5 {\n",
       "            background-color:  #6c8ff1;\n",
       "            color:  #000000;\n",
       "        }    #T_8e167157_c593_11ea_bab4_040e3c9252bfrow7_col6 {\n",
       "            background-color:  #5673e0;\n",
       "            color:  #000000;\n",
       "        }    #T_8e167157_c593_11ea_bab4_040e3c9252bfrow7_col7 {\n",
       "            background-color:  #b40426;\n",
       "            color:  #f1f1f1;\n",
       "        }    #T_8e167157_c593_11ea_bab4_040e3c9252bfrow7_col8 {\n",
       "            background-color:  #88abfd;\n",
       "            color:  #000000;\n",
       "        }    #T_8e167157_c593_11ea_bab4_040e3c9252bfrow7_col9 {\n",
       "            background-color:  #f2cab5;\n",
       "            color:  #000000;\n",
       "        }    #T_8e167157_c593_11ea_bab4_040e3c9252bfrow7_col10 {\n",
       "            background-color:  #5b7ae5;\n",
       "            color:  #000000;\n",
       "        }    #T_8e167157_c593_11ea_bab4_040e3c9252bfrow7_col11 {\n",
       "            background-color:  #6687ed;\n",
       "            color:  #000000;\n",
       "        }    #T_8e167157_c593_11ea_bab4_040e3c9252bfrow7_col12 {\n",
       "            background-color:  #5a78e4;\n",
       "            color:  #000000;\n",
       "        }    #T_8e167157_c593_11ea_bab4_040e3c9252bfrow7_col13 {\n",
       "            background-color:  #b9d0f9;\n",
       "            color:  #000000;\n",
       "        }    #T_8e167157_c593_11ea_bab4_040e3c9252bfrow7_col14 {\n",
       "            background-color:  #7093f3;\n",
       "            color:  #000000;\n",
       "        }    #T_8e167157_c593_11ea_bab4_040e3c9252bfrow7_col15 {\n",
       "            background-color:  #aec9fc;\n",
       "            color:  #000000;\n",
       "        }    #T_8e167157_c593_11ea_bab4_040e3c9252bfrow7_col16 {\n",
       "            background-color:  #dbdcde;\n",
       "            color:  #000000;\n",
       "        }    #T_8e167157_c593_11ea_bab4_040e3c9252bfrow7_col17 {\n",
       "            background-color:  #dbdcde;\n",
       "            color:  #000000;\n",
       "        }    #T_8e167157_c593_11ea_bab4_040e3c9252bfrow7_col18 {\n",
       "            background-color:  #84a7fc;\n",
       "            color:  #000000;\n",
       "        }    #T_8e167157_c593_11ea_bab4_040e3c9252bfrow7_col19 {\n",
       "            background-color:  #85a8fc;\n",
       "            color:  #000000;\n",
       "        }    #T_8e167157_c593_11ea_bab4_040e3c9252bfrow8_col0 {\n",
       "            background-color:  #80a3fa;\n",
       "            color:  #000000;\n",
       "        }    #T_8e167157_c593_11ea_bab4_040e3c9252bfrow8_col1 {\n",
       "            background-color:  #f59c7d;\n",
       "            color:  #000000;\n",
       "        }    #T_8e167157_c593_11ea_bab4_040e3c9252bfrow8_col2 {\n",
       "            background-color:  #7597f6;\n",
       "            color:  #000000;\n",
       "        }    #T_8e167157_c593_11ea_bab4_040e3c9252bfrow8_col3 {\n",
       "            background-color:  #3b4cc0;\n",
       "            color:  #f1f1f1;\n",
       "        }    #T_8e167157_c593_11ea_bab4_040e3c9252bfrow8_col4 {\n",
       "            background-color:  #e6d7cf;\n",
       "            color:  #000000;\n",
       "        }    #T_8e167157_c593_11ea_bab4_040e3c9252bfrow8_col5 {\n",
       "            background-color:  #bcd2f7;\n",
       "            color:  #000000;\n",
       "        }    #T_8e167157_c593_11ea_bab4_040e3c9252bfrow8_col6 {\n",
       "            background-color:  #a3c2fe;\n",
       "            color:  #000000;\n",
       "        }    #T_8e167157_c593_11ea_bab4_040e3c9252bfrow8_col7 {\n",
       "            background-color:  #3b4cc0;\n",
       "            color:  #f1f1f1;\n",
       "        }    #T_8e167157_c593_11ea_bab4_040e3c9252bfrow8_col8 {\n",
       "            background-color:  #b40426;\n",
       "            color:  #f1f1f1;\n",
       "        }    #T_8e167157_c593_11ea_bab4_040e3c9252bfrow8_col9 {\n",
       "            background-color:  #3b4cc0;\n",
       "            color:  #f1f1f1;\n",
       "        }    #T_8e167157_c593_11ea_bab4_040e3c9252bfrow8_col10 {\n",
       "            background-color:  #ccd9ed;\n",
       "            color:  #000000;\n",
       "        }    #T_8e167157_c593_11ea_bab4_040e3c9252bfrow8_col11 {\n",
       "            background-color:  #c3d5f4;\n",
       "            color:  #000000;\n",
       "        }    #T_8e167157_c593_11ea_bab4_040e3c9252bfrow8_col12 {\n",
       "            background-color:  #ccd9ed;\n",
       "            color:  #000000;\n",
       "        }    #T_8e167157_c593_11ea_bab4_040e3c9252bfrow8_col13 {\n",
       "            background-color:  #7b9ff9;\n",
       "            color:  #000000;\n",
       "        }    #T_8e167157_c593_11ea_bab4_040e3c9252bfrow8_col14 {\n",
       "            background-color:  #d3dbe7;\n",
       "            color:  #000000;\n",
       "        }    #T_8e167157_c593_11ea_bab4_040e3c9252bfrow8_col15 {\n",
       "            background-color:  #485fd1;\n",
       "            color:  #f1f1f1;\n",
       "        }    #T_8e167157_c593_11ea_bab4_040e3c9252bfrow8_col16 {\n",
       "            background-color:  #3b4cc0;\n",
       "            color:  #f1f1f1;\n",
       "        }    #T_8e167157_c593_11ea_bab4_040e3c9252bfrow8_col17 {\n",
       "            background-color:  #3b4cc0;\n",
       "            color:  #f1f1f1;\n",
       "        }    #T_8e167157_c593_11ea_bab4_040e3c9252bfrow8_col18 {\n",
       "            background-color:  #f7b99e;\n",
       "            color:  #000000;\n",
       "        }    #T_8e167157_c593_11ea_bab4_040e3c9252bfrow8_col19 {\n",
       "            background-color:  #f7ac8e;\n",
       "            color:  #000000;\n",
       "        }    #T_8e167157_c593_11ea_bab4_040e3c9252bfrow9_col0 {\n",
       "            background-color:  #5470de;\n",
       "            color:  #000000;\n",
       "        }    #T_8e167157_c593_11ea_bab4_040e3c9252bfrow9_col1 {\n",
       "            background-color:  #97b8ff;\n",
       "            color:  #000000;\n",
       "        }    #T_8e167157_c593_11ea_bab4_040e3c9252bfrow9_col2 {\n",
       "            background-color:  #d4dbe6;\n",
       "            color:  #000000;\n",
       "        }    #T_8e167157_c593_11ea_bab4_040e3c9252bfrow9_col3 {\n",
       "            background-color:  #b40426;\n",
       "            color:  #f1f1f1;\n",
       "        }    #T_8e167157_c593_11ea_bab4_040e3c9252bfrow9_col4 {\n",
       "            background-color:  #84a7fc;\n",
       "            color:  #000000;\n",
       "        }    #T_8e167157_c593_11ea_bab4_040e3c9252bfrow9_col5 {\n",
       "            background-color:  #6384eb;\n",
       "            color:  #000000;\n",
       "        }    #T_8e167157_c593_11ea_bab4_040e3c9252bfrow9_col6 {\n",
       "            background-color:  #3b4cc0;\n",
       "            color:  #f1f1f1;\n",
       "        }    #T_8e167157_c593_11ea_bab4_040e3c9252bfrow9_col7 {\n",
       "            background-color:  #efcfbf;\n",
       "            color:  #000000;\n",
       "        }    #T_8e167157_c593_11ea_bab4_040e3c9252bfrow9_col8 {\n",
       "            background-color:  #799cf8;\n",
       "            color:  #000000;\n",
       "        }    #T_8e167157_c593_11ea_bab4_040e3c9252bfrow9_col9 {\n",
       "            background-color:  #b40426;\n",
       "            color:  #f1f1f1;\n",
       "        }    #T_8e167157_c593_11ea_bab4_040e3c9252bfrow9_col10 {\n",
       "            background-color:  #4f69d9;\n",
       "            color:  #000000;\n",
       "        }    #T_8e167157_c593_11ea_bab4_040e3c9252bfrow9_col11 {\n",
       "            background-color:  #5f7fe8;\n",
       "            color:  #000000;\n",
       "        }    #T_8e167157_c593_11ea_bab4_040e3c9252bfrow9_col12 {\n",
       "            background-color:  #4c66d6;\n",
       "            color:  #000000;\n",
       "        }    #T_8e167157_c593_11ea_bab4_040e3c9252bfrow9_col13 {\n",
       "            background-color:  #bad0f8;\n",
       "            color:  #000000;\n",
       "        }    #T_8e167157_c593_11ea_bab4_040e3c9252bfrow9_col14 {\n",
       "            background-color:  #6788ee;\n",
       "            color:  #000000;\n",
       "        }    #T_8e167157_c593_11ea_bab4_040e3c9252bfrow9_col15 {\n",
       "            background-color:  #f1ccb8;\n",
       "            color:  #000000;\n",
       "        }    #T_8e167157_c593_11ea_bab4_040e3c9252bfrow9_col16 {\n",
       "            background-color:  #f6bda2;\n",
       "            color:  #000000;\n",
       "        }    #T_8e167157_c593_11ea_bab4_040e3c9252bfrow9_col17 {\n",
       "            background-color:  #f7ba9f;\n",
       "            color:  #000000;\n",
       "        }    #T_8e167157_c593_11ea_bab4_040e3c9252bfrow9_col18 {\n",
       "            background-color:  #7b9ff9;\n",
       "            color:  #000000;\n",
       "        }    #T_8e167157_c593_11ea_bab4_040e3c9252bfrow9_col19 {\n",
       "            background-color:  #7597f6;\n",
       "            color:  #000000;\n",
       "        }    #T_8e167157_c593_11ea_bab4_040e3c9252bfrow10_col0 {\n",
       "            background-color:  #7da0f9;\n",
       "            color:  #000000;\n",
       "        }    #T_8e167157_c593_11ea_bab4_040e3c9252bfrow10_col1 {\n",
       "            background-color:  #f7b194;\n",
       "            color:  #000000;\n",
       "        }    #T_8e167157_c593_11ea_bab4_040e3c9252bfrow10_col2 {\n",
       "            background-color:  #8caffe;\n",
       "            color:  #000000;\n",
       "        }    #T_8e167157_c593_11ea_bab4_040e3c9252bfrow10_col3 {\n",
       "            background-color:  #485fd1;\n",
       "            color:  #f1f1f1;\n",
       "        }    #T_8e167157_c593_11ea_bab4_040e3c9252bfrow10_col4 {\n",
       "            background-color:  #d1dae9;\n",
       "            color:  #000000;\n",
       "        }    #T_8e167157_c593_11ea_bab4_040e3c9252bfrow10_col5 {\n",
       "            background-color:  #a5c3fe;\n",
       "            color:  #000000;\n",
       "        }    #T_8e167157_c593_11ea_bab4_040e3c9252bfrow10_col6 {\n",
       "            background-color:  #efcfbf;\n",
       "            color:  #000000;\n",
       "        }    #T_8e167157_c593_11ea_bab4_040e3c9252bfrow10_col7 {\n",
       "            background-color:  #445acc;\n",
       "            color:  #f1f1f1;\n",
       "        }    #T_8e167157_c593_11ea_bab4_040e3c9252bfrow10_col8 {\n",
       "            background-color:  #e6d7cf;\n",
       "            color:  #000000;\n",
       "        }    #T_8e167157_c593_11ea_bab4_040e3c9252bfrow10_col9 {\n",
       "            background-color:  #465ecf;\n",
       "            color:  #f1f1f1;\n",
       "        }    #T_8e167157_c593_11ea_bab4_040e3c9252bfrow10_col10 {\n",
       "            background-color:  #b40426;\n",
       "            color:  #f1f1f1;\n",
       "        }    #T_8e167157_c593_11ea_bab4_040e3c9252bfrow10_col11 {\n",
       "            background-color:  #aac7fd;\n",
       "            color:  #000000;\n",
       "        }    #T_8e167157_c593_11ea_bab4_040e3c9252bfrow10_col12 {\n",
       "            background-color:  #f59c7d;\n",
       "            color:  #000000;\n",
       "        }    #T_8e167157_c593_11ea_bab4_040e3c9252bfrow10_col13 {\n",
       "            background-color:  #8fb1fe;\n",
       "            color:  #000000;\n",
       "        }    #T_8e167157_c593_11ea_bab4_040e3c9252bfrow10_col14 {\n",
       "            background-color:  #bed2f6;\n",
       "            color:  #000000;\n",
       "        }    #T_8e167157_c593_11ea_bab4_040e3c9252bfrow10_col15 {\n",
       "            background-color:  #516ddb;\n",
       "            color:  #000000;\n",
       "        }    #T_8e167157_c593_11ea_bab4_040e3c9252bfrow10_col16 {\n",
       "            background-color:  #7b9ff9;\n",
       "            color:  #000000;\n",
       "        }    #T_8e167157_c593_11ea_bab4_040e3c9252bfrow10_col17 {\n",
       "            background-color:  #7da0f9;\n",
       "            color:  #000000;\n",
       "        }    #T_8e167157_c593_11ea_bab4_040e3c9252bfrow10_col18 {\n",
       "            background-color:  #eed0c0;\n",
       "            color:  #000000;\n",
       "        }    #T_8e167157_c593_11ea_bab4_040e3c9252bfrow10_col19 {\n",
       "            background-color:  #f2cab5;\n",
       "            color:  #000000;\n",
       "        }    #T_8e167157_c593_11ea_bab4_040e3c9252bfrow11_col0 {\n",
       "            background-color:  #7a9df8;\n",
       "            color:  #000000;\n",
       "        }    #T_8e167157_c593_11ea_bab4_040e3c9252bfrow11_col1 {\n",
       "            background-color:  #e7d7ce;\n",
       "            color:  #000000;\n",
       "        }    #T_8e167157_c593_11ea_bab4_040e3c9252bfrow11_col2 {\n",
       "            background-color:  #adc9fd;\n",
       "            color:  #000000;\n",
       "        }    #T_8e167157_c593_11ea_bab4_040e3c9252bfrow11_col3 {\n",
       "            background-color:  #536edd;\n",
       "            color:  #000000;\n",
       "        }    #T_8e167157_c593_11ea_bab4_040e3c9252bfrow11_col4 {\n",
       "            background-color:  #e0dbd8;\n",
       "            color:  #000000;\n",
       "        }    #T_8e167157_c593_11ea_bab4_040e3c9252bfrow11_col5 {\n",
       "            background-color:  #adc9fd;\n",
       "            color:  #000000;\n",
       "        }    #T_8e167157_c593_11ea_bab4_040e3c9252bfrow11_col6 {\n",
       "            background-color:  #8caffe;\n",
       "            color:  #000000;\n",
       "        }    #T_8e167157_c593_11ea_bab4_040e3c9252bfrow11_col7 {\n",
       "            background-color:  #4c66d6;\n",
       "            color:  #000000;\n",
       "        }    #T_8e167157_c593_11ea_bab4_040e3c9252bfrow11_col8 {\n",
       "            background-color:  #dedcdb;\n",
       "            color:  #000000;\n",
       "        }    #T_8e167157_c593_11ea_bab4_040e3c9252bfrow11_col9 {\n",
       "            background-color:  #5572df;\n",
       "            color:  #000000;\n",
       "        }    #T_8e167157_c593_11ea_bab4_040e3c9252bfrow11_col10 {\n",
       "            background-color:  #a9c6fd;\n",
       "            color:  #000000;\n",
       "        }    #T_8e167157_c593_11ea_bab4_040e3c9252bfrow11_col11 {\n",
       "            background-color:  #b40426;\n",
       "            color:  #f1f1f1;\n",
       "        }    #T_8e167157_c593_11ea_bab4_040e3c9252bfrow11_col12 {\n",
       "            background-color:  #adc9fd;\n",
       "            color:  #000000;\n",
       "        }    #T_8e167157_c593_11ea_bab4_040e3c9252bfrow11_col13 {\n",
       "            background-color:  #b2ccfb;\n",
       "            color:  #000000;\n",
       "        }    #T_8e167157_c593_11ea_bab4_040e3c9252bfrow11_col14 {\n",
       "            background-color:  #abc8fd;\n",
       "            color:  #000000;\n",
       "        }    #T_8e167157_c593_11ea_bab4_040e3c9252bfrow11_col15 {\n",
       "            background-color:  #465ecf;\n",
       "            color:  #f1f1f1;\n",
       "        }    #T_8e167157_c593_11ea_bab4_040e3c9252bfrow11_col16 {\n",
       "            background-color:  #6f92f3;\n",
       "            color:  #000000;\n",
       "        }    #T_8e167157_c593_11ea_bab4_040e3c9252bfrow11_col17 {\n",
       "            background-color:  #6f92f3;\n",
       "            color:  #000000;\n",
       "        }    #T_8e167157_c593_11ea_bab4_040e3c9252bfrow11_col18 {\n",
       "            background-color:  #c9d7f0;\n",
       "            color:  #000000;\n",
       "        }    #T_8e167157_c593_11ea_bab4_040e3c9252bfrow11_col19 {\n",
       "            background-color:  #dddcdc;\n",
       "            color:  #000000;\n",
       "        }    #T_8e167157_c593_11ea_bab4_040e3c9252bfrow12_col0 {\n",
       "            background-color:  #89acfd;\n",
       "            color:  #000000;\n",
       "        }    #T_8e167157_c593_11ea_bab4_040e3c9252bfrow12_col1 {\n",
       "            background-color:  #f7af91;\n",
       "            color:  #000000;\n",
       "        }    #T_8e167157_c593_11ea_bab4_040e3c9252bfrow12_col2 {\n",
       "            background-color:  #8caffe;\n",
       "            color:  #000000;\n",
       "        }    #T_8e167157_c593_11ea_bab4_040e3c9252bfrow12_col3 {\n",
       "            background-color:  #465ecf;\n",
       "            color:  #f1f1f1;\n",
       "        }    #T_8e167157_c593_11ea_bab4_040e3c9252bfrow12_col4 {\n",
       "            background-color:  #d2dbe8;\n",
       "            color:  #000000;\n",
       "        }    #T_8e167157_c593_11ea_bab4_040e3c9252bfrow12_col5 {\n",
       "            background-color:  #a5c3fe;\n",
       "            color:  #000000;\n",
       "        }    #T_8e167157_c593_11ea_bab4_040e3c9252bfrow12_col6 {\n",
       "            background-color:  #f7b194;\n",
       "            color:  #000000;\n",
       "        }    #T_8e167157_c593_11ea_bab4_040e3c9252bfrow12_col7 {\n",
       "            background-color:  #4358cb;\n",
       "            color:  #f1f1f1;\n",
       "        }    #T_8e167157_c593_11ea_bab4_040e3c9252bfrow12_col8 {\n",
       "            background-color:  #e6d7cf;\n",
       "            color:  #000000;\n",
       "        }    #T_8e167157_c593_11ea_bab4_040e3c9252bfrow12_col9 {\n",
       "            background-color:  #445acc;\n",
       "            color:  #f1f1f1;\n",
       "        }    #T_8e167157_c593_11ea_bab4_040e3c9252bfrow12_col10 {\n",
       "            background-color:  #f59c7d;\n",
       "            color:  #000000;\n",
       "        }    #T_8e167157_c593_11ea_bab4_040e3c9252bfrow12_col11 {\n",
       "            background-color:  #aec9fc;\n",
       "            color:  #000000;\n",
       "        }    #T_8e167157_c593_11ea_bab4_040e3c9252bfrow12_col12 {\n",
       "            background-color:  #b40426;\n",
       "            color:  #f1f1f1;\n",
       "        }    #T_8e167157_c593_11ea_bab4_040e3c9252bfrow12_col13 {\n",
       "            background-color:  #8db0fe;\n",
       "            color:  #000000;\n",
       "        }    #T_8e167157_c593_11ea_bab4_040e3c9252bfrow12_col14 {\n",
       "            background-color:  #bbd1f8;\n",
       "            color:  #000000;\n",
       "        }    #T_8e167157_c593_11ea_bab4_040e3c9252bfrow12_col15 {\n",
       "            background-color:  #5470de;\n",
       "            color:  #000000;\n",
       "        }    #T_8e167157_c593_11ea_bab4_040e3c9252bfrow12_col16 {\n",
       "            background-color:  #7a9df8;\n",
       "            color:  #000000;\n",
       "        }    #T_8e167157_c593_11ea_bab4_040e3c9252bfrow12_col17 {\n",
       "            background-color:  #7da0f9;\n",
       "            color:  #000000;\n",
       "        }    #T_8e167157_c593_11ea_bab4_040e3c9252bfrow12_col18 {\n",
       "            background-color:  #f0cdbb;\n",
       "            color:  #000000;\n",
       "        }    #T_8e167157_c593_11ea_bab4_040e3c9252bfrow12_col19 {\n",
       "            background-color:  #f3c8b2;\n",
       "            color:  #000000;\n",
       "        }    #T_8e167157_c593_11ea_bab4_040e3c9252bfrow13_col0 {\n",
       "            background-color:  #3b4cc0;\n",
       "            color:  #f1f1f1;\n",
       "        }    #T_8e167157_c593_11ea_bab4_040e3c9252bfrow13_col1 {\n",
       "            background-color:  #5470de;\n",
       "            color:  #000000;\n",
       "        }    #T_8e167157_c593_11ea_bab4_040e3c9252bfrow13_col2 {\n",
       "            background-color:  #f6a586;\n",
       "            color:  #000000;\n",
       "        }    #T_8e167157_c593_11ea_bab4_040e3c9252bfrow13_col3 {\n",
       "            background-color:  #7da0f9;\n",
       "            color:  #000000;\n",
       "        }    #T_8e167157_c593_11ea_bab4_040e3c9252bfrow13_col4 {\n",
       "            background-color:  #93b5fe;\n",
       "            color:  #000000;\n",
       "        }    #T_8e167157_c593_11ea_bab4_040e3c9252bfrow13_col5 {\n",
       "            background-color:  #6180e9;\n",
       "            color:  #000000;\n",
       "        }    #T_8e167157_c593_11ea_bab4_040e3c9252bfrow13_col6 {\n",
       "            background-color:  #5977e3;\n",
       "            color:  #000000;\n",
       "        }    #T_8e167157_c593_11ea_bab4_040e3c9252bfrow13_col7 {\n",
       "            background-color:  #7396f5;\n",
       "            color:  #000000;\n",
       "        }    #T_8e167157_c593_11ea_bab4_040e3c9252bfrow13_col8 {\n",
       "            background-color:  #779af7;\n",
       "            color:  #000000;\n",
       "        }    #T_8e167157_c593_11ea_bab4_040e3c9252bfrow13_col9 {\n",
       "            background-color:  #84a7fc;\n",
       "            color:  #000000;\n",
       "        }    #T_8e167157_c593_11ea_bab4_040e3c9252bfrow13_col10 {\n",
       "            background-color:  #5673e0;\n",
       "            color:  #000000;\n",
       "        }    #T_8e167157_c593_11ea_bab4_040e3c9252bfrow13_col11 {\n",
       "            background-color:  #82a6fb;\n",
       "            color:  #000000;\n",
       "        }    #T_8e167157_c593_11ea_bab4_040e3c9252bfrow13_col12 {\n",
       "            background-color:  #5572df;\n",
       "            color:  #000000;\n",
       "        }    #T_8e167157_c593_11ea_bab4_040e3c9252bfrow13_col13 {\n",
       "            background-color:  #b40426;\n",
       "            color:  #f1f1f1;\n",
       "        }    #T_8e167157_c593_11ea_bab4_040e3c9252bfrow13_col14 {\n",
       "            background-color:  #6180e9;\n",
       "            color:  #000000;\n",
       "        }    #T_8e167157_c593_11ea_bab4_040e3c9252bfrow13_col15 {\n",
       "            background-color:  #5470de;\n",
       "            color:  #000000;\n",
       "        }    #T_8e167157_c593_11ea_bab4_040e3c9252bfrow13_col16 {\n",
       "            background-color:  #d7dce3;\n",
       "            color:  #000000;\n",
       "        }    #T_8e167157_c593_11ea_bab4_040e3c9252bfrow13_col17 {\n",
       "            background-color:  #d8dce2;\n",
       "            color:  #000000;\n",
       "        }    #T_8e167157_c593_11ea_bab4_040e3c9252bfrow13_col18 {\n",
       "            background-color:  #6788ee;\n",
       "            color:  #000000;\n",
       "        }    #T_8e167157_c593_11ea_bab4_040e3c9252bfrow13_col19 {\n",
       "            background-color:  #7295f4;\n",
       "            color:  #000000;\n",
       "        }    #T_8e167157_c593_11ea_bab4_040e3c9252bfrow14_col0 {\n",
       "            background-color:  #80a3fa;\n",
       "            color:  #000000;\n",
       "        }    #T_8e167157_c593_11ea_bab4_040e3c9252bfrow14_col1 {\n",
       "            background-color:  #f7b396;\n",
       "            color:  #000000;\n",
       "        }    #T_8e167157_c593_11ea_bab4_040e3c9252bfrow14_col2 {\n",
       "            background-color:  #88abfd;\n",
       "            color:  #000000;\n",
       "        }    #T_8e167157_c593_11ea_bab4_040e3c9252bfrow14_col3 {\n",
       "            background-color:  #5875e1;\n",
       "            color:  #000000;\n",
       "        }    #T_8e167157_c593_11ea_bab4_040e3c9252bfrow14_col4 {\n",
       "            background-color:  #e9d5cb;\n",
       "            color:  #000000;\n",
       "        }    #T_8e167157_c593_11ea_bab4_040e3c9252bfrow14_col5 {\n",
       "            background-color:  #d0473d;\n",
       "            color:  #f1f1f1;\n",
       "        }    #T_8e167157_c593_11ea_bab4_040e3c9252bfrow14_col6 {\n",
       "            background-color:  #90b2fe;\n",
       "            color:  #000000;\n",
       "        }    #T_8e167157_c593_11ea_bab4_040e3c9252bfrow14_col7 {\n",
       "            background-color:  #5470de;\n",
       "            color:  #000000;\n",
       "        }    #T_8e167157_c593_11ea_bab4_040e3c9252bfrow14_col8 {\n",
       "            background-color:  #e9d5cb;\n",
       "            color:  #000000;\n",
       "        }    #T_8e167157_c593_11ea_bab4_040e3c9252bfrow14_col9 {\n",
       "            background-color:  #5977e3;\n",
       "            color:  #000000;\n",
       "        }    #T_8e167157_c593_11ea_bab4_040e3c9252bfrow14_col10 {\n",
       "            background-color:  #bad0f8;\n",
       "            color:  #000000;\n",
       "        }    #T_8e167157_c593_11ea_bab4_040e3c9252bfrow14_col11 {\n",
       "            background-color:  #a9c6fd;\n",
       "            color:  #000000;\n",
       "        }    #T_8e167157_c593_11ea_bab4_040e3c9252bfrow14_col12 {\n",
       "            background-color:  #b7cff9;\n",
       "            color:  #000000;\n",
       "        }    #T_8e167157_c593_11ea_bab4_040e3c9252bfrow14_col13 {\n",
       "            background-color:  #94b6ff;\n",
       "            color:  #000000;\n",
       "        }    #T_8e167157_c593_11ea_bab4_040e3c9252bfrow14_col14 {\n",
       "            background-color:  #b40426;\n",
       "            color:  #f1f1f1;\n",
       "        }    #T_8e167157_c593_11ea_bab4_040e3c9252bfrow14_col15 {\n",
       "            background-color:  #5470de;\n",
       "            color:  #000000;\n",
       "        }    #T_8e167157_c593_11ea_bab4_040e3c9252bfrow14_col16 {\n",
       "            background-color:  #6c8ff1;\n",
       "            color:  #000000;\n",
       "        }    #T_8e167157_c593_11ea_bab4_040e3c9252bfrow14_col17 {\n",
       "            background-color:  #6c8ff1;\n",
       "            color:  #000000;\n",
       "        }    #T_8e167157_c593_11ea_bab4_040e3c9252bfrow14_col18 {\n",
       "            background-color:  #f5c2aa;\n",
       "            color:  #000000;\n",
       "        }    #T_8e167157_c593_11ea_bab4_040e3c9252bfrow14_col19 {\n",
       "            background-color:  #f5c4ac;\n",
       "            color:  #000000;\n",
       "        }    #T_8e167157_c593_11ea_bab4_040e3c9252bfrow15_col0 {\n",
       "            background-color:  #6687ed;\n",
       "            color:  #000000;\n",
       "        }    #T_8e167157_c593_11ea_bab4_040e3c9252bfrow15_col1 {\n",
       "            background-color:  #bfd3f6;\n",
       "            color:  #000000;\n",
       "        }    #T_8e167157_c593_11ea_bab4_040e3c9252bfrow15_col2 {\n",
       "            background-color:  #c1d4f4;\n",
       "            color:  #000000;\n",
       "        }    #T_8e167157_c593_11ea_bab4_040e3c9252bfrow15_col3 {\n",
       "            background-color:  #f5c0a7;\n",
       "            color:  #000000;\n",
       "        }    #T_8e167157_c593_11ea_bab4_040e3c9252bfrow15_col4 {\n",
       "            background-color:  #96b7ff;\n",
       "            color:  #000000;\n",
       "        }    #T_8e167157_c593_11ea_bab4_040e3c9252bfrow15_col5 {\n",
       "            background-color:  #7597f6;\n",
       "            color:  #000000;\n",
       "        }    #T_8e167157_c593_11ea_bab4_040e3c9252bfrow15_col6 {\n",
       "            background-color:  #5572df;\n",
       "            color:  #000000;\n",
       "        }    #T_8e167157_c593_11ea_bab4_040e3c9252bfrow15_col7 {\n",
       "            background-color:  #b9d0f9;\n",
       "            color:  #000000;\n",
       "        }    #T_8e167157_c593_11ea_bab4_040e3c9252bfrow15_col8 {\n",
       "            background-color:  #9fbfff;\n",
       "            color:  #000000;\n",
       "        }    #T_8e167157_c593_11ea_bab4_040e3c9252bfrow15_col9 {\n",
       "            background-color:  #f5c2aa;\n",
       "            color:  #000000;\n",
       "        }    #T_8e167157_c593_11ea_bab4_040e3c9252bfrow15_col10 {\n",
       "            background-color:  #7699f6;\n",
       "            color:  #000000;\n",
       "        }    #T_8e167157_c593_11ea_bab4_040e3c9252bfrow15_col11 {\n",
       "            background-color:  #6c8ff1;\n",
       "            color:  #000000;\n",
       "        }    #T_8e167157_c593_11ea_bab4_040e3c9252bfrow15_col12 {\n",
       "            background-color:  #799cf8;\n",
       "            color:  #000000;\n",
       "        }    #T_8e167157_c593_11ea_bab4_040e3c9252bfrow15_col13 {\n",
       "            background-color:  #abc8fd;\n",
       "            color:  #000000;\n",
       "        }    #T_8e167157_c593_11ea_bab4_040e3c9252bfrow15_col14 {\n",
       "            background-color:  #7da0f9;\n",
       "            color:  #000000;\n",
       "        }    #T_8e167157_c593_11ea_bab4_040e3c9252bfrow15_col15 {\n",
       "            background-color:  #b40426;\n",
       "            color:  #f1f1f1;\n",
       "        }    #T_8e167157_c593_11ea_bab4_040e3c9252bfrow15_col16 {\n",
       "            background-color:  #e0dbd8;\n",
       "            color:  #000000;\n",
       "        }    #T_8e167157_c593_11ea_bab4_040e3c9252bfrow15_col17 {\n",
       "            background-color:  #e0dbd8;\n",
       "            color:  #000000;\n",
       "        }    #T_8e167157_c593_11ea_bab4_040e3c9252bfrow15_col18 {\n",
       "            background-color:  #a1c0ff;\n",
       "            color:  #000000;\n",
       "        }    #T_8e167157_c593_11ea_bab4_040e3c9252bfrow15_col19 {\n",
       "            background-color:  #9fbfff;\n",
       "            color:  #000000;\n",
       "        }    #T_8e167157_c593_11ea_bab4_040e3c9252bfrow16_col0 {\n",
       "            background-color:  #5470de;\n",
       "            color:  #000000;\n",
       "        }    #T_8e167157_c593_11ea_bab4_040e3c9252bfrow16_col1 {\n",
       "            background-color:  #6384eb;\n",
       "            color:  #000000;\n",
       "        }    #T_8e167157_c593_11ea_bab4_040e3c9252bfrow16_col2 {\n",
       "            background-color:  #f0cdbb;\n",
       "            color:  #000000;\n",
       "        }    #T_8e167157_c593_11ea_bab4_040e3c9252bfrow16_col3 {\n",
       "            background-color:  #ecd3c5;\n",
       "            color:  #000000;\n",
       "        }    #T_8e167157_c593_11ea_bab4_040e3c9252bfrow16_col4 {\n",
       "            background-color:  #3b4cc0;\n",
       "            color:  #f1f1f1;\n",
       "        }    #T_8e167157_c593_11ea_bab4_040e3c9252bfrow16_col5 {\n",
       "            background-color:  #3b4cc0;\n",
       "            color:  #f1f1f1;\n",
       "        }    #T_8e167157_c593_11ea_bab4_040e3c9252bfrow16_col6 {\n",
       "            background-color:  #5673e0;\n",
       "            color:  #000000;\n",
       "        }    #T_8e167157_c593_11ea_bab4_040e3c9252bfrow16_col7 {\n",
       "            background-color:  #adc9fd;\n",
       "            color:  #000000;\n",
       "        }    #T_8e167157_c593_11ea_bab4_040e3c9252bfrow16_col8 {\n",
       "            background-color:  #3c4ec2;\n",
       "            color:  #f1f1f1;\n",
       "        }    #T_8e167157_c593_11ea_bab4_040e3c9252bfrow16_col9 {\n",
       "            background-color:  #edd2c3;\n",
       "            color:  #000000;\n",
       "        }    #T_8e167157_c593_11ea_bab4_040e3c9252bfrow16_col10 {\n",
       "            background-color:  #465ecf;\n",
       "            color:  #f1f1f1;\n",
       "        }    #T_8e167157_c593_11ea_bab4_040e3c9252bfrow16_col11 {\n",
       "            background-color:  #3c4ec2;\n",
       "            color:  #f1f1f1;\n",
       "        }    #T_8e167157_c593_11ea_bab4_040e3c9252bfrow16_col12 {\n",
       "            background-color:  #445acc;\n",
       "            color:  #f1f1f1;\n",
       "        }    #T_8e167157_c593_11ea_bab4_040e3c9252bfrow16_col13 {\n",
       "            background-color:  #dadce0;\n",
       "            color:  #000000;\n",
       "        }    #T_8e167157_c593_11ea_bab4_040e3c9252bfrow16_col14 {\n",
       "            background-color:  #3c4ec2;\n",
       "            color:  #f1f1f1;\n",
       "        }    #T_8e167157_c593_11ea_bab4_040e3c9252bfrow16_col15 {\n",
       "            background-color:  #abc8fd;\n",
       "            color:  #000000;\n",
       "        }    #T_8e167157_c593_11ea_bab4_040e3c9252bfrow16_col16 {\n",
       "            background-color:  #b40426;\n",
       "            color:  #f1f1f1;\n",
       "        }    #T_8e167157_c593_11ea_bab4_040e3c9252bfrow16_col17 {\n",
       "            background-color:  #c32e31;\n",
       "            color:  #f1f1f1;\n",
       "        }    #T_8e167157_c593_11ea_bab4_040e3c9252bfrow16_col18 {\n",
       "            background-color:  #4257c9;\n",
       "            color:  #f1f1f1;\n",
       "        }    #T_8e167157_c593_11ea_bab4_040e3c9252bfrow16_col19 {\n",
       "            background-color:  #3b4cc0;\n",
       "            color:  #f1f1f1;\n",
       "        }    #T_8e167157_c593_11ea_bab4_040e3c9252bfrow17_col0 {\n",
       "            background-color:  #536edd;\n",
       "            color:  #000000;\n",
       "        }    #T_8e167157_c593_11ea_bab4_040e3c9252bfrow17_col1 {\n",
       "            background-color:  #6384eb;\n",
       "            color:  #000000;\n",
       "        }    #T_8e167157_c593_11ea_bab4_040e3c9252bfrow17_col2 {\n",
       "            background-color:  #f1cdba;\n",
       "            color:  #000000;\n",
       "        }    #T_8e167157_c593_11ea_bab4_040e3c9252bfrow17_col3 {\n",
       "            background-color:  #edd2c3;\n",
       "            color:  #000000;\n",
       "        }    #T_8e167157_c593_11ea_bab4_040e3c9252bfrow17_col4 {\n",
       "            background-color:  #3d50c3;\n",
       "            color:  #f1f1f1;\n",
       "        }    #T_8e167157_c593_11ea_bab4_040e3c9252bfrow17_col5 {\n",
       "            background-color:  #3b4cc0;\n",
       "            color:  #f1f1f1;\n",
       "        }    #T_8e167157_c593_11ea_bab4_040e3c9252bfrow17_col6 {\n",
       "            background-color:  #5572df;\n",
       "            color:  #000000;\n",
       "        }    #T_8e167157_c593_11ea_bab4_040e3c9252bfrow17_col7 {\n",
       "            background-color:  #abc8fd;\n",
       "            color:  #000000;\n",
       "        }    #T_8e167157_c593_11ea_bab4_040e3c9252bfrow17_col8 {\n",
       "            background-color:  #3b4cc0;\n",
       "            color:  #f1f1f1;\n",
       "        }    #T_8e167157_c593_11ea_bab4_040e3c9252bfrow17_col9 {\n",
       "            background-color:  #edd1c2;\n",
       "            color:  #000000;\n",
       "        }    #T_8e167157_c593_11ea_bab4_040e3c9252bfrow17_col10 {\n",
       "            background-color:  #465ecf;\n",
       "            color:  #f1f1f1;\n",
       "        }    #T_8e167157_c593_11ea_bab4_040e3c9252bfrow17_col11 {\n",
       "            background-color:  #3b4cc0;\n",
       "            color:  #f1f1f1;\n",
       "        }    #T_8e167157_c593_11ea_bab4_040e3c9252bfrow17_col12 {\n",
       "            background-color:  #465ecf;\n",
       "            color:  #f1f1f1;\n",
       "        }    #T_8e167157_c593_11ea_bab4_040e3c9252bfrow17_col13 {\n",
       "            background-color:  #dadce0;\n",
       "            color:  #000000;\n",
       "        }    #T_8e167157_c593_11ea_bab4_040e3c9252bfrow17_col14 {\n",
       "            background-color:  #3b4cc0;\n",
       "            color:  #f1f1f1;\n",
       "        }    #T_8e167157_c593_11ea_bab4_040e3c9252bfrow17_col15 {\n",
       "            background-color:  #aac7fd;\n",
       "            color:  #000000;\n",
       "        }    #T_8e167157_c593_11ea_bab4_040e3c9252bfrow17_col16 {\n",
       "            background-color:  #c32e31;\n",
       "            color:  #f1f1f1;\n",
       "        }    #T_8e167157_c593_11ea_bab4_040e3c9252bfrow17_col17 {\n",
       "            background-color:  #b40426;\n",
       "            color:  #f1f1f1;\n",
       "        }    #T_8e167157_c593_11ea_bab4_040e3c9252bfrow17_col18 {\n",
       "            background-color:  #445acc;\n",
       "            color:  #f1f1f1;\n",
       "        }    #T_8e167157_c593_11ea_bab4_040e3c9252bfrow17_col19 {\n",
       "            background-color:  #3c4ec2;\n",
       "            color:  #f1f1f1;\n",
       "        }    #T_8e167157_c593_11ea_bab4_040e3c9252bfrow18_col0 {\n",
       "            background-color:  #aac7fd;\n",
       "            color:  #000000;\n",
       "        }    #T_8e167157_c593_11ea_bab4_040e3c9252bfrow18_col1 {\n",
       "            background-color:  #e67259;\n",
       "            color:  #000000;\n",
       "        }    #T_8e167157_c593_11ea_bab4_040e3c9252bfrow18_col2 {\n",
       "            background-color:  #6788ee;\n",
       "            color:  #000000;\n",
       "        }    #T_8e167157_c593_11ea_bab4_040e3c9252bfrow18_col3 {\n",
       "            background-color:  #4f69d9;\n",
       "            color:  #000000;\n",
       "        }    #T_8e167157_c593_11ea_bab4_040e3c9252bfrow18_col4 {\n",
       "            background-color:  #f3c7b1;\n",
       "            color:  #000000;\n",
       "        }    #T_8e167157_c593_11ea_bab4_040e3c9252bfrow18_col5 {\n",
       "            background-color:  #dedcdb;\n",
       "            color:  #000000;\n",
       "        }    #T_8e167157_c593_11ea_bab4_040e3c9252bfrow18_col6 {\n",
       "            background-color:  #afcafc;\n",
       "            color:  #000000;\n",
       "        }    #T_8e167157_c593_11ea_bab4_040e3c9252bfrow18_col7 {\n",
       "            background-color:  #465ecf;\n",
       "            color:  #f1f1f1;\n",
       "        }    #T_8e167157_c593_11ea_bab4_040e3c9252bfrow18_col8 {\n",
       "            background-color:  #f7b396;\n",
       "            color:  #000000;\n",
       "        }    #T_8e167157_c593_11ea_bab4_040e3c9252bfrow18_col9 {\n",
       "            background-color:  #4c66d6;\n",
       "            color:  #000000;\n",
       "        }    #T_8e167157_c593_11ea_bab4_040e3c9252bfrow18_col10 {\n",
       "            background-color:  #e0dbd8;\n",
       "            color:  #000000;\n",
       "        }    #T_8e167157_c593_11ea_bab4_040e3c9252bfrow18_col11 {\n",
       "            background-color:  #afcafc;\n",
       "            color:  #000000;\n",
       "        }    #T_8e167157_c593_11ea_bab4_040e3c9252bfrow18_col12 {\n",
       "            background-color:  #e4d9d2;\n",
       "            color:  #000000;\n",
       "        }    #T_8e167157_c593_11ea_bab4_040e3c9252bfrow18_col13 {\n",
       "            background-color:  #7a9df8;\n",
       "            color:  #000000;\n",
       "        }    #T_8e167157_c593_11ea_bab4_040e3c9252bfrow18_col14 {\n",
       "            background-color:  #efcebd;\n",
       "            color:  #000000;\n",
       "        }    #T_8e167157_c593_11ea_bab4_040e3c9252bfrow18_col15 {\n",
       "            background-color:  #5a78e4;\n",
       "            color:  #000000;\n",
       "        }    #T_8e167157_c593_11ea_bab4_040e3c9252bfrow18_col16 {\n",
       "            background-color:  #506bda;\n",
       "            color:  #000000;\n",
       "        }    #T_8e167157_c593_11ea_bab4_040e3c9252bfrow18_col17 {\n",
       "            background-color:  #5470de;\n",
       "            color:  #000000;\n",
       "        }    #T_8e167157_c593_11ea_bab4_040e3c9252bfrow18_col18 {\n",
       "            background-color:  #b40426;\n",
       "            color:  #f1f1f1;\n",
       "        }    #T_8e167157_c593_11ea_bab4_040e3c9252bfrow18_col19 {\n",
       "            background-color:  #e0654f;\n",
       "            color:  #000000;\n",
       "        }    #T_8e167157_c593_11ea_bab4_040e3c9252bfrow19_col0 {\n",
       "            background-color:  #a2c1ff;\n",
       "            color:  #000000;\n",
       "        }    #T_8e167157_c593_11ea_bab4_040e3c9252bfrow19_col1 {\n",
       "            background-color:  #e36b54;\n",
       "            color:  #000000;\n",
       "        }    #T_8e167157_c593_11ea_bab4_040e3c9252bfrow19_col2 {\n",
       "            background-color:  #6788ee;\n",
       "            color:  #000000;\n",
       "        }    #T_8e167157_c593_11ea_bab4_040e3c9252bfrow19_col3 {\n",
       "            background-color:  #4257c9;\n",
       "            color:  #f1f1f1;\n",
       "        }    #T_8e167157_c593_11ea_bab4_040e3c9252bfrow19_col4 {\n",
       "            background-color:  #f7b194;\n",
       "            color:  #000000;\n",
       "        }    #T_8e167157_c593_11ea_bab4_040e3c9252bfrow19_col5 {\n",
       "            background-color:  #e0dbd8;\n",
       "            color:  #000000;\n",
       "        }    #T_8e167157_c593_11ea_bab4_040e3c9252bfrow19_col6 {\n",
       "            background-color:  #b6cefa;\n",
       "            color:  #000000;\n",
       "        }    #T_8e167157_c593_11ea_bab4_040e3c9252bfrow19_col7 {\n",
       "            background-color:  #445acc;\n",
       "            color:  #f1f1f1;\n",
       "        }    #T_8e167157_c593_11ea_bab4_040e3c9252bfrow19_col8 {\n",
       "            background-color:  #f7a889;\n",
       "            color:  #000000;\n",
       "        }    #T_8e167157_c593_11ea_bab4_040e3c9252bfrow19_col9 {\n",
       "            background-color:  #4055c8;\n",
       "            color:  #f1f1f1;\n",
       "        }    #T_8e167157_c593_11ea_bab4_040e3c9252bfrow19_col10 {\n",
       "            background-color:  #e7d7ce;\n",
       "            color:  #000000;\n",
       "        }    #T_8e167157_c593_11ea_bab4_040e3c9252bfrow19_col11 {\n",
       "            background-color:  #c7d7f0;\n",
       "            color:  #000000;\n",
       "        }    #T_8e167157_c593_11ea_bab4_040e3c9252bfrow19_col12 {\n",
       "            background-color:  #e9d5cb;\n",
       "            color:  #000000;\n",
       "        }    #T_8e167157_c593_11ea_bab4_040e3c9252bfrow19_col13 {\n",
       "            background-color:  #80a3fa;\n",
       "            color:  #000000;\n",
       "        }    #T_8e167157_c593_11ea_bab4_040e3c9252bfrow19_col14 {\n",
       "            background-color:  #eed0c0;\n",
       "            color:  #000000;\n",
       "        }    #T_8e167157_c593_11ea_bab4_040e3c9252bfrow19_col15 {\n",
       "            background-color:  #536edd;\n",
       "            color:  #000000;\n",
       "        }    #T_8e167157_c593_11ea_bab4_040e3c9252bfrow19_col16 {\n",
       "            background-color:  #445acc;\n",
       "            color:  #f1f1f1;\n",
       "        }    #T_8e167157_c593_11ea_bab4_040e3c9252bfrow19_col17 {\n",
       "            background-color:  #485fd1;\n",
       "            color:  #f1f1f1;\n",
       "        }    #T_8e167157_c593_11ea_bab4_040e3c9252bfrow19_col18 {\n",
       "            background-color:  #e16751;\n",
       "            color:  #000000;\n",
       "        }    #T_8e167157_c593_11ea_bab4_040e3c9252bfrow19_col19 {\n",
       "            background-color:  #b40426;\n",
       "            color:  #f1f1f1;\n",
       "        }</style><table id=\"T_8e167157_c593_11ea_bab4_040e3c9252bf\" ><thead>    <tr>        <th class=\"blank level0\" ></th>        <th class=\"col_heading level0 col0\" >Year</th>        <th class=\"col_heading level0 col1\" >Life expectancy</th>        <th class=\"col_heading level0 col2\" >Adult Mortality</th>        <th class=\"col_heading level0 col3\" >infant deaths</th>        <th class=\"col_heading level0 col4\" >Alcohol</th>        <th class=\"col_heading level0 col5\" >percentage expenditure</th>        <th class=\"col_heading level0 col6\" >Hepatitis B</th>        <th class=\"col_heading level0 col7\" >Measles</th>        <th class=\"col_heading level0 col8\" >BMI</th>        <th class=\"col_heading level0 col9\" >under-five deaths</th>        <th class=\"col_heading level0 col10\" >Polio</th>        <th class=\"col_heading level0 col11\" >Total expenditure</th>        <th class=\"col_heading level0 col12\" >Diphtheria</th>        <th class=\"col_heading level0 col13\" >HIV/AIDS</th>        <th class=\"col_heading level0 col14\" >GDP</th>        <th class=\"col_heading level0 col15\" >Population</th>        <th class=\"col_heading level0 col16\" >thinness  1-19 years</th>        <th class=\"col_heading level0 col17\" >thinness 5-9 years</th>        <th class=\"col_heading level0 col18\" >Income composition of resources</th>        <th class=\"col_heading level0 col19\" >Schooling</th>    </tr></thead><tbody>\n",
       "                <tr>\n",
       "                        <th id=\"T_8e167157_c593_11ea_bab4_040e3c9252bflevel0_row0\" class=\"row_heading level0 row0\" >Year</th>\n",
       "                        <td id=\"T_8e167157_c593_11ea_bab4_040e3c9252bfrow0_col0\" class=\"data row0 col0\" >1.000000</td>\n",
       "                        <td id=\"T_8e167157_c593_11ea_bab4_040e3c9252bfrow0_col1\" class=\"data row0 col1\" >0.170033</td>\n",
       "                        <td id=\"T_8e167157_c593_11ea_bab4_040e3c9252bfrow0_col2\" class=\"data row0 col2\" >-0.079052</td>\n",
       "                        <td id=\"T_8e167157_c593_11ea_bab4_040e3c9252bfrow0_col3\" class=\"data row0 col3\" >-0.036464</td>\n",
       "                        <td id=\"T_8e167157_c593_11ea_bab4_040e3c9252bfrow0_col4\" class=\"data row0 col4\" >-0.049175</td>\n",
       "                        <td id=\"T_8e167157_c593_11ea_bab4_040e3c9252bfrow0_col5\" class=\"data row0 col5\" >0.032723</td>\n",
       "                        <td id=\"T_8e167157_c593_11ea_bab4_040e3c9252bfrow0_col6\" class=\"data row0 col6\" >0.105898</td>\n",
       "                        <td id=\"T_8e167157_c593_11ea_bab4_040e3c9252bfrow0_col7\" class=\"data row0 col7\" >-0.081840</td>\n",
       "                        <td id=\"T_8e167157_c593_11ea_bab4_040e3c9252bfrow0_col8\" class=\"data row0 col8\" >0.104668</td>\n",
       "                        <td id=\"T_8e167157_c593_11ea_bab4_040e3c9252bfrow0_col9\" class=\"data row0 col9\" >-0.041980</td>\n",
       "                        <td id=\"T_8e167157_c593_11ea_bab4_040e3c9252bfrow0_col10\" class=\"data row0 col10\" >0.094498</td>\n",
       "                        <td id=\"T_8e167157_c593_11ea_bab4_040e3c9252bfrow0_col11\" class=\"data row0 col11\" >0.087309</td>\n",
       "                        <td id=\"T_8e167157_c593_11ea_bab4_040e3c9252bfrow0_col12\" class=\"data row0 col12\" >0.134817</td>\n",
       "                        <td id=\"T_8e167157_c593_11ea_bab4_040e3c9252bfrow0_col13\" class=\"data row0 col13\" >-0.138789</td>\n",
       "                        <td id=\"T_8e167157_c593_11ea_bab4_040e3c9252bfrow0_col14\" class=\"data row0 col14\" >0.102707</td>\n",
       "                        <td id=\"T_8e167157_c593_11ea_bab4_040e3c9252bfrow0_col15\" class=\"data row0 col15\" >0.017199</td>\n",
       "                        <td id=\"T_8e167157_c593_11ea_bab4_040e3c9252bfrow0_col16\" class=\"data row0 col16\" >-0.045082</td>\n",
       "                        <td id=\"T_8e167157_c593_11ea_bab4_040e3c9252bfrow0_col17\" class=\"data row0 col17\" >-0.048152</td>\n",
       "                        <td id=\"T_8e167157_c593_11ea_bab4_040e3c9252bfrow0_col18\" class=\"data row0 col18\" >0.242953</td>\n",
       "                        <td id=\"T_8e167157_c593_11ea_bab4_040e3c9252bfrow0_col19\" class=\"data row0 col19\" >0.213265</td>\n",
       "            </tr>\n",
       "            <tr>\n",
       "                        <th id=\"T_8e167157_c593_11ea_bab4_040e3c9252bflevel0_row1\" class=\"row_heading level0 row1\" >Life expectancy</th>\n",
       "                        <td id=\"T_8e167157_c593_11ea_bab4_040e3c9252bfrow1_col0\" class=\"data row1 col0\" >0.170033</td>\n",
       "                        <td id=\"T_8e167157_c593_11ea_bab4_040e3c9252bfrow1_col1\" class=\"data row1 col1\" >1.000000</td>\n",
       "                        <td id=\"T_8e167157_c593_11ea_bab4_040e3c9252bfrow1_col2\" class=\"data row1 col2\" >-0.696359</td>\n",
       "                        <td id=\"T_8e167157_c593_11ea_bab4_040e3c9252bfrow1_col3\" class=\"data row1 col3\" >-0.196557</td>\n",
       "                        <td id=\"T_8e167157_c593_11ea_bab4_040e3c9252bfrow1_col4\" class=\"data row1 col4\" >0.404877</td>\n",
       "                        <td id=\"T_8e167157_c593_11ea_bab4_040e3c9252bfrow1_col5\" class=\"data row1 col5\" >0.381864</td>\n",
       "                        <td id=\"T_8e167157_c593_11ea_bab4_040e3c9252bfrow1_col6\" class=\"data row1 col6\" >0.256762</td>\n",
       "                        <td id=\"T_8e167157_c593_11ea_bab4_040e3c9252bfrow1_col7\" class=\"data row1 col7\" >-0.157586</td>\n",
       "                        <td id=\"T_8e167157_c593_11ea_bab4_040e3c9252bfrow1_col8\" class=\"data row1 col8\" >0.567694</td>\n",
       "                        <td id=\"T_8e167157_c593_11ea_bab4_040e3c9252bfrow1_col9\" class=\"data row1 col9\" >-0.222529</td>\n",
       "                        <td id=\"T_8e167157_c593_11ea_bab4_040e3c9252bfrow1_col10\" class=\"data row1 col10\" >0.465556</td>\n",
       "                        <td id=\"T_8e167157_c593_11ea_bab4_040e3c9252bfrow1_col11\" class=\"data row1 col11\" >0.218086</td>\n",
       "                        <td id=\"T_8e167157_c593_11ea_bab4_040e3c9252bfrow1_col12\" class=\"data row1 col12\" >0.479495</td>\n",
       "                        <td id=\"T_8e167157_c593_11ea_bab4_040e3c9252bfrow1_col13\" class=\"data row1 col13\" >-0.556556</td>\n",
       "                        <td id=\"T_8e167157_c593_11ea_bab4_040e3c9252bfrow1_col14\" class=\"data row1 col14\" >0.461455</td>\n",
       "                        <td id=\"T_8e167157_c593_11ea_bab4_040e3c9252bfrow1_col15\" class=\"data row1 col15\" >-0.021538</td>\n",
       "                        <td id=\"T_8e167157_c593_11ea_bab4_040e3c9252bfrow1_col16\" class=\"data row1 col16\" >-0.477183</td>\n",
       "                        <td id=\"T_8e167157_c593_11ea_bab4_040e3c9252bfrow1_col17\" class=\"data row1 col17\" >-0.471584</td>\n",
       "                        <td id=\"T_8e167157_c593_11ea_bab4_040e3c9252bfrow1_col18\" class=\"data row1 col18\" >0.724776</td>\n",
       "                        <td id=\"T_8e167157_c593_11ea_bab4_040e3c9252bfrow1_col19\" class=\"data row1 col19\" >0.751975</td>\n",
       "            </tr>\n",
       "            <tr>\n",
       "                        <th id=\"T_8e167157_c593_11ea_bab4_040e3c9252bflevel0_row2\" class=\"row_heading level0 row2\" >Adult Mortality</th>\n",
       "                        <td id=\"T_8e167157_c593_11ea_bab4_040e3c9252bfrow2_col0\" class=\"data row2 col0\" >-0.079052</td>\n",
       "                        <td id=\"T_8e167157_c593_11ea_bab4_040e3c9252bfrow2_col1\" class=\"data row2 col1\" >-0.696359</td>\n",
       "                        <td id=\"T_8e167157_c593_11ea_bab4_040e3c9252bfrow2_col2\" class=\"data row2 col2\" >1.000000</td>\n",
       "                        <td id=\"T_8e167157_c593_11ea_bab4_040e3c9252bfrow2_col3\" class=\"data row2 col3\" >0.078756</td>\n",
       "                        <td id=\"T_8e167157_c593_11ea_bab4_040e3c9252bfrow2_col4\" class=\"data row2 col4\" >-0.195848</td>\n",
       "                        <td id=\"T_8e167157_c593_11ea_bab4_040e3c9252bfrow2_col5\" class=\"data row2 col5\" >-0.242860</td>\n",
       "                        <td id=\"T_8e167157_c593_11ea_bab4_040e3c9252bfrow2_col6\" class=\"data row2 col6\" >-0.162476</td>\n",
       "                        <td id=\"T_8e167157_c593_11ea_bab4_040e3c9252bfrow2_col7\" class=\"data row2 col7\" >0.031176</td>\n",
       "                        <td id=\"T_8e167157_c593_11ea_bab4_040e3c9252bfrow2_col8\" class=\"data row2 col8\" >-0.387017</td>\n",
       "                        <td id=\"T_8e167157_c593_11ea_bab4_040e3c9252bfrow2_col9\" class=\"data row2 col9\" >0.094146</td>\n",
       "                        <td id=\"T_8e167157_c593_11ea_bab4_040e3c9252bfrow2_col10\" class=\"data row2 col10\" >-0.274823</td>\n",
       "                        <td id=\"T_8e167157_c593_11ea_bab4_040e3c9252bfrow2_col11\" class=\"data row2 col11\" >-0.115281</td>\n",
       "                        <td id=\"T_8e167157_c593_11ea_bab4_040e3c9252bfrow2_col12\" class=\"data row2 col12\" >-0.275131</td>\n",
       "                        <td id=\"T_8e167157_c593_11ea_bab4_040e3c9252bfrow2_col13\" class=\"data row2 col13\" >0.523821</td>\n",
       "                        <td id=\"T_8e167157_c593_11ea_bab4_040e3c9252bfrow2_col14\" class=\"data row2 col14\" >-0.296049</td>\n",
       "                        <td id=\"T_8e167157_c593_11ea_bab4_040e3c9252bfrow2_col15\" class=\"data row2 col15\" >-0.013647</td>\n",
       "                        <td id=\"T_8e167157_c593_11ea_bab4_040e3c9252bfrow2_col16\" class=\"data row2 col16\" >0.302904</td>\n",
       "                        <td id=\"T_8e167157_c593_11ea_bab4_040e3c9252bfrow2_col17\" class=\"data row2 col17\" >0.308457</td>\n",
       "                        <td id=\"T_8e167157_c593_11ea_bab4_040e3c9252bfrow2_col18\" class=\"data row2 col18\" >-0.457626</td>\n",
       "                        <td id=\"T_8e167157_c593_11ea_bab4_040e3c9252bfrow2_col19\" class=\"data row2 col19\" >-0.454612</td>\n",
       "            </tr>\n",
       "            <tr>\n",
       "                        <th id=\"T_8e167157_c593_11ea_bab4_040e3c9252bflevel0_row3\" class=\"row_heading level0 row3\" >infant deaths</th>\n",
       "                        <td id=\"T_8e167157_c593_11ea_bab4_040e3c9252bfrow3_col0\" class=\"data row3 col0\" >-0.036464</td>\n",
       "                        <td id=\"T_8e167157_c593_11ea_bab4_040e3c9252bfrow3_col1\" class=\"data row3 col1\" >-0.196557</td>\n",
       "                        <td id=\"T_8e167157_c593_11ea_bab4_040e3c9252bfrow3_col2\" class=\"data row3 col2\" >0.078756</td>\n",
       "                        <td id=\"T_8e167157_c593_11ea_bab4_040e3c9252bfrow3_col3\" class=\"data row3 col3\" >1.000000</td>\n",
       "                        <td id=\"T_8e167157_c593_11ea_bab4_040e3c9252bfrow3_col4\" class=\"data row3 col4\" >-0.116647</td>\n",
       "                        <td id=\"T_8e167157_c593_11ea_bab4_040e3c9252bfrow3_col5\" class=\"data row3 col5\" >-0.085906</td>\n",
       "                        <td id=\"T_8e167157_c593_11ea_bab4_040e3c9252bfrow3_col6\" class=\"data row3 col6\" >-0.224750</td>\n",
       "                        <td id=\"T_8e167157_c593_11ea_bab4_040e3c9252bfrow3_col7\" class=\"data row3 col7\" >0.501038</td>\n",
       "                        <td id=\"T_8e167157_c593_11ea_bab4_040e3c9252bfrow3_col8\" class=\"data row3 col8\" >-0.227480</td>\n",
       "                        <td id=\"T_8e167157_c593_11ea_bab4_040e3c9252bfrow3_col9\" class=\"data row3 col9\" >0.996628</td>\n",
       "                        <td id=\"T_8e167157_c593_11ea_bab4_040e3c9252bfrow3_col10\" class=\"data row3 col10\" >-0.171063</td>\n",
       "                        <td id=\"T_8e167157_c593_11ea_bab4_040e3c9252bfrow3_col11\" class=\"data row3 col11\" >-0.128826</td>\n",
       "                        <td id=\"T_8e167157_c593_11ea_bab4_040e3c9252bfrow3_col12\" class=\"data row3 col12\" >-0.175539</td>\n",
       "                        <td id=\"T_8e167157_c593_11ea_bab4_040e3c9252bfrow3_col13\" class=\"data row3 col13\" >0.024955</td>\n",
       "                        <td id=\"T_8e167157_c593_11ea_bab4_040e3c9252bfrow3_col14\" class=\"data row3 col14\" >-0.108643</td>\n",
       "                        <td id=\"T_8e167157_c593_11ea_bab4_040e3c9252bfrow3_col15\" class=\"data row3 col15\" >0.556781</td>\n",
       "                        <td id=\"T_8e167157_c593_11ea_bab4_040e3c9252bfrow3_col16\" class=\"data row3 col16\" >0.465700</td>\n",
       "                        <td id=\"T_8e167157_c593_11ea_bab4_040e3c9252bfrow3_col17\" class=\"data row3 col17\" >0.471340</td>\n",
       "                        <td id=\"T_8e167157_c593_11ea_bab4_040e3c9252bfrow3_col18\" class=\"data row3 col18\" >-0.145018</td>\n",
       "                        <td id=\"T_8e167157_c593_11ea_bab4_040e3c9252bfrow3_col19\" class=\"data row3 col19\" >-0.195202</td>\n",
       "            </tr>\n",
       "            <tr>\n",
       "                        <th id=\"T_8e167157_c593_11ea_bab4_040e3c9252bflevel0_row4\" class=\"row_heading level0 row4\" >Alcohol</th>\n",
       "                        <td id=\"T_8e167157_c593_11ea_bab4_040e3c9252bfrow4_col0\" class=\"data row4 col0\" >-0.049175</td>\n",
       "                        <td id=\"T_8e167157_c593_11ea_bab4_040e3c9252bfrow4_col1\" class=\"data row4 col1\" >0.404877</td>\n",
       "                        <td id=\"T_8e167157_c593_11ea_bab4_040e3c9252bfrow4_col2\" class=\"data row4 col2\" >-0.195848</td>\n",
       "                        <td id=\"T_8e167157_c593_11ea_bab4_040e3c9252bfrow4_col3\" class=\"data row4 col3\" >-0.116647</td>\n",
       "                        <td id=\"T_8e167157_c593_11ea_bab4_040e3c9252bfrow4_col4\" class=\"data row4 col4\" >1.000000</td>\n",
       "                        <td id=\"T_8e167157_c593_11ea_bab4_040e3c9252bfrow4_col5\" class=\"data row4 col5\" >0.341112</td>\n",
       "                        <td id=\"T_8e167157_c593_11ea_bab4_040e3c9252bfrow4_col6\" class=\"data row4 col6\" >0.086217</td>\n",
       "                        <td id=\"T_8e167157_c593_11ea_bab4_040e3c9252bfrow4_col7\" class=\"data row4 col7\" >-0.052569</td>\n",
       "                        <td id=\"T_8e167157_c593_11ea_bab4_040e3c9252bfrow4_col8\" class=\"data row4 col8\" >0.338253</td>\n",
       "                        <td id=\"T_8e167157_c593_11ea_bab4_040e3c9252bfrow4_col9\" class=\"data row4 col9\" >-0.113388</td>\n",
       "                        <td id=\"T_8e167157_c593_11ea_bab4_040e3c9252bfrow4_col10\" class=\"data row4 col10\" >0.222057</td>\n",
       "                        <td id=\"T_8e167157_c593_11ea_bab4_040e3c9252bfrow4_col11\" class=\"data row4 col11\" >0.302902</td>\n",
       "                        <td id=\"T_8e167157_c593_11ea_bab4_040e3c9252bfrow4_col12\" class=\"data row4 col12\" >0.222378</td>\n",
       "                        <td id=\"T_8e167157_c593_11ea_bab4_040e3c9252bfrow4_col13\" class=\"data row4 col13\" >-0.049918</td>\n",
       "                        <td id=\"T_8e167157_c593_11ea_bab4_040e3c9252bfrow4_col14\" class=\"data row4 col14\" >0.354406</td>\n",
       "                        <td id=\"T_8e167157_c593_11ea_bab4_040e3c9252bfrow4_col15\" class=\"data row4 col15\" >-0.035376</td>\n",
       "                        <td id=\"T_8e167157_c593_11ea_bab4_040e3c9252bfrow4_col16\" class=\"data row4 col16\" >-0.432302</td>\n",
       "                        <td id=\"T_8e167157_c593_11ea_bab4_040e3c9252bfrow4_col17\" class=\"data row4 col17\" >-0.420862</td>\n",
       "                        <td id=\"T_8e167157_c593_11ea_bab4_040e3c9252bfrow4_col18\" class=\"data row4 col18\" >0.450254</td>\n",
       "                        <td id=\"T_8e167157_c593_11ea_bab4_040e3c9252bfrow4_col19\" class=\"data row4 col19\" >0.548001</td>\n",
       "            </tr>\n",
       "            <tr>\n",
       "                        <th id=\"T_8e167157_c593_11ea_bab4_040e3c9252bflevel0_row5\" class=\"row_heading level0 row5\" >percentage expenditure</th>\n",
       "                        <td id=\"T_8e167157_c593_11ea_bab4_040e3c9252bfrow5_col0\" class=\"data row5 col0\" >0.032723</td>\n",
       "                        <td id=\"T_8e167157_c593_11ea_bab4_040e3c9252bfrow5_col1\" class=\"data row5 col1\" >0.381864</td>\n",
       "                        <td id=\"T_8e167157_c593_11ea_bab4_040e3c9252bfrow5_col2\" class=\"data row5 col2\" >-0.242860</td>\n",
       "                        <td id=\"T_8e167157_c593_11ea_bab4_040e3c9252bfrow5_col3\" class=\"data row5 col3\" >-0.085906</td>\n",
       "                        <td id=\"T_8e167157_c593_11ea_bab4_040e3c9252bfrow5_col4\" class=\"data row5 col4\" >0.341112</td>\n",
       "                        <td id=\"T_8e167157_c593_11ea_bab4_040e3c9252bfrow5_col5\" class=\"data row5 col5\" >1.000000</td>\n",
       "                        <td id=\"T_8e167157_c593_11ea_bab4_040e3c9252bfrow5_col6\" class=\"data row5 col6\" >0.016704</td>\n",
       "                        <td id=\"T_8e167157_c593_11ea_bab4_040e3c9252bfrow5_col7\" class=\"data row5 col7\" >-0.056831</td>\n",
       "                        <td id=\"T_8e167157_c593_11ea_bab4_040e3c9252bfrow5_col8\" class=\"data row5 col8\" >0.231130</td>\n",
       "                        <td id=\"T_8e167157_c593_11ea_bab4_040e3c9252bfrow5_col9\" class=\"data row5 col9\" >-0.088152</td>\n",
       "                        <td id=\"T_8e167157_c593_11ea_bab4_040e3c9252bfrow5_col10\" class=\"data row5 col10\" >0.147664</td>\n",
       "                        <td id=\"T_8e167157_c593_11ea_bab4_040e3c9252bfrow5_col11\" class=\"data row5 col11\" >0.176245</td>\n",
       "                        <td id=\"T_8e167157_c593_11ea_bab4_040e3c9252bfrow5_col12\" class=\"data row5 col12\" >0.144022</td>\n",
       "                        <td id=\"T_8e167157_c593_11ea_bab4_040e3c9252bfrow5_col13\" class=\"data row5 col13\" >-0.098230</td>\n",
       "                        <td id=\"T_8e167157_c593_11ea_bab4_040e3c9252bfrow5_col14\" class=\"data row5 col14\" >0.899370</td>\n",
       "                        <td id=\"T_8e167157_c593_11ea_bab4_040e3c9252bfrow5_col15\" class=\"data row5 col15\" >-0.025716</td>\n",
       "                        <td id=\"T_8e167157_c593_11ea_bab4_040e3c9252bfrow5_col16\" class=\"data row5 col16\" >-0.252397</td>\n",
       "                        <td id=\"T_8e167157_c593_11ea_bab4_040e3c9252bfrow5_col17\" class=\"data row5 col17\" >-0.253931</td>\n",
       "                        <td id=\"T_8e167157_c593_11ea_bab4_040e3c9252bfrow5_col18\" class=\"data row5 col18\" >0.382244</td>\n",
       "                        <td id=\"T_8e167157_c593_11ea_bab4_040e3c9252bfrow5_col19\" class=\"data row5 col19\" >0.391466</td>\n",
       "            </tr>\n",
       "            <tr>\n",
       "                        <th id=\"T_8e167157_c593_11ea_bab4_040e3c9252bflevel0_row6\" class=\"row_heading level0 row6\" >Hepatitis B</th>\n",
       "                        <td id=\"T_8e167157_c593_11ea_bab4_040e3c9252bfrow6_col0\" class=\"data row6 col0\" >0.105898</td>\n",
       "                        <td id=\"T_8e167157_c593_11ea_bab4_040e3c9252bfrow6_col1\" class=\"data row6 col1\" >0.256762</td>\n",
       "                        <td id=\"T_8e167157_c593_11ea_bab4_040e3c9252bfrow6_col2\" class=\"data row6 col2\" >-0.162476</td>\n",
       "                        <td id=\"T_8e167157_c593_11ea_bab4_040e3c9252bfrow6_col3\" class=\"data row6 col3\" >-0.224750</td>\n",
       "                        <td id=\"T_8e167157_c593_11ea_bab4_040e3c9252bfrow6_col4\" class=\"data row6 col4\" >0.086217</td>\n",
       "                        <td id=\"T_8e167157_c593_11ea_bab4_040e3c9252bfrow6_col5\" class=\"data row6 col5\" >0.016704</td>\n",
       "                        <td id=\"T_8e167157_c593_11ea_bab4_040e3c9252bfrow6_col6\" class=\"data row6 col6\" >1.000000</td>\n",
       "                        <td id=\"T_8e167157_c593_11ea_bab4_040e3c9252bfrow6_col7\" class=\"data row6 col7\" >-0.121211</td>\n",
       "                        <td id=\"T_8e167157_c593_11ea_bab4_040e3c9252bfrow6_col8\" class=\"data row6 col8\" >0.155174</td>\n",
       "                        <td id=\"T_8e167157_c593_11ea_bab4_040e3c9252bfrow6_col9\" class=\"data row6 col9\" >-0.234353</td>\n",
       "                        <td id=\"T_8e167157_c593_11ea_bab4_040e3c9252bfrow6_col10\" class=\"data row6 col10\" >0.483989</td>\n",
       "                        <td id=\"T_8e167157_c593_11ea_bab4_040e3c9252bfrow6_col11\" class=\"data row6 col11\" >0.070983</td>\n",
       "                        <td id=\"T_8e167157_c593_11ea_bab4_040e3c9252bfrow6_col12\" class=\"data row6 col12\" >0.610199</td>\n",
       "                        <td id=\"T_8e167157_c593_11ea_bab4_040e3c9252bfrow6_col13\" class=\"data row6 col13\" >-0.113395</td>\n",
       "                        <td id=\"T_8e167157_c593_11ea_bab4_040e3c9252bfrow6_col14\" class=\"data row6 col14\" >0.083918</td>\n",
       "                        <td id=\"T_8e167157_c593_11ea_bab4_040e3c9252bfrow6_col15\" class=\"data row6 col15\" >-0.123834</td>\n",
       "                        <td id=\"T_8e167157_c593_11ea_bab4_040e3c9252bfrow6_col16\" class=\"data row6 col16\" >-0.122479</td>\n",
       "                        <td id=\"T_8e167157_c593_11ea_bab4_040e3c9252bfrow6_col17\" class=\"data row6 col17\" >-0.127039</td>\n",
       "                        <td id=\"T_8e167157_c593_11ea_bab4_040e3c9252bfrow6_col18\" class=\"data row6 col18\" >0.199141</td>\n",
       "                        <td id=\"T_8e167157_c593_11ea_bab4_040e3c9252bfrow6_col19\" class=\"data row6 col19\" >0.222895</td>\n",
       "            </tr>\n",
       "            <tr>\n",
       "                        <th id=\"T_8e167157_c593_11ea_bab4_040e3c9252bflevel0_row7\" class=\"row_heading level0 row7\" >Measles</th>\n",
       "                        <td id=\"T_8e167157_c593_11ea_bab4_040e3c9252bfrow7_col0\" class=\"data row7 col0\" >-0.081840</td>\n",
       "                        <td id=\"T_8e167157_c593_11ea_bab4_040e3c9252bfrow7_col1\" class=\"data row7 col1\" >-0.157586</td>\n",
       "                        <td id=\"T_8e167157_c593_11ea_bab4_040e3c9252bfrow7_col2\" class=\"data row7 col2\" >0.031176</td>\n",
       "                        <td id=\"T_8e167157_c593_11ea_bab4_040e3c9252bfrow7_col3\" class=\"data row7 col3\" >0.501038</td>\n",
       "                        <td id=\"T_8e167157_c593_11ea_bab4_040e3c9252bfrow7_col4\" class=\"data row7 col4\" >-0.052569</td>\n",
       "                        <td id=\"T_8e167157_c593_11ea_bab4_040e3c9252bfrow7_col5\" class=\"data row7 col5\" >-0.056831</td>\n",
       "                        <td id=\"T_8e167157_c593_11ea_bab4_040e3c9252bfrow7_col6\" class=\"data row7 col6\" >-0.121211</td>\n",
       "                        <td id=\"T_8e167157_c593_11ea_bab4_040e3c9252bfrow7_col7\" class=\"data row7 col7\" >1.000000</td>\n",
       "                        <td id=\"T_8e167157_c593_11ea_bab4_040e3c9252bfrow7_col8\" class=\"data row7 col8\" >-0.176069</td>\n",
       "                        <td id=\"T_8e167157_c593_11ea_bab4_040e3c9252bfrow7_col9\" class=\"data row7 col9\" >0.507718</td>\n",
       "                        <td id=\"T_8e167157_c593_11ea_bab4_040e3c9252bfrow7_col10\" class=\"data row7 col10\" >-0.136460</td>\n",
       "                        <td id=\"T_8e167157_c593_11ea_bab4_040e3c9252bfrow7_col11\" class=\"data row7 col11\" >-0.106405</td>\n",
       "                        <td id=\"T_8e167157_c593_11ea_bab4_040e3c9252bfrow7_col12\" class=\"data row7 col12\" >-0.142174</td>\n",
       "                        <td id=\"T_8e167157_c593_11ea_bab4_040e3c9252bfrow7_col13\" class=\"data row7 col13\" >0.030673</td>\n",
       "                        <td id=\"T_8e167157_c593_11ea_bab4_040e3c9252bfrow7_col14\" class=\"data row7 col14\" >-0.076646</td>\n",
       "                        <td id=\"T_8e167157_c593_11ea_bab4_040e3c9252bfrow7_col15\" class=\"data row7 col15\" >0.265936</td>\n",
       "                        <td id=\"T_8e167157_c593_11ea_bab4_040e3c9252bfrow7_col16\" class=\"data row7 col16\" >0.224579</td>\n",
       "                        <td id=\"T_8e167157_c593_11ea_bab4_040e3c9252bfrow7_col17\" class=\"data row7 col17\" >0.220836</td>\n",
       "                        <td id=\"T_8e167157_c593_11ea_bab4_040e3c9252bfrow7_col18\" class=\"data row7 col18\" >-0.129465</td>\n",
       "                        <td id=\"T_8e167157_c593_11ea_bab4_040e3c9252bfrow7_col19\" class=\"data row7 col19\" >-0.138344</td>\n",
       "            </tr>\n",
       "            <tr>\n",
       "                        <th id=\"T_8e167157_c593_11ea_bab4_040e3c9252bflevel0_row8\" class=\"row_heading level0 row8\" >BMI</th>\n",
       "                        <td id=\"T_8e167157_c593_11ea_bab4_040e3c9252bfrow8_col0\" class=\"data row8 col0\" >0.104668</td>\n",
       "                        <td id=\"T_8e167157_c593_11ea_bab4_040e3c9252bfrow8_col1\" class=\"data row8 col1\" >0.567694</td>\n",
       "                        <td id=\"T_8e167157_c593_11ea_bab4_040e3c9252bfrow8_col2\" class=\"data row8 col2\" >-0.387017</td>\n",
       "                        <td id=\"T_8e167157_c593_11ea_bab4_040e3c9252bfrow8_col3\" class=\"data row8 col3\" >-0.227480</td>\n",
       "                        <td id=\"T_8e167157_c593_11ea_bab4_040e3c9252bfrow8_col4\" class=\"data row8 col4\" >0.338253</td>\n",
       "                        <td id=\"T_8e167157_c593_11ea_bab4_040e3c9252bfrow8_col5\" class=\"data row8 col5\" >0.231130</td>\n",
       "                        <td id=\"T_8e167157_c593_11ea_bab4_040e3c9252bfrow8_col6\" class=\"data row8 col6\" >0.155174</td>\n",
       "                        <td id=\"T_8e167157_c593_11ea_bab4_040e3c9252bfrow8_col7\" class=\"data row8 col7\" >-0.176069</td>\n",
       "                        <td id=\"T_8e167157_c593_11ea_bab4_040e3c9252bfrow8_col8\" class=\"data row8 col8\" >1.000000</td>\n",
       "                        <td id=\"T_8e167157_c593_11ea_bab4_040e3c9252bfrow8_col9\" class=\"data row8 col9\" >-0.237910</td>\n",
       "                        <td id=\"T_8e167157_c593_11ea_bab4_040e3c9252bfrow8_col10\" class=\"data row8 col10\" >0.287579</td>\n",
       "                        <td id=\"T_8e167157_c593_11ea_bab4_040e3c9252bfrow8_col11\" class=\"data row8 col11\" >0.238765</td>\n",
       "                        <td id=\"T_8e167157_c593_11ea_bab4_040e3c9252bfrow8_col12\" class=\"data row8 col12\" >0.286077</td>\n",
       "                        <td id=\"T_8e167157_c593_11ea_bab4_040e3c9252bfrow8_col13\" class=\"data row8 col13\" >-0.243735</td>\n",
       "                        <td id=\"T_8e167157_c593_11ea_bab4_040e3c9252bfrow8_col14\" class=\"data row8 col14\" >0.304442</td>\n",
       "                        <td id=\"T_8e167157_c593_11ea_bab4_040e3c9252bfrow8_col15\" class=\"data row8 col15\" >-0.072051</td>\n",
       "                        <td id=\"T_8e167157_c593_11ea_bab4_040e3c9252bfrow8_col16\" class=\"data row8 col16\" >-0.530805</td>\n",
       "                        <td id=\"T_8e167157_c593_11ea_bab4_040e3c9252bfrow8_col17\" class=\"data row8 col17\" >-0.537784</td>\n",
       "                        <td id=\"T_8e167157_c593_11ea_bab4_040e3c9252bfrow8_col18\" class=\"data row8 col18\" >0.509299</td>\n",
       "                        <td id=\"T_8e167157_c593_11ea_bab4_040e3c9252bfrow8_col19\" class=\"data row8 col19\" >0.558363</td>\n",
       "            </tr>\n",
       "            <tr>\n",
       "                        <th id=\"T_8e167157_c593_11ea_bab4_040e3c9252bflevel0_row9\" class=\"row_heading level0 row9\" >under-five deaths</th>\n",
       "                        <td id=\"T_8e167157_c593_11ea_bab4_040e3c9252bfrow9_col0\" class=\"data row9 col0\" >-0.041980</td>\n",
       "                        <td id=\"T_8e167157_c593_11ea_bab4_040e3c9252bfrow9_col1\" class=\"data row9 col1\" >-0.222529</td>\n",
       "                        <td id=\"T_8e167157_c593_11ea_bab4_040e3c9252bfrow9_col2\" class=\"data row9 col2\" >0.094146</td>\n",
       "                        <td id=\"T_8e167157_c593_11ea_bab4_040e3c9252bfrow9_col3\" class=\"data row9 col3\" >0.996628</td>\n",
       "                        <td id=\"T_8e167157_c593_11ea_bab4_040e3c9252bfrow9_col4\" class=\"data row9 col4\" >-0.113388</td>\n",
       "                        <td id=\"T_8e167157_c593_11ea_bab4_040e3c9252bfrow9_col5\" class=\"data row9 col5\" >-0.088152</td>\n",
       "                        <td id=\"T_8e167157_c593_11ea_bab4_040e3c9252bfrow9_col6\" class=\"data row9 col6\" >-0.234353</td>\n",
       "                        <td id=\"T_8e167157_c593_11ea_bab4_040e3c9252bfrow9_col7\" class=\"data row9 col7\" >0.507718</td>\n",
       "                        <td id=\"T_8e167157_c593_11ea_bab4_040e3c9252bfrow9_col8\" class=\"data row9 col8\" >-0.237910</td>\n",
       "                        <td id=\"T_8e167157_c593_11ea_bab4_040e3c9252bfrow9_col9\" class=\"data row9 col9\" >1.000000</td>\n",
       "                        <td id=\"T_8e167157_c593_11ea_bab4_040e3c9252bfrow9_col10\" class=\"data row9 col10\" >-0.189137</td>\n",
       "                        <td id=\"T_8e167157_c593_11ea_bab4_040e3c9252bfrow9_col11\" class=\"data row9 col11\" >-0.130355</td>\n",
       "                        <td id=\"T_8e167157_c593_11ea_bab4_040e3c9252bfrow9_col12\" class=\"data row9 col12\" >-0.196083</td>\n",
       "                        <td id=\"T_8e167157_c593_11ea_bab4_040e3c9252bfrow9_col13\" class=\"data row9 col13\" >0.037783</td>\n",
       "                        <td id=\"T_8e167157_c593_11ea_bab4_040e3c9252bfrow9_col14\" class=\"data row9 col14\" >-0.112302</td>\n",
       "                        <td id=\"T_8e167157_c593_11ea_bab4_040e3c9252bfrow9_col15\" class=\"data row9 col15\" >0.544401</td>\n",
       "                        <td id=\"T_8e167157_c593_11ea_bab4_040e3c9252bfrow9_col16\" class=\"data row9 col16\" >0.467771</td>\n",
       "                        <td id=\"T_8e167157_c593_11ea_bab4_040e3c9252bfrow9_col17\" class=\"data row9 col17\" >0.472244</td>\n",
       "                        <td id=\"T_8e167157_c593_11ea_bab4_040e3c9252bfrow9_col18\" class=\"data row9 col18\" >-0.163185</td>\n",
       "                        <td id=\"T_8e167157_c593_11ea_bab4_040e3c9252bfrow9_col19\" class=\"data row9 col19\" >-0.210945</td>\n",
       "            </tr>\n",
       "            <tr>\n",
       "                        <th id=\"T_8e167157_c593_11ea_bab4_040e3c9252bflevel0_row10\" class=\"row_heading level0 row10\" >Polio</th>\n",
       "                        <td id=\"T_8e167157_c593_11ea_bab4_040e3c9252bfrow10_col0\" class=\"data row10 col0\" >0.094498</td>\n",
       "                        <td id=\"T_8e167157_c593_11ea_bab4_040e3c9252bfrow10_col1\" class=\"data row10 col1\" >0.465556</td>\n",
       "                        <td id=\"T_8e167157_c593_11ea_bab4_040e3c9252bfrow10_col2\" class=\"data row10 col2\" >-0.274823</td>\n",
       "                        <td id=\"T_8e167157_c593_11ea_bab4_040e3c9252bfrow10_col3\" class=\"data row10 col3\" >-0.171063</td>\n",
       "                        <td id=\"T_8e167157_c593_11ea_bab4_040e3c9252bfrow10_col4\" class=\"data row10 col4\" >0.222057</td>\n",
       "                        <td id=\"T_8e167157_c593_11ea_bab4_040e3c9252bfrow10_col5\" class=\"data row10 col5\" >0.147664</td>\n",
       "                        <td id=\"T_8e167157_c593_11ea_bab4_040e3c9252bfrow10_col6\" class=\"data row10 col6\" >0.483989</td>\n",
       "                        <td id=\"T_8e167157_c593_11ea_bab4_040e3c9252bfrow10_col7\" class=\"data row10 col7\" >-0.136460</td>\n",
       "                        <td id=\"T_8e167157_c593_11ea_bab4_040e3c9252bfrow10_col8\" class=\"data row10 col8\" >0.287579</td>\n",
       "                        <td id=\"T_8e167157_c593_11ea_bab4_040e3c9252bfrow10_col9\" class=\"data row10 col9\" >-0.189137</td>\n",
       "                        <td id=\"T_8e167157_c593_11ea_bab4_040e3c9252bfrow10_col10\" class=\"data row10 col10\" >1.000000</td>\n",
       "                        <td id=\"T_8e167157_c593_11ea_bab4_040e3c9252bfrow10_col11\" class=\"data row10 col11\" >0.144150</td>\n",
       "                        <td id=\"T_8e167157_c593_11ea_bab4_040e3c9252bfrow10_col12\" class=\"data row10 col12\" >0.672130</td>\n",
       "                        <td id=\"T_8e167157_c593_11ea_bab4_040e3c9252bfrow10_col13\" class=\"data row10 col13\" >-0.159914</td>\n",
       "                        <td id=\"T_8e167157_c593_11ea_bab4_040e3c9252bfrow10_col14\" class=\"data row10 col14\" >0.212368</td>\n",
       "                        <td id=\"T_8e167157_c593_11ea_bab4_040e3c9252bfrow10_col15\" class=\"data row10 col15\" >-0.038833</td>\n",
       "                        <td id=\"T_8e167157_c593_11ea_bab4_040e3c9252bfrow10_col16\" class=\"data row10 col16\" >-0.222790</td>\n",
       "                        <td id=\"T_8e167157_c593_11ea_bab4_040e3c9252bfrow10_col17\" class=\"data row10 col17\" >-0.223568</td>\n",
       "                        <td id=\"T_8e167157_c593_11ea_bab4_040e3c9252bfrow10_col18\" class=\"data row10 col18\" >0.380835</td>\n",
       "                        <td id=\"T_8e167157_c593_11ea_bab4_040e3c9252bfrow10_col19\" class=\"data row10 col19\" >0.416441</td>\n",
       "            </tr>\n",
       "            <tr>\n",
       "                        <th id=\"T_8e167157_c593_11ea_bab4_040e3c9252bflevel0_row11\" class=\"row_heading level0 row11\" >Total expenditure</th>\n",
       "                        <td id=\"T_8e167157_c593_11ea_bab4_040e3c9252bfrow11_col0\" class=\"data row11 col0\" >0.087309</td>\n",
       "                        <td id=\"T_8e167157_c593_11ea_bab4_040e3c9252bfrow11_col1\" class=\"data row11 col1\" >0.218086</td>\n",
       "                        <td id=\"T_8e167157_c593_11ea_bab4_040e3c9252bfrow11_col2\" class=\"data row11 col2\" >-0.115281</td>\n",
       "                        <td id=\"T_8e167157_c593_11ea_bab4_040e3c9252bfrow11_col3\" class=\"data row11 col3\" >-0.128826</td>\n",
       "                        <td id=\"T_8e167157_c593_11ea_bab4_040e3c9252bfrow11_col4\" class=\"data row11 col4\" >0.302902</td>\n",
       "                        <td id=\"T_8e167157_c593_11ea_bab4_040e3c9252bfrow11_col5\" class=\"data row11 col5\" >0.176245</td>\n",
       "                        <td id=\"T_8e167157_c593_11ea_bab4_040e3c9252bfrow11_col6\" class=\"data row11 col6\" >0.070983</td>\n",
       "                        <td id=\"T_8e167157_c593_11ea_bab4_040e3c9252bfrow11_col7\" class=\"data row11 col7\" >-0.106405</td>\n",
       "                        <td id=\"T_8e167157_c593_11ea_bab4_040e3c9252bfrow11_col8\" class=\"data row11 col8\" >0.238765</td>\n",
       "                        <td id=\"T_8e167157_c593_11ea_bab4_040e3c9252bfrow11_col9\" class=\"data row11 col9\" >-0.130355</td>\n",
       "                        <td id=\"T_8e167157_c593_11ea_bab4_040e3c9252bfrow11_col10\" class=\"data row11 col10\" >0.144150</td>\n",
       "                        <td id=\"T_8e167157_c593_11ea_bab4_040e3c9252bfrow11_col11\" class=\"data row11 col11\" >1.000000</td>\n",
       "                        <td id=\"T_8e167157_c593_11ea_bab4_040e3c9252bfrow11_col12\" class=\"data row11 col12\" >0.159592</td>\n",
       "                        <td id=\"T_8e167157_c593_11ea_bab4_040e3c9252bfrow11_col13\" class=\"data row11 col13\" >-0.000340</td>\n",
       "                        <td id=\"T_8e167157_c593_11ea_bab4_040e3c9252bfrow11_col14\" class=\"data row11 col14\" >0.140895</td>\n",
       "                        <td id=\"T_8e167157_c593_11ea_bab4_040e3c9252bfrow11_col15\" class=\"data row11 col15\" >-0.079507</td>\n",
       "                        <td id=\"T_8e167157_c593_11ea_bab4_040e3c9252bfrow11_col16\" class=\"data row11 col16\" >-0.276047</td>\n",
       "                        <td id=\"T_8e167157_c593_11ea_bab4_040e3c9252bfrow11_col17\" class=\"data row11 col17\" >-0.282789</td>\n",
       "                        <td id=\"T_8e167157_c593_11ea_bab4_040e3c9252bfrow11_col18\" class=\"data row11 col18\" >0.166375</td>\n",
       "                        <td id=\"T_8e167157_c593_11ea_bab4_040e3c9252bfrow11_col19\" class=\"data row11 col19\" >0.262511</td>\n",
       "            </tr>\n",
       "            <tr>\n",
       "                        <th id=\"T_8e167157_c593_11ea_bab4_040e3c9252bflevel0_row12\" class=\"row_heading level0 row12\" >Diphtheria</th>\n",
       "                        <td id=\"T_8e167157_c593_11ea_bab4_040e3c9252bfrow12_col0\" class=\"data row12 col0\" >0.134817</td>\n",
       "                        <td id=\"T_8e167157_c593_11ea_bab4_040e3c9252bfrow12_col1\" class=\"data row12 col1\" >0.479495</td>\n",
       "                        <td id=\"T_8e167157_c593_11ea_bab4_040e3c9252bfrow12_col2\" class=\"data row12 col2\" >-0.275131</td>\n",
       "                        <td id=\"T_8e167157_c593_11ea_bab4_040e3c9252bfrow12_col3\" class=\"data row12 col3\" >-0.175539</td>\n",
       "                        <td id=\"T_8e167157_c593_11ea_bab4_040e3c9252bfrow12_col4\" class=\"data row12 col4\" >0.222378</td>\n",
       "                        <td id=\"T_8e167157_c593_11ea_bab4_040e3c9252bfrow12_col5\" class=\"data row12 col5\" >0.144022</td>\n",
       "                        <td id=\"T_8e167157_c593_11ea_bab4_040e3c9252bfrow12_col6\" class=\"data row12 col6\" >0.610199</td>\n",
       "                        <td id=\"T_8e167157_c593_11ea_bab4_040e3c9252bfrow12_col7\" class=\"data row12 col7\" >-0.142174</td>\n",
       "                        <td id=\"T_8e167157_c593_11ea_bab4_040e3c9252bfrow12_col8\" class=\"data row12 col8\" >0.286077</td>\n",
       "                        <td id=\"T_8e167157_c593_11ea_bab4_040e3c9252bfrow12_col9\" class=\"data row12 col9\" >-0.196083</td>\n",
       "                        <td id=\"T_8e167157_c593_11ea_bab4_040e3c9252bfrow12_col10\" class=\"data row12 col10\" >0.672130</td>\n",
       "                        <td id=\"T_8e167157_c593_11ea_bab4_040e3c9252bfrow12_col11\" class=\"data row12 col11\" >0.159592</td>\n",
       "                        <td id=\"T_8e167157_c593_11ea_bab4_040e3c9252bfrow12_col12\" class=\"data row12 col12\" >1.000000</td>\n",
       "                        <td id=\"T_8e167157_c593_11ea_bab4_040e3c9252bfrow12_col13\" class=\"data row12 col13\" >-0.165208</td>\n",
       "                        <td id=\"T_8e167157_c593_11ea_bab4_040e3c9252bfrow12_col14\" class=\"data row12 col14\" >0.201026</td>\n",
       "                        <td id=\"T_8e167157_c593_11ea_bab4_040e3c9252bfrow12_col15\" class=\"data row12 col15\" >-0.028715</td>\n",
       "                        <td id=\"T_8e167157_c593_11ea_bab4_040e3c9252bfrow12_col16\" class=\"data row12 col16\" >-0.230470</td>\n",
       "                        <td id=\"T_8e167157_c593_11ea_bab4_040e3c9252bfrow12_col17\" class=\"data row12 col17\" >-0.223679</td>\n",
       "                        <td id=\"T_8e167157_c593_11ea_bab4_040e3c9252bfrow12_col18\" class=\"data row12 col18\" >0.401222</td>\n",
       "                        <td id=\"T_8e167157_c593_11ea_bab4_040e3c9252bfrow12_col19\" class=\"data row12 col19\" >0.423977</td>\n",
       "            </tr>\n",
       "            <tr>\n",
       "                        <th id=\"T_8e167157_c593_11ea_bab4_040e3c9252bflevel0_row13\" class=\"row_heading level0 row13\" >HIV/AIDS</th>\n",
       "                        <td id=\"T_8e167157_c593_11ea_bab4_040e3c9252bfrow13_col0\" class=\"data row13 col0\" >-0.138789</td>\n",
       "                        <td id=\"T_8e167157_c593_11ea_bab4_040e3c9252bfrow13_col1\" class=\"data row13 col1\" >-0.556556</td>\n",
       "                        <td id=\"T_8e167157_c593_11ea_bab4_040e3c9252bfrow13_col2\" class=\"data row13 col2\" >0.523821</td>\n",
       "                        <td id=\"T_8e167157_c593_11ea_bab4_040e3c9252bfrow13_col3\" class=\"data row13 col3\" >0.024955</td>\n",
       "                        <td id=\"T_8e167157_c593_11ea_bab4_040e3c9252bfrow13_col4\" class=\"data row13 col4\" >-0.049918</td>\n",
       "                        <td id=\"T_8e167157_c593_11ea_bab4_040e3c9252bfrow13_col5\" class=\"data row13 col5\" >-0.098230</td>\n",
       "                        <td id=\"T_8e167157_c593_11ea_bab4_040e3c9252bfrow13_col6\" class=\"data row13 col6\" >-0.113395</td>\n",
       "                        <td id=\"T_8e167157_c593_11ea_bab4_040e3c9252bfrow13_col7\" class=\"data row13 col7\" >0.030673</td>\n",
       "                        <td id=\"T_8e167157_c593_11ea_bab4_040e3c9252bfrow13_col8\" class=\"data row13 col8\" >-0.243735</td>\n",
       "                        <td id=\"T_8e167157_c593_11ea_bab4_040e3c9252bfrow13_col9\" class=\"data row13 col9\" >0.037783</td>\n",
       "                        <td id=\"T_8e167157_c593_11ea_bab4_040e3c9252bfrow13_col10\" class=\"data row13 col10\" >-0.159914</td>\n",
       "                        <td id=\"T_8e167157_c593_11ea_bab4_040e3c9252bfrow13_col11\" class=\"data row13 col11\" >-0.000340</td>\n",
       "                        <td id=\"T_8e167157_c593_11ea_bab4_040e3c9252bfrow13_col12\" class=\"data row13 col12\" >-0.165208</td>\n",
       "                        <td id=\"T_8e167157_c593_11ea_bab4_040e3c9252bfrow13_col13\" class=\"data row13 col13\" >1.000000</td>\n",
       "                        <td id=\"T_8e167157_c593_11ea_bab4_040e3c9252bfrow13_col14\" class=\"data row13 col14\" >-0.136782</td>\n",
       "                        <td id=\"T_8e167157_c593_11ea_bab4_040e3c9252bfrow13_col15\" class=\"data row13 col15\" >-0.027920</td>\n",
       "                        <td id=\"T_8e167157_c593_11ea_bab4_040e3c9252bfrow13_col16\" class=\"data row13 col16\" >0.203550</td>\n",
       "                        <td id=\"T_8e167157_c593_11ea_bab4_040e3c9252bfrow13_col17\" class=\"data row13 col17\" >0.206772</td>\n",
       "                        <td id=\"T_8e167157_c593_11ea_bab4_040e3c9252bfrow13_col18\" class=\"data row13 col18\" >-0.249380</td>\n",
       "                        <td id=\"T_8e167157_c593_11ea_bab4_040e3c9252bfrow13_col19\" class=\"data row13 col19\" >-0.222214</td>\n",
       "            </tr>\n",
       "            <tr>\n",
       "                        <th id=\"T_8e167157_c593_11ea_bab4_040e3c9252bflevel0_row14\" class=\"row_heading level0 row14\" >GDP</th>\n",
       "                        <td id=\"T_8e167157_c593_11ea_bab4_040e3c9252bfrow14_col0\" class=\"data row14 col0\" >0.102707</td>\n",
       "                        <td id=\"T_8e167157_c593_11ea_bab4_040e3c9252bfrow14_col1\" class=\"data row14 col1\" >0.461455</td>\n",
       "                        <td id=\"T_8e167157_c593_11ea_bab4_040e3c9252bfrow14_col2\" class=\"data row14 col2\" >-0.296049</td>\n",
       "                        <td id=\"T_8e167157_c593_11ea_bab4_040e3c9252bfrow14_col3\" class=\"data row14 col3\" >-0.108643</td>\n",
       "                        <td id=\"T_8e167157_c593_11ea_bab4_040e3c9252bfrow14_col4\" class=\"data row14 col4\" >0.354406</td>\n",
       "                        <td id=\"T_8e167157_c593_11ea_bab4_040e3c9252bfrow14_col5\" class=\"data row14 col5\" >0.899370</td>\n",
       "                        <td id=\"T_8e167157_c593_11ea_bab4_040e3c9252bfrow14_col6\" class=\"data row14 col6\" >0.083918</td>\n",
       "                        <td id=\"T_8e167157_c593_11ea_bab4_040e3c9252bfrow14_col7\" class=\"data row14 col7\" >-0.076646</td>\n",
       "                        <td id=\"T_8e167157_c593_11ea_bab4_040e3c9252bfrow14_col8\" class=\"data row14 col8\" >0.304442</td>\n",
       "                        <td id=\"T_8e167157_c593_11ea_bab4_040e3c9252bfrow14_col9\" class=\"data row14 col9\" >-0.112302</td>\n",
       "                        <td id=\"T_8e167157_c593_11ea_bab4_040e3c9252bfrow14_col10\" class=\"data row14 col10\" >0.212368</td>\n",
       "                        <td id=\"T_8e167157_c593_11ea_bab4_040e3c9252bfrow14_col11\" class=\"data row14 col11\" >0.140895</td>\n",
       "                        <td id=\"T_8e167157_c593_11ea_bab4_040e3c9252bfrow14_col12\" class=\"data row14 col12\" >0.201026</td>\n",
       "                        <td id=\"T_8e167157_c593_11ea_bab4_040e3c9252bfrow14_col13\" class=\"data row14 col13\" >-0.136782</td>\n",
       "                        <td id=\"T_8e167157_c593_11ea_bab4_040e3c9252bfrow14_col14\" class=\"data row14 col14\" >1.000000</td>\n",
       "                        <td id=\"T_8e167157_c593_11ea_bab4_040e3c9252bfrow14_col15\" class=\"data row14 col15\" >-0.028324</td>\n",
       "                        <td id=\"T_8e167157_c593_11ea_bab4_040e3c9252bfrow14_col16\" class=\"data row14 col16\" >-0.286727</td>\n",
       "                        <td id=\"T_8e167157_c593_11ea_bab4_040e3c9252bfrow14_col17\" class=\"data row14 col17\" >-0.291572</td>\n",
       "                        <td id=\"T_8e167157_c593_11ea_bab4_040e3c9252bfrow14_col18\" class=\"data row14 col18\" >0.460627</td>\n",
       "                        <td id=\"T_8e167157_c593_11ea_bab4_040e3c9252bfrow14_col19\" class=\"data row14 col19\" >0.449920</td>\n",
       "            </tr>\n",
       "            <tr>\n",
       "                        <th id=\"T_8e167157_c593_11ea_bab4_040e3c9252bflevel0_row15\" class=\"row_heading level0 row15\" >Population</th>\n",
       "                        <td id=\"T_8e167157_c593_11ea_bab4_040e3c9252bfrow15_col0\" class=\"data row15 col0\" >0.017199</td>\n",
       "                        <td id=\"T_8e167157_c593_11ea_bab4_040e3c9252bfrow15_col1\" class=\"data row15 col1\" >-0.021538</td>\n",
       "                        <td id=\"T_8e167157_c593_11ea_bab4_040e3c9252bfrow15_col2\" class=\"data row15 col2\" >-0.013647</td>\n",
       "                        <td id=\"T_8e167157_c593_11ea_bab4_040e3c9252bfrow15_col3\" class=\"data row15 col3\" >0.556781</td>\n",
       "                        <td id=\"T_8e167157_c593_11ea_bab4_040e3c9252bfrow15_col4\" class=\"data row15 col4\" >-0.035376</td>\n",
       "                        <td id=\"T_8e167157_c593_11ea_bab4_040e3c9252bfrow15_col5\" class=\"data row15 col5\" >-0.025716</td>\n",
       "                        <td id=\"T_8e167157_c593_11ea_bab4_040e3c9252bfrow15_col6\" class=\"data row15 col6\" >-0.123834</td>\n",
       "                        <td id=\"T_8e167157_c593_11ea_bab4_040e3c9252bfrow15_col7\" class=\"data row15 col7\" >0.265936</td>\n",
       "                        <td id=\"T_8e167157_c593_11ea_bab4_040e3c9252bfrow15_col8\" class=\"data row15 col8\" >-0.072051</td>\n",
       "                        <td id=\"T_8e167157_c593_11ea_bab4_040e3c9252bfrow15_col9\" class=\"data row15 col9\" >0.544401</td>\n",
       "                        <td id=\"T_8e167157_c593_11ea_bab4_040e3c9252bfrow15_col10\" class=\"data row15 col10\" >-0.038833</td>\n",
       "                        <td id=\"T_8e167157_c593_11ea_bab4_040e3c9252bfrow15_col11\" class=\"data row15 col11\" >-0.079507</td>\n",
       "                        <td id=\"T_8e167157_c593_11ea_bab4_040e3c9252bfrow15_col12\" class=\"data row15 col12\" >-0.028715</td>\n",
       "                        <td id=\"T_8e167157_c593_11ea_bab4_040e3c9252bfrow15_col13\" class=\"data row15 col13\" >-0.027920</td>\n",
       "                        <td id=\"T_8e167157_c593_11ea_bab4_040e3c9252bfrow15_col14\" class=\"data row15 col14\" >-0.028324</td>\n",
       "                        <td id=\"T_8e167157_c593_11ea_bab4_040e3c9252bfrow15_col15\" class=\"data row15 col15\" >1.000000</td>\n",
       "                        <td id=\"T_8e167157_c593_11ea_bab4_040e3c9252bfrow15_col16\" class=\"data row15 col16\" >0.253877</td>\n",
       "                        <td id=\"T_8e167157_c593_11ea_bab4_040e3c9252bfrow15_col17\" class=\"data row15 col17\" >0.251335</td>\n",
       "                        <td id=\"T_8e167157_c593_11ea_bab4_040e3c9252bfrow15_col18\" class=\"data row15 col18\" >-0.008667</td>\n",
       "                        <td id=\"T_8e167157_c593_11ea_bab4_040e3c9252bfrow15_col19\" class=\"data row15 col19\" >-0.032008</td>\n",
       "            </tr>\n",
       "            <tr>\n",
       "                        <th id=\"T_8e167157_c593_11ea_bab4_040e3c9252bflevel0_row16\" class=\"row_heading level0 row16\" >thinness  1-19 years</th>\n",
       "                        <td id=\"T_8e167157_c593_11ea_bab4_040e3c9252bfrow16_col0\" class=\"data row16 col0\" >-0.045082</td>\n",
       "                        <td id=\"T_8e167157_c593_11ea_bab4_040e3c9252bfrow16_col1\" class=\"data row16 col1\" >-0.477183</td>\n",
       "                        <td id=\"T_8e167157_c593_11ea_bab4_040e3c9252bfrow16_col2\" class=\"data row16 col2\" >0.302904</td>\n",
       "                        <td id=\"T_8e167157_c593_11ea_bab4_040e3c9252bfrow16_col3\" class=\"data row16 col3\" >0.465700</td>\n",
       "                        <td id=\"T_8e167157_c593_11ea_bab4_040e3c9252bfrow16_col4\" class=\"data row16 col4\" >-0.432302</td>\n",
       "                        <td id=\"T_8e167157_c593_11ea_bab4_040e3c9252bfrow16_col5\" class=\"data row16 col5\" >-0.252397</td>\n",
       "                        <td id=\"T_8e167157_c593_11ea_bab4_040e3c9252bfrow16_col6\" class=\"data row16 col6\" >-0.122479</td>\n",
       "                        <td id=\"T_8e167157_c593_11ea_bab4_040e3c9252bfrow16_col7\" class=\"data row16 col7\" >0.224579</td>\n",
       "                        <td id=\"T_8e167157_c593_11ea_bab4_040e3c9252bfrow16_col8\" class=\"data row16 col8\" >-0.530805</td>\n",
       "                        <td id=\"T_8e167157_c593_11ea_bab4_040e3c9252bfrow16_col9\" class=\"data row16 col9\" >0.467771</td>\n",
       "                        <td id=\"T_8e167157_c593_11ea_bab4_040e3c9252bfrow16_col10\" class=\"data row16 col10\" >-0.222790</td>\n",
       "                        <td id=\"T_8e167157_c593_11ea_bab4_040e3c9252bfrow16_col11\" class=\"data row16 col11\" >-0.276047</td>\n",
       "                        <td id=\"T_8e167157_c593_11ea_bab4_040e3c9252bfrow16_col12\" class=\"data row16 col12\" >-0.230470</td>\n",
       "                        <td id=\"T_8e167157_c593_11ea_bab4_040e3c9252bfrow16_col13\" class=\"data row16 col13\" >0.203550</td>\n",
       "                        <td id=\"T_8e167157_c593_11ea_bab4_040e3c9252bfrow16_col14\" class=\"data row16 col14\" >-0.286727</td>\n",
       "                        <td id=\"T_8e167157_c593_11ea_bab4_040e3c9252bfrow16_col15\" class=\"data row16 col15\" >0.253877</td>\n",
       "                        <td id=\"T_8e167157_c593_11ea_bab4_040e3c9252bfrow16_col16\" class=\"data row16 col16\" >1.000000</td>\n",
       "                        <td id=\"T_8e167157_c593_11ea_bab4_040e3c9252bfrow16_col17\" class=\"data row16 col17\" >0.938953</td>\n",
       "                        <td id=\"T_8e167157_c593_11ea_bab4_040e3c9252bfrow16_col18\" class=\"data row16 col18\" >-0.422210</td>\n",
       "                        <td id=\"T_8e167157_c593_11ea_bab4_040e3c9252bfrow16_col19\" class=\"data row16 col19\" >-0.477434</td>\n",
       "            </tr>\n",
       "            <tr>\n",
       "                        <th id=\"T_8e167157_c593_11ea_bab4_040e3c9252bflevel0_row17\" class=\"row_heading level0 row17\" >thinness 5-9 years</th>\n",
       "                        <td id=\"T_8e167157_c593_11ea_bab4_040e3c9252bfrow17_col0\" class=\"data row17 col0\" >-0.048152</td>\n",
       "                        <td id=\"T_8e167157_c593_11ea_bab4_040e3c9252bfrow17_col1\" class=\"data row17 col1\" >-0.471584</td>\n",
       "                        <td id=\"T_8e167157_c593_11ea_bab4_040e3c9252bfrow17_col2\" class=\"data row17 col2\" >0.308457</td>\n",
       "                        <td id=\"T_8e167157_c593_11ea_bab4_040e3c9252bfrow17_col3\" class=\"data row17 col3\" >0.471340</td>\n",
       "                        <td id=\"T_8e167157_c593_11ea_bab4_040e3c9252bfrow17_col4\" class=\"data row17 col4\" >-0.420862</td>\n",
       "                        <td id=\"T_8e167157_c593_11ea_bab4_040e3c9252bfrow17_col5\" class=\"data row17 col5\" >-0.253931</td>\n",
       "                        <td id=\"T_8e167157_c593_11ea_bab4_040e3c9252bfrow17_col6\" class=\"data row17 col6\" >-0.127039</td>\n",
       "                        <td id=\"T_8e167157_c593_11ea_bab4_040e3c9252bfrow17_col7\" class=\"data row17 col7\" >0.220836</td>\n",
       "                        <td id=\"T_8e167157_c593_11ea_bab4_040e3c9252bfrow17_col8\" class=\"data row17 col8\" >-0.537784</td>\n",
       "                        <td id=\"T_8e167157_c593_11ea_bab4_040e3c9252bfrow17_col9\" class=\"data row17 col9\" >0.472244</td>\n",
       "                        <td id=\"T_8e167157_c593_11ea_bab4_040e3c9252bfrow17_col10\" class=\"data row17 col10\" >-0.223568</td>\n",
       "                        <td id=\"T_8e167157_c593_11ea_bab4_040e3c9252bfrow17_col11\" class=\"data row17 col11\" >-0.282789</td>\n",
       "                        <td id=\"T_8e167157_c593_11ea_bab4_040e3c9252bfrow17_col12\" class=\"data row17 col12\" >-0.223679</td>\n",
       "                        <td id=\"T_8e167157_c593_11ea_bab4_040e3c9252bfrow17_col13\" class=\"data row17 col13\" >0.206772</td>\n",
       "                        <td id=\"T_8e167157_c593_11ea_bab4_040e3c9252bfrow17_col14\" class=\"data row17 col14\" >-0.291572</td>\n",
       "                        <td id=\"T_8e167157_c593_11ea_bab4_040e3c9252bfrow17_col15\" class=\"data row17 col15\" >0.251335</td>\n",
       "                        <td id=\"T_8e167157_c593_11ea_bab4_040e3c9252bfrow17_col16\" class=\"data row17 col16\" >0.938953</td>\n",
       "                        <td id=\"T_8e167157_c593_11ea_bab4_040e3c9252bfrow17_col17\" class=\"data row17 col17\" >1.000000</td>\n",
       "                        <td id=\"T_8e167157_c593_11ea_bab4_040e3c9252bfrow17_col18\" class=\"data row17 col18\" >-0.410825</td>\n",
       "                        <td id=\"T_8e167157_c593_11ea_bab4_040e3c9252bfrow17_col19\" class=\"data row17 col19\" >-0.466334</td>\n",
       "            </tr>\n",
       "            <tr>\n",
       "                        <th id=\"T_8e167157_c593_11ea_bab4_040e3c9252bflevel0_row18\" class=\"row_heading level0 row18\" >Income composition of resources</th>\n",
       "                        <td id=\"T_8e167157_c593_11ea_bab4_040e3c9252bfrow18_col0\" class=\"data row18 col0\" >0.242953</td>\n",
       "                        <td id=\"T_8e167157_c593_11ea_bab4_040e3c9252bfrow18_col1\" class=\"data row18 col1\" >0.724776</td>\n",
       "                        <td id=\"T_8e167157_c593_11ea_bab4_040e3c9252bfrow18_col2\" class=\"data row18 col2\" >-0.457626</td>\n",
       "                        <td id=\"T_8e167157_c593_11ea_bab4_040e3c9252bfrow18_col3\" class=\"data row18 col3\" >-0.145018</td>\n",
       "                        <td id=\"T_8e167157_c593_11ea_bab4_040e3c9252bfrow18_col4\" class=\"data row18 col4\" >0.450254</td>\n",
       "                        <td id=\"T_8e167157_c593_11ea_bab4_040e3c9252bfrow18_col5\" class=\"data row18 col5\" >0.382244</td>\n",
       "                        <td id=\"T_8e167157_c593_11ea_bab4_040e3c9252bfrow18_col6\" class=\"data row18 col6\" >0.199141</td>\n",
       "                        <td id=\"T_8e167157_c593_11ea_bab4_040e3c9252bfrow18_col7\" class=\"data row18 col7\" >-0.129465</td>\n",
       "                        <td id=\"T_8e167157_c593_11ea_bab4_040e3c9252bfrow18_col8\" class=\"data row18 col8\" >0.509299</td>\n",
       "                        <td id=\"T_8e167157_c593_11ea_bab4_040e3c9252bfrow18_col9\" class=\"data row18 col9\" >-0.163185</td>\n",
       "                        <td id=\"T_8e167157_c593_11ea_bab4_040e3c9252bfrow18_col10\" class=\"data row18 col10\" >0.380835</td>\n",
       "                        <td id=\"T_8e167157_c593_11ea_bab4_040e3c9252bfrow18_col11\" class=\"data row18 col11\" >0.166375</td>\n",
       "                        <td id=\"T_8e167157_c593_11ea_bab4_040e3c9252bfrow18_col12\" class=\"data row18 col12\" >0.401222</td>\n",
       "                        <td id=\"T_8e167157_c593_11ea_bab4_040e3c9252bfrow18_col13\" class=\"data row18 col13\" >-0.249380</td>\n",
       "                        <td id=\"T_8e167157_c593_11ea_bab4_040e3c9252bfrow18_col14\" class=\"data row18 col14\" >0.460627</td>\n",
       "                        <td id=\"T_8e167157_c593_11ea_bab4_040e3c9252bfrow18_col15\" class=\"data row18 col15\" >-0.008667</td>\n",
       "                        <td id=\"T_8e167157_c593_11ea_bab4_040e3c9252bfrow18_col16\" class=\"data row18 col16\" >-0.422210</td>\n",
       "                        <td id=\"T_8e167157_c593_11ea_bab4_040e3c9252bfrow18_col17\" class=\"data row18 col17\" >-0.410825</td>\n",
       "                        <td id=\"T_8e167157_c593_11ea_bab4_040e3c9252bfrow18_col18\" class=\"data row18 col18\" >1.000000</td>\n",
       "                        <td id=\"T_8e167157_c593_11ea_bab4_040e3c9252bfrow18_col19\" class=\"data row18 col19\" >0.800046</td>\n",
       "            </tr>\n",
       "            <tr>\n",
       "                        <th id=\"T_8e167157_c593_11ea_bab4_040e3c9252bflevel0_row19\" class=\"row_heading level0 row19\" >Schooling</th>\n",
       "                        <td id=\"T_8e167157_c593_11ea_bab4_040e3c9252bfrow19_col0\" class=\"data row19 col0\" >0.213265</td>\n",
       "                        <td id=\"T_8e167157_c593_11ea_bab4_040e3c9252bfrow19_col1\" class=\"data row19 col1\" >0.751975</td>\n",
       "                        <td id=\"T_8e167157_c593_11ea_bab4_040e3c9252bfrow19_col2\" class=\"data row19 col2\" >-0.454612</td>\n",
       "                        <td id=\"T_8e167157_c593_11ea_bab4_040e3c9252bfrow19_col3\" class=\"data row19 col3\" >-0.195202</td>\n",
       "                        <td id=\"T_8e167157_c593_11ea_bab4_040e3c9252bfrow19_col4\" class=\"data row19 col4\" >0.548001</td>\n",
       "                        <td id=\"T_8e167157_c593_11ea_bab4_040e3c9252bfrow19_col5\" class=\"data row19 col5\" >0.391466</td>\n",
       "                        <td id=\"T_8e167157_c593_11ea_bab4_040e3c9252bfrow19_col6\" class=\"data row19 col6\" >0.222895</td>\n",
       "                        <td id=\"T_8e167157_c593_11ea_bab4_040e3c9252bfrow19_col7\" class=\"data row19 col7\" >-0.138344</td>\n",
       "                        <td id=\"T_8e167157_c593_11ea_bab4_040e3c9252bfrow19_col8\" class=\"data row19 col8\" >0.558363</td>\n",
       "                        <td id=\"T_8e167157_c593_11ea_bab4_040e3c9252bfrow19_col9\" class=\"data row19 col9\" >-0.210945</td>\n",
       "                        <td id=\"T_8e167157_c593_11ea_bab4_040e3c9252bfrow19_col10\" class=\"data row19 col10\" >0.416441</td>\n",
       "                        <td id=\"T_8e167157_c593_11ea_bab4_040e3c9252bfrow19_col11\" class=\"data row19 col11\" >0.262511</td>\n",
       "                        <td id=\"T_8e167157_c593_11ea_bab4_040e3c9252bfrow19_col12\" class=\"data row19 col12\" >0.423977</td>\n",
       "                        <td id=\"T_8e167157_c593_11ea_bab4_040e3c9252bfrow19_col13\" class=\"data row19 col13\" >-0.222214</td>\n",
       "                        <td id=\"T_8e167157_c593_11ea_bab4_040e3c9252bfrow19_col14\" class=\"data row19 col14\" >0.449920</td>\n",
       "                        <td id=\"T_8e167157_c593_11ea_bab4_040e3c9252bfrow19_col15\" class=\"data row19 col15\" >-0.032008</td>\n",
       "                        <td id=\"T_8e167157_c593_11ea_bab4_040e3c9252bfrow19_col16\" class=\"data row19 col16\" >-0.477434</td>\n",
       "                        <td id=\"T_8e167157_c593_11ea_bab4_040e3c9252bfrow19_col17\" class=\"data row19 col17\" >-0.466334</td>\n",
       "                        <td id=\"T_8e167157_c593_11ea_bab4_040e3c9252bfrow19_col18\" class=\"data row19 col18\" >0.800046</td>\n",
       "                        <td id=\"T_8e167157_c593_11ea_bab4_040e3c9252bfrow19_col19\" class=\"data row19 col19\" >1.000000</td>\n",
       "            </tr>\n",
       "    </tbody></table>"
      ],
      "text/plain": [
       "<pandas.io.formats.style.Styler at 0x11214c70>"
      ]
     },
     "execution_count": 7,
     "metadata": {},
     "output_type": "execute_result"
    }
   ],
   "source": [
    "# Plotting a correlation matrix\n",
    "corr=train.corr()\n",
    "corr.style.background_gradient(cmap='coolwarm')"
   ]
  },
  {
   "cell_type": "code",
   "execution_count": 8,
   "metadata": {},
   "outputs": [
    {
     "data": {
      "text/plain": [
       "array([[<matplotlib.axes._subplots.AxesSubplot object at 0x12BF6568>,\n",
       "        <matplotlib.axes._subplots.AxesSubplot object at 0x12C27F88>,\n",
       "        <matplotlib.axes._subplots.AxesSubplot object at 0x12C449A0>,\n",
       "        <matplotlib.axes._subplots.AxesSubplot object at 0x142F23A0>],\n",
       "       [<matplotlib.axes._subplots.AxesSubplot object at 0x14303D78>,\n",
       "        <matplotlib.axes._subplots.AxesSubplot object at 0x1431E718>,\n",
       "        <matplotlib.axes._subplots.AxesSubplot object at 0x1431E790>,\n",
       "        <matplotlib.axes._subplots.AxesSubplot object at 0x1433A1C0>],\n",
       "       [<matplotlib.axes._subplots.AxesSubplot object at 0x14368550>,\n",
       "        <matplotlib.axes._subplots.AxesSubplot object at 0x14379F28>,\n",
       "        <matplotlib.axes._subplots.AxesSubplot object at 0x14396928>,\n",
       "        <matplotlib.axes._subplots.AxesSubplot object at 0x143B2328>],\n",
       "       [<matplotlib.axes._subplots.AxesSubplot object at 0x143C4D00>,\n",
       "        <matplotlib.axes._subplots.AxesSubplot object at 0x143E2700>,\n",
       "        <matplotlib.axes._subplots.AxesSubplot object at 0x14403100>,\n",
       "        <matplotlib.axes._subplots.AxesSubplot object at 0x12C3AF40>],\n",
       "       [<matplotlib.axes._subplots.AxesSubplot object at 0x14368D48>,\n",
       "        <matplotlib.axes._subplots.AxesSubplot object at 0x143F6DC0>,\n",
       "        <matplotlib.axes._subplots.AxesSubplot object at 0x14460A60>,\n",
       "        <matplotlib.axes._subplots.AxesSubplot object at 0x14481460>]],\n",
       "      dtype=object)"
      ]
     },
     "execution_count": 8,
     "metadata": {},
     "output_type": "execute_result"
    },
    {
     "data": {
      "image/png": "[encoded data removed]",
      "text/plain": [
       "<Figure size 864x864 with 20 Axes>"
      ]
     },
     "metadata": {
      "needs_background": "light"
     },
     "output_type": "display_data"
    }
   ],
   "source": [
    "# Plotting histograms\n",
    "histogram1 = train.hist(bins=10,figsize=(12,12))\n",
    "histogram1"
   ]
  },
  {
   "cell_type": "markdown",
   "metadata": {},
   "source": [
    "### Checking for null values in train dataset"
   ]
  },
  {
   "cell_type": "code",
   "execution_count": 9,
   "metadata": {},
   "outputs": [
    {
     "data": {
      "text/plain": [
       "Country                            False\n",
       "Year                               False\n",
       "Status                             False\n",
       "Life expectancy                    False\n",
       "Adult Mortality                    False\n",
       "infant deaths                      False\n",
       "Alcohol                             True\n",
       "percentage expenditure             False\n",
       "Hepatitis B                         True\n",
       "Measles                            False\n",
       "BMI                                 True\n",
       "under-five deaths                  False\n",
       "Polio                               True\n",
       "Total expenditure                   True\n",
       "Diphtheria                          True\n",
       "HIV/AIDS                           False\n",
       "GDP                                 True\n",
       "Population                          True\n",
       "thinness  1-19 years                True\n",
       "thinness 5-9 years                  True\n",
       "Income composition of resources     True\n",
       "Schooling                           True\n",
       "dtype: bool"
      ]
     },
     "execution_count": 9,
     "metadata": {},
     "output_type": "execute_result"
    }
   ],
   "source": [
    "# Checking for null values in train dataset\n",
    "train.isna().any()"
   ]
  },
  {
   "cell_type": "code",
   "execution_count": 10,
   "metadata": {},
   "outputs": [
    {
     "data": {
      "text/plain": [
       "Country                            0.000000\n",
       "Year                               0.000000\n",
       "Status                             0.000000\n",
       "Life expectancy                    0.000000\n",
       "Adult Mortality                    0.000000\n",
       "infant deaths                      0.000000\n",
       "Alcohol                            0.065915\n",
       "percentage expenditure             0.000000\n",
       "Hepatitis B                        0.188866\n",
       "Measles                            0.000000\n",
       "BMI                                0.010929\n",
       "under-five deaths                  0.000000\n",
       "Polio                              0.006489\n",
       "Total expenditure                  0.077186\n",
       "Diphtheria                         0.006489\n",
       "HIV/AIDS                           0.000000\n",
       "GDP                                0.151298\n",
       "Population                         0.219945\n",
       "thinness  1-19 years               0.010929\n",
       "thinness 5-9 years                 0.010929\n",
       "Income composition of resources    0.054645\n",
       "Schooling                          0.054645\n",
       "dtype: float64"
      ]
     },
     "execution_count": 10,
     "metadata": {},
     "output_type": "execute_result"
    }
   ],
   "source": [
    "# Checking the percentage of missing data in train data\n",
    "train.isna().sum()/train.shape[0]"
   ]
  },
  {
   "cell_type": "markdown",
   "metadata": {},
   "source": [
    "### Data Imputation"
   ]
  },
  {
   "cell_type": "markdown",
   "metadata": {},
   "source": [
    "#### Column : Adult Mortality"
   ]
  },
  {
   "cell_type": "code",
   "execution_count": 11,
   "metadata": {},
   "outputs": [
    {
     "data": {
      "text/plain": [
       "<matplotlib.axes._subplots.AxesSubplot at 0x14a0fc10>"
      ]
     },
     "execution_count": 11,
     "metadata": {},
     "output_type": "execute_result"
    },
    {
     "data": {
      "image/png": "[encoded data removed]",
      "text/plain": [
       "<Figure size 360x360 with 1 Axes>"
      ]
     },
     "metadata": {
      "needs_background": "light"
     },
     "output_type": "display_data"
    }
   ],
   "source": [
    "histogram = train[\"Adult Mortality\"].hist(bins=10,figsize=(5,5))\n",
    "histogram"
   ]
  },
  {
   "cell_type": "code",
   "execution_count": 12,
   "metadata": {},
   "outputs": [],
   "source": [
    "# Since we observed in the graph above, Adult Mortality follows a skewed distribution, we will fillna with median\n",
    "#train['Adult Mortality']=train['Adult Mortality'].fillna((train['Adult Mortality'].median()))\n",
    "#train['Adult Mortality'] = train['Adult Mortality'].fillna(train.groupby('Country')['Adult Mortality'].median())\n",
    "#train['Adult Mortality'] = train['Adult Mortality'].fillna(x)\n"
   ]
  },
  {
   "cell_type": "code",
   "execution_count": 13,
   "metadata": {},
   "outputs": [],
   "source": [
    "x = train.groupby('Country')['Adult Mortality'].median()\n",
    "\n",
    "for i in range(len(train)):\n",
    "    if pd.isna(train['Adult Mortality'].iloc[i]):\n",
    "        country = train['Country'].iloc[i]\n",
    "        train['Adult Mortality'] = x[country]\n",
    "    "
   ]
  },
  {
   "cell_type": "code",
   "execution_count": 14,
   "metadata": {},
   "outputs": [
    {
     "data": {
      "text/plain": [
       "367.0"
      ]
     },
     "execution_count": 14,
     "metadata": {},
     "output_type": "execute_result"
    }
   ],
   "source": [
    "x['Angola']"
   ]
  },
  {
   "cell_type": "code",
   "execution_count": 15,
   "metadata": {},
   "outputs": [
    {
     "data": {
      "text/plain": [
       "False"
      ]
     },
     "execution_count": 15,
     "metadata": {},
     "output_type": "execute_result"
    }
   ],
   "source": [
    "train['Adult Mortality'].isna().any()"
   ]
  },
  {
   "cell_type": "markdown",
   "metadata": {},
   "source": [
    "#### Column : Alcohol"
   ]
  },
  {
   "cell_type": "code",
   "execution_count": 16,
   "metadata": {},
   "outputs": [
    {
     "data": {
      "text/plain": [
       "<matplotlib.axes._subplots.AxesSubplot at 0x14680ee0>"
      ]
     },
     "execution_count": 16,
     "metadata": {},
     "output_type": "execute_result"
    },
    {
     "data": {
      "image/png": "[encoded data removed]",
      "text/plain": [
       "<Figure size 360x360 with 1 Axes>"
      ]
     },
     "metadata": {
      "needs_background": "light"
     },
     "output_type": "display_data"
    }
   ],
   "source": [
    "histogram = train[\"Alcohol\"].hist(bins=10,figsize=(5,5))\n",
    "histogram"
   ]
  },
  {
   "cell_type": "code",
   "execution_count": 17,
   "metadata": {},
   "outputs": [],
   "source": [
    "# Since we observed in the graph above, Alcohol follows a skewed distribution, we will fillna with median\n",
    "#train['Alcohol']=train['Alcohol'].fillna((train['Alcohol'].median()))\n",
    "#train['Alcohol'] = train['Alcohol'].fillna(train.groupby('Country')['Alcohol'].transform('median'))"
   ]
  },
  {
   "cell_type": "code",
   "execution_count": 18,
   "metadata": {},
   "outputs": [],
   "source": [
    "x = train.groupby('Country')['Alcohol'].median()\n",
    "\n",
    "for i in range(len(train)):\n",
    "    if pd.isna(train['Alcohol'].iloc[i]):\n",
    "        country = train['Country'].iloc[i]\n",
    "        train['Alcohol'] = x[country]\n",
    "    "
   ]
  },
  {
   "cell_type": "markdown",
   "metadata": {},
   "source": [
    "#### Column : Hepatitis B"
   ]
  },
  {
   "cell_type": "code",
   "execution_count": 19,
   "metadata": {},
   "outputs": [
    {
     "data": {
      "text/plain": [
       "<matplotlib.axes._subplots.AxesSubplot at 0x14689310>"
      ]
     },
     "execution_count": 19,
     "metadata": {},
     "output_type": "execute_result"
    },
    {
     "data": {
      "image/png": "[encoded data removed]",
      "text/plain": [
       "<Figure size 360x360 with 1 Axes>"
      ]
     },
     "metadata": {
      "needs_background": "light"
     },
     "output_type": "display_data"
    }
   ],
   "source": [
    "histogram = train[\"Hepatitis B\"].hist(bins=10,figsize=(5,5))\n",
    "histogram"
   ]
  },
  {
   "cell_type": "code",
   "execution_count": 20,
   "metadata": {},
   "outputs": [],
   "source": [
    "# Since we observed in the graph above, Hepatitis B follows a skewed distribution, we will fillna with median\n",
    "# train['Hepatitis B']=train['Hepatitis B'].fillna((train['Hepatitis B'].median()))"
   ]
  },
  {
   "cell_type": "code",
   "execution_count": 21,
   "metadata": {},
   "outputs": [],
   "source": [
    "x = train.groupby('Country')['Hepatitis B'].median()\n",
    "\n",
    "for i in range(len(train)):\n",
    "    if pd.isna(train['Hepatitis B'].iloc[i]):\n",
    "        country = train['Country'].iloc[i]\n",
    "        train['Hepatitis B'] = x[country]\n",
    "    "
   ]
  },
  {
   "cell_type": "markdown",
   "metadata": {},
   "source": [
    "#### Column : BMI"
   ]
  },
  {
   "cell_type": "code",
   "execution_count": 22,
   "metadata": {},
   "outputs": [
    {
     "data": {
      "text/plain": [
       "<matplotlib.axes._subplots.AxesSubplot at 0x14712bb0>"
      ]
     },
     "execution_count": 22,
     "metadata": {},
     "output_type": "execute_result"
    },
    {
     "data": {
      "image/png": "[encoded data removed]",
      "text/plain": [
       "<Figure size 360x360 with 1 Axes>"
      ]
     },
     "metadata": {
      "needs_background": "light"
     },
     "output_type": "display_data"
    }
   ],
   "source": [
    "histogram = train[\"BMI\"].hist(bins=10,figsize=(5,5))\n",
    "histogram"
   ]
  },
  {
   "cell_type": "code",
   "execution_count": 23,
   "metadata": {},
   "outputs": [],
   "source": [
    "# Since we observed in the graph above, BMI follows a skewed distribution, we will fillna with median\n",
    "# train['BMI']=train['BMI'].fillna((train['BMI'].median()))"
   ]
  },
  {
   "cell_type": "code",
   "execution_count": 24,
   "metadata": {},
   "outputs": [],
   "source": [
    "x = train.groupby('Country')['BMI'].mean()\n",
    "\n",
    "for i in range(len(train)):\n",
    "    if pd.isna(train['BMI'].iloc[i]):\n",
    "        country = train['Country'].iloc[i]\n",
    "        train['BMI'] = x[country]"
   ]
  },
  {
   "cell_type": "markdown",
   "metadata": {},
   "source": [
    "#### Column : Polio"
   ]
  },
  {
   "cell_type": "code",
   "execution_count": 25,
   "metadata": {},
   "outputs": [
    {
     "data": {
      "text/plain": [
       "<matplotlib.axes._subplots.AxesSubplot at 0x1471aaf0>"
      ]
     },
     "execution_count": 25,
     "metadata": {},
     "output_type": "execute_result"
    },
    {
     "data": {
      "image/png": "[encoded data removed]",
      "text/plain": [
       "<Figure size 360x360 with 1 Axes>"
      ]
     },
     "metadata": {
      "needs_background": "light"
     },
     "output_type": "display_data"
    }
   ],
   "source": [
    "histogram = train[\"Polio\"].hist(bins=10,figsize=(5,5))\n",
    "histogram"
   ]
  },
  {
   "cell_type": "code",
   "execution_count": 26,
   "metadata": {},
   "outputs": [],
   "source": [
    "# Since we observed in the graph above, Polio follows a skewed distribution, we will fillna with median\n",
    "# train['Polio']=train['Polio'].fillna((train['Polio'].median()))"
   ]
  },
  {
   "cell_type": "code",
   "execution_count": 27,
   "metadata": {},
   "outputs": [],
   "source": [
    "x = train.groupby('Country')['Polio'].median()\n",
    "\n",
    "for i in range(len(train)):\n",
    "    if pd.isna(train['Polio'].iloc[i]):\n",
    "        country = train['Country'].iloc[i]\n",
    "        train['Polio'] = x[country]"
   ]
  },
  {
   "cell_type": "markdown",
   "metadata": {},
   "source": [
    "#### Column : Total expenditure"
   ]
  },
  {
   "cell_type": "code",
   "execution_count": 28,
   "metadata": {},
   "outputs": [
    {
     "data": {
      "text/plain": [
       "<matplotlib.axes._subplots.AxesSubplot at 0x14562c10>"
      ]
     },
     "execution_count": 28,
     "metadata": {},
     "output_type": "execute_result"
    },
    {
     "data": {
      "image/png": "[encoded data removed]",
      "text/plain": [
       "<Figure size 360x360 with 1 Axes>"
      ]
     },
     "metadata": {
      "needs_background": "light"
     },
     "output_type": "display_data"
    }
   ],
   "source": [
    "histogram = train[\"Total expenditure\"].hist(bins=10,figsize=(5,5))\n",
    "histogram"
   ]
  },
  {
   "cell_type": "code",
   "execution_count": 29,
   "metadata": {},
   "outputs": [],
   "source": [
    "# Since we observed in the graph above, Total expenditure follows a normal distribution, we will fillna with mean\n",
    "# train['Total expenditure']=train['Total expenditure'].fillna((train['Total expenditure'].mean()))"
   ]
  },
  {
   "cell_type": "code",
   "execution_count": 30,
   "metadata": {},
   "outputs": [],
   "source": [
    "x = train.groupby('Country')['Total expenditure'].median()\n",
    "\n",
    "for i in range(len(train)):\n",
    "    if pd.isna(train['Total expenditure'].iloc[i]):\n",
    "        country = train['Country'].iloc[i]\n",
    "        train['Total expenditure'] = x[country]"
   ]
  },
  {
   "cell_type": "markdown",
   "metadata": {},
   "source": [
    "#### Column : Diphtheria"
   ]
  },
  {
   "cell_type": "code",
   "execution_count": 31,
   "metadata": {},
   "outputs": [
    {
     "data": {
      "text/plain": [
       "<matplotlib.axes._subplots.AxesSubplot at 0x1476fb08>"
      ]
     },
     "execution_count": 31,
     "metadata": {},
     "output_type": "execute_result"
    },
    {
     "data": {
      "image/png": "[encoded data removed]",
      "text/plain": [
       "<Figure size 360x360 with 1 Axes>"
      ]
     },
     "metadata": {
      "needs_background": "light"
     },
     "output_type": "display_data"
    }
   ],
   "source": [
    "histogram = train[\"Diphtheria\"].hist(bins=10,figsize=(5,5))\n",
    "histogram"
   ]
  },
  {
   "cell_type": "code",
   "execution_count": 32,
   "metadata": {},
   "outputs": [],
   "source": [
    "# Since we observed in the graph above, Diptheria follows a skewed distribution, we will fillna with median\n",
    "# train['Diphtheria']=train['Diphtheria'].fillna((train['Diphtheria'].median()))"
   ]
  },
  {
   "cell_type": "code",
   "execution_count": 33,
   "metadata": {},
   "outputs": [],
   "source": [
    "x = train.groupby('Country')['Diphtheria'].median()\n",
    "\n",
    "for i in range(len(train)):\n",
    "    if pd.isna(train['Diphtheria'].iloc[i]):\n",
    "        country = train['Country'].iloc[i]\n",
    "        train['Diphtheria'] = x[country]"
   ]
  },
  {
   "cell_type": "markdown",
   "metadata": {},
   "source": [
    "#### Column : GDP"
   ]
  },
  {
   "cell_type": "code",
   "execution_count": 34,
   "metadata": {},
   "outputs": [
    {
     "data": {
      "text/plain": [
       "<matplotlib.axes._subplots.AxesSubplot at 0x14823640>"
      ]
     },
     "execution_count": 34,
     "metadata": {},
     "output_type": "execute_result"
    },
    {
     "data": {
      "image/png": "[encoded data removed]",
      "text/plain": [
       "<Figure size 360x360 with 1 Axes>"
      ]
     },
     "metadata": {
      "needs_background": "light"
     },
     "output_type": "display_data"
    }
   ],
   "source": [
    "histogram = train[\"GDP\"].hist(bins=10,figsize=(5,5))\n",
    "histogram"
   ]
  },
  {
   "cell_type": "code",
   "execution_count": 35,
   "metadata": {},
   "outputs": [],
   "source": [
    "# Since we observed in the graph above, GDP follows a skewed distribution, we will fillna with median\n",
    "# train['GDP']=train['GDP'].fillna((train['GDP'].median()))"
   ]
  },
  {
   "cell_type": "code",
   "execution_count": 36,
   "metadata": {},
   "outputs": [],
   "source": [
    "x = train.groupby('Country')['GDP'].median()\n",
    "\n",
    "for i in range(len(train)):\n",
    "    if pd.isna(train['GDP'].iloc[i]):\n",
    "        country = train['Country'].iloc[i]\n",
    "        train['GDP'] = x[country]"
   ]
  },
  {
   "cell_type": "markdown",
   "metadata": {},
   "source": [
    "#### Column : Population"
   ]
  },
  {
   "cell_type": "code",
   "execution_count": 37,
   "metadata": {},
   "outputs": [
    {
     "data": {
      "text/plain": [
       "<matplotlib.axes._subplots.AxesSubplot at 0x14873c28>"
      ]
     },
     "execution_count": 37,
     "metadata": {},
     "output_type": "execute_result"
    },
    {
     "data": {
      "image/png": "[encoded data removed]",
      "text/plain": [
       "<Figure size 360x360 with 1 Axes>"
      ]
     },
     "metadata": {
      "needs_background": "light"
     },
     "output_type": "display_data"
    }
   ],
   "source": [
    "histogram = train[\"Population\"].hist(bins=10,figsize=(5,5))\n",
    "histogram"
   ]
  },
  {
   "cell_type": "code",
   "execution_count": 38,
   "metadata": {},
   "outputs": [],
   "source": [
    "# Since we observed in the graph above, Population follows a skewed distribution, we will fillna with median\n",
    "# train['Population']=train['Population'].fillna((train['Population'].median()))"
   ]
  },
  {
   "cell_type": "code",
   "execution_count": 39,
   "metadata": {},
   "outputs": [],
   "source": [
    "x = train.groupby('Country')['Population'].median()\n",
    "\n",
    "for i in range(len(train)):\n",
    "    if pd.isna(train['Population'].iloc[i]):\n",
    "        country = train['Country'].iloc[i]\n",
    "        train['Population'] = x[country]"
   ]
  },
  {
   "cell_type": "markdown",
   "metadata": {},
   "source": [
    "#### Column : thinness 5-9 years"
   ]
  },
  {
   "cell_type": "code",
   "execution_count": 40,
   "metadata": {},
   "outputs": [
    {
     "data": {
      "text/plain": [
       "<matplotlib.axes._subplots.AxesSubplot at 0x148b0088>"
      ]
     },
     "execution_count": 40,
     "metadata": {},
     "output_type": "execute_result"
    },
    {
     "data": {
      "image/png": "[encoded data removed]",
      "text/plain": [
       "<Figure size 360x360 with 1 Axes>"
      ]
     },
     "metadata": {
      "needs_background": "light"
     },
     "output_type": "display_data"
    }
   ],
   "source": [
    "histogram = train[\"thinness 5-9 years\"].hist(bins=10,figsize=(5,5))\n",
    "histogram"
   ]
  },
  {
   "cell_type": "code",
   "execution_count": 41,
   "metadata": {},
   "outputs": [],
   "source": [
    "# Since we observed in the graph above, thinness 5-9 years follows a skewed distribution, we will fillna with median\n",
    "# train['thinness 5-9 years']=train['thinness 5-9 years'].fillna((train['thinness 5-9 years'].median()))"
   ]
  },
  {
   "cell_type": "code",
   "execution_count": 42,
   "metadata": {},
   "outputs": [],
   "source": [
    "x = train.groupby('Country')['thinness 5-9 years'].median()\n",
    "\n",
    "for i in range(len(train)):\n",
    "    if pd.isna(train['thinness 5-9 years'].iloc[i]):\n",
    "        country = train['Country'].iloc[i]\n",
    "        train['thinness 5-9 years'] = x[country]"
   ]
  },
  {
   "cell_type": "markdown",
   "metadata": {},
   "source": [
    "#### Column : Income composition of resources"
   ]
  },
  {
   "cell_type": "code",
   "execution_count": 43,
   "metadata": {},
   "outputs": [
    {
     "data": {
      "text/plain": [
       "<matplotlib.axes._subplots.AxesSubplot at 0x148fd268>"
      ]
     },
     "execution_count": 43,
     "metadata": {},
     "output_type": "execute_result"
    },
    {
     "data": {
      "image/png": "[encoded data removed]",
      "text/plain": [
       "<Figure size 360x360 with 1 Axes>"
      ]
     },
     "metadata": {
      "needs_background": "light"
     },
     "output_type": "display_data"
    }
   ],
   "source": [
    "histogram = train[\"Income composition of resources\"].hist(bins=10,figsize=(5,5))\n",
    "histogram"
   ]
  },
  {
   "cell_type": "code",
   "execution_count": 44,
   "metadata": {},
   "outputs": [],
   "source": [
    "# Since we observed in the graph above, Income composition of resources follows a skewed distribution, we will fillna with median\n",
    "# train['Income composition of resources']=train['Income composition of resources'].fillna((train['Income composition of resources'].median()))"
   ]
  },
  {
   "cell_type": "code",
   "execution_count": 45,
   "metadata": {},
   "outputs": [],
   "source": [
    "x = train.groupby('Country')['Income composition of resources'].median()\n",
    "\n",
    "for i in range(len(train)):\n",
    "    if pd.isna(train['Income composition of resources'].iloc[i]):\n",
    "        country = train['Country'].iloc[i]\n",
    "        train['Income composition of resources'] = x[country]"
   ]
  },
  {
   "cell_type": "markdown",
   "metadata": {},
   "source": [
    "#### Column : Schooling"
   ]
  },
  {
   "cell_type": "code",
   "execution_count": 46,
   "metadata": {},
   "outputs": [
    {
     "data": {
      "text/plain": [
       "<matplotlib.axes._subplots.AxesSubplot at 0x149311f0>"
      ]
     },
     "execution_count": 46,
     "metadata": {},
     "output_type": "execute_result"
    },
    {
     "data": {
      "image/png": "[encoded data removed]",
      "text/plain": [
       "<Figure size 360x360 with 1 Axes>"
      ]
     },
     "metadata": {
      "needs_background": "light"
     },
     "output_type": "display_data"
    }
   ],
   "source": [
    "histogram = train[\"Schooling\"].hist(bins=10,figsize=(5,5))\n",
    "histogram"
   ]
  },
  {
   "cell_type": "code",
   "execution_count": 47,
   "metadata": {},
   "outputs": [],
   "source": [
    "# Since we observed in the graph above, Schooling follows a normal distribution, we will fillna with median\n",
    "# train['Schooling']=train['Schooling'].fillna((train['Schooling'].median()))"
   ]
  },
  {
   "cell_type": "code",
   "execution_count": 48,
   "metadata": {},
   "outputs": [],
   "source": [
    "x = train.groupby('Country')['Schooling'].mean()\n",
    "\n",
    "for i in range(len(train)):\n",
    "    if pd.isna(train['Schooling'].iloc[i]):\n",
    "        country = train['Country'].iloc[i]\n",
    "        train['Schooling'] = x[country]"
   ]
  },
  {
   "cell_type": "markdown",
   "metadata": {},
   "source": [
    "#### Column : thinness  1-19 years"
   ]
  },
  {
   "cell_type": "code",
   "execution_count": 49,
   "metadata": {},
   "outputs": [
    {
     "data": {
      "text/plain": [
       "<matplotlib.axes._subplots.AxesSubplot at 0x14c71550>"
      ]
     },
     "execution_count": 49,
     "metadata": {},
     "output_type": "execute_result"
    },
    {
     "data": {
      "image/png": "[encoded data removed]",
      "text/plain": [
       "<Figure size 360x360 with 1 Axes>"
      ]
     },
     "metadata": {
      "needs_background": "light"
     },
     "output_type": "display_data"
    }
   ],
   "source": [
    "histogram = train[\"thinness  1-19 years\"].hist(bins=10,figsize=(5,5))\n",
    "histogram"
   ]
  },
  {
   "cell_type": "code",
   "execution_count": 50,
   "metadata": {},
   "outputs": [],
   "source": [
    "x = train.groupby('Country')['thinness  1-19 years'].median()\n",
    "\n",
    "for i in range(len(train)):\n",
    "    if pd.isna(train['thinness  1-19 years'].iloc[i]):\n",
    "        country = train['Country'].iloc[i]\n",
    "        train['thinness  1-19 years'] = x[country]"
   ]
  },
  {
   "cell_type": "code",
   "execution_count": 51,
   "metadata": {},
   "outputs": [
    {
     "data": {
      "text/plain": [
       "Country                            False\n",
       "Year                               False\n",
       "Status                             False\n",
       "Life expectancy                    False\n",
       "Adult Mortality                    False\n",
       "infant deaths                      False\n",
       "Alcohol                            False\n",
       "percentage expenditure             False\n",
       "Hepatitis B                        False\n",
       "Measles                            False\n",
       "BMI                                False\n",
       "under-five deaths                  False\n",
       "Polio                              False\n",
       "Total expenditure                  False\n",
       "Diphtheria                         False\n",
       "HIV/AIDS                           False\n",
       "GDP                                False\n",
       "Population                         False\n",
       "thinness  1-19 years               False\n",
       "thinness 5-9 years                 False\n",
       "Income composition of resources    False\n",
       "Schooling                          False\n",
       "dtype: bool"
      ]
     },
     "execution_count": 51,
     "metadata": {},
     "output_type": "execute_result"
    }
   ],
   "source": [
    "train.isna().any()"
   ]
  },
  {
   "cell_type": "markdown",
   "metadata": {},
   "source": [
    "### Handling Categorical Variables"
   ]
  },
  {
   "cell_type": "markdown",
   "metadata": {},
   "source": [
    "#### Column : Year"
   ]
  },
  {
   "cell_type": "code",
   "execution_count": 52,
   "metadata": {},
   "outputs": [
    {
     "name": "stdout",
     "output_type": "stream",
     "text": [
      "[2015 2014 2013 2012 2011 2010 2009 2008 2007 2006 2005 2004 2003 2002\n",
      " 2001 2000]\n"
     ]
    }
   ],
   "source": [
    "# Finding the number of unique entries in the year column\n",
    "uc=train['Year'].unique()\n",
    "print(uc)"
   ]
  },
  {
   "cell_type": "code",
   "execution_count": 53,
   "metadata": {},
   "outputs": [
    {
     "data": {
      "text/html": [
       "<div>\n",
       "<style scoped>\n",
       "    .dataframe tbody tr th:only-of-type {\n",
       "        vertical-align: middle;\n",
       "    }\n",
       "\n",
       "    .dataframe tbody tr th {\n",
       "        vertical-align: top;\n",
       "    }\n",
       "\n",
       "    .dataframe thead th {\n",
       "        text-align: right;\n",
       "    }\n",
       "</style>\n",
       "<table border=\"1\" class=\"dataframe\">\n",
       "  <thead>\n",
       "    <tr style=\"text-align: right;\">\n",
       "      <th></th>\n",
       "      <th>Year_2000</th>\n",
       "      <th>Year_2001</th>\n",
       "      <th>Year_2002</th>\n",
       "      <th>Year_2003</th>\n",
       "      <th>Year_2004</th>\n",
       "      <th>Year_2005</th>\n",
       "      <th>Year_2006</th>\n",
       "      <th>Year_2007</th>\n",
       "      <th>Year_2008</th>\n",
       "      <th>Year_2009</th>\n",
       "      <th>Year_2010</th>\n",
       "      <th>Year_2011</th>\n",
       "      <th>Year_2012</th>\n",
       "      <th>Year_2013</th>\n",
       "      <th>Year_2014</th>\n",
       "      <th>Year_2015</th>\n",
       "    </tr>\n",
       "  </thead>\n",
       "  <tbody>\n",
       "    <tr>\n",
       "      <th>0</th>\n",
       "      <td>0</td>\n",
       "      <td>0</td>\n",
       "      <td>0</td>\n",
       "      <td>0</td>\n",
       "      <td>0</td>\n",
       "      <td>0</td>\n",
       "      <td>0</td>\n",
       "      <td>0</td>\n",
       "      <td>0</td>\n",
       "      <td>0</td>\n",
       "      <td>0</td>\n",
       "      <td>0</td>\n",
       "      <td>0</td>\n",
       "      <td>0</td>\n",
       "      <td>0</td>\n",
       "      <td>1</td>\n",
       "    </tr>\n",
       "    <tr>\n",
       "      <th>1</th>\n",
       "      <td>0</td>\n",
       "      <td>0</td>\n",
       "      <td>0</td>\n",
       "      <td>0</td>\n",
       "      <td>0</td>\n",
       "      <td>0</td>\n",
       "      <td>0</td>\n",
       "      <td>0</td>\n",
       "      <td>0</td>\n",
       "      <td>0</td>\n",
       "      <td>0</td>\n",
       "      <td>0</td>\n",
       "      <td>0</td>\n",
       "      <td>0</td>\n",
       "      <td>1</td>\n",
       "      <td>0</td>\n",
       "    </tr>\n",
       "    <tr>\n",
       "      <th>2</th>\n",
       "      <td>0</td>\n",
       "      <td>0</td>\n",
       "      <td>0</td>\n",
       "      <td>0</td>\n",
       "      <td>0</td>\n",
       "      <td>0</td>\n",
       "      <td>0</td>\n",
       "      <td>0</td>\n",
       "      <td>0</td>\n",
       "      <td>0</td>\n",
       "      <td>0</td>\n",
       "      <td>0</td>\n",
       "      <td>0</td>\n",
       "      <td>1</td>\n",
       "      <td>0</td>\n",
       "      <td>0</td>\n",
       "    </tr>\n",
       "    <tr>\n",
       "      <th>3</th>\n",
       "      <td>0</td>\n",
       "      <td>0</td>\n",
       "      <td>0</td>\n",
       "      <td>0</td>\n",
       "      <td>0</td>\n",
       "      <td>0</td>\n",
       "      <td>0</td>\n",
       "      <td>0</td>\n",
       "      <td>0</td>\n",
       "      <td>0</td>\n",
       "      <td>0</td>\n",
       "      <td>0</td>\n",
       "      <td>1</td>\n",
       "      <td>0</td>\n",
       "      <td>0</td>\n",
       "      <td>0</td>\n",
       "    </tr>\n",
       "    <tr>\n",
       "      <th>4</th>\n",
       "      <td>0</td>\n",
       "      <td>0</td>\n",
       "      <td>0</td>\n",
       "      <td>0</td>\n",
       "      <td>0</td>\n",
       "      <td>0</td>\n",
       "      <td>0</td>\n",
       "      <td>0</td>\n",
       "      <td>0</td>\n",
       "      <td>0</td>\n",
       "      <td>0</td>\n",
       "      <td>1</td>\n",
       "      <td>0</td>\n",
       "      <td>0</td>\n",
       "      <td>0</td>\n",
       "      <td>0</td>\n",
       "    </tr>\n",
       "    <tr>\n",
       "      <th>...</th>\n",
       "      <td>...</td>\n",
       "      <td>...</td>\n",
       "      <td>...</td>\n",
       "      <td>...</td>\n",
       "      <td>...</td>\n",
       "      <td>...</td>\n",
       "      <td>...</td>\n",
       "      <td>...</td>\n",
       "      <td>...</td>\n",
       "      <td>...</td>\n",
       "      <td>...</td>\n",
       "      <td>...</td>\n",
       "      <td>...</td>\n",
       "      <td>...</td>\n",
       "      <td>...</td>\n",
       "      <td>...</td>\n",
       "    </tr>\n",
       "    <tr>\n",
       "      <th>2923</th>\n",
       "      <td>0</td>\n",
       "      <td>0</td>\n",
       "      <td>0</td>\n",
       "      <td>0</td>\n",
       "      <td>1</td>\n",
       "      <td>0</td>\n",
       "      <td>0</td>\n",
       "      <td>0</td>\n",
       "      <td>0</td>\n",
       "      <td>0</td>\n",
       "      <td>0</td>\n",
       "      <td>0</td>\n",
       "      <td>0</td>\n",
       "      <td>0</td>\n",
       "      <td>0</td>\n",
       "      <td>0</td>\n",
       "    </tr>\n",
       "    <tr>\n",
       "      <th>2924</th>\n",
       "      <td>0</td>\n",
       "      <td>0</td>\n",
       "      <td>0</td>\n",
       "      <td>1</td>\n",
       "      <td>0</td>\n",
       "      <td>0</td>\n",
       "      <td>0</td>\n",
       "      <td>0</td>\n",
       "      <td>0</td>\n",
       "      <td>0</td>\n",
       "      <td>0</td>\n",
       "      <td>0</td>\n",
       "      <td>0</td>\n",
       "      <td>0</td>\n",
       "      <td>0</td>\n",
       "      <td>0</td>\n",
       "    </tr>\n",
       "    <tr>\n",
       "      <th>2925</th>\n",
       "      <td>0</td>\n",
       "      <td>0</td>\n",
       "      <td>1</td>\n",
       "      <td>0</td>\n",
       "      <td>0</td>\n",
       "      <td>0</td>\n",
       "      <td>0</td>\n",
       "      <td>0</td>\n",
       "      <td>0</td>\n",
       "      <td>0</td>\n",
       "      <td>0</td>\n",
       "      <td>0</td>\n",
       "      <td>0</td>\n",
       "      <td>0</td>\n",
       "      <td>0</td>\n",
       "      <td>0</td>\n",
       "    </tr>\n",
       "    <tr>\n",
       "      <th>2926</th>\n",
       "      <td>0</td>\n",
       "      <td>1</td>\n",
       "      <td>0</td>\n",
       "      <td>0</td>\n",
       "      <td>0</td>\n",
       "      <td>0</td>\n",
       "      <td>0</td>\n",
       "      <td>0</td>\n",
       "      <td>0</td>\n",
       "      <td>0</td>\n",
       "      <td>0</td>\n",
       "      <td>0</td>\n",
       "      <td>0</td>\n",
       "      <td>0</td>\n",
       "      <td>0</td>\n",
       "      <td>0</td>\n",
       "    </tr>\n",
       "    <tr>\n",
       "      <th>2927</th>\n",
       "      <td>1</td>\n",
       "      <td>0</td>\n",
       "      <td>0</td>\n",
       "      <td>0</td>\n",
       "      <td>0</td>\n",
       "      <td>0</td>\n",
       "      <td>0</td>\n",
       "      <td>0</td>\n",
       "      <td>0</td>\n",
       "      <td>0</td>\n",
       "      <td>0</td>\n",
       "      <td>0</td>\n",
       "      <td>0</td>\n",
       "      <td>0</td>\n",
       "      <td>0</td>\n",
       "      <td>0</td>\n",
       "    </tr>\n",
       "  </tbody>\n",
       "</table>\n",
       "<p>2928 rows × 16 columns</p>\n",
       "</div>"
      ],
      "text/plain": [
       "      Year_2000  Year_2001  Year_2002  Year_2003  Year_2004  Year_2005  \\\n",
       "0             0          0          0          0          0          0   \n",
       "1             0          0          0          0          0          0   \n",
       "2             0          0          0          0          0          0   \n",
       "3             0          0          0          0          0          0   \n",
       "4             0          0          0          0          0          0   \n",
       "...         ...        ...        ...        ...        ...        ...   \n",
       "2923          0          0          0          0          1          0   \n",
       "2924          0          0          0          1          0          0   \n",
       "2925          0          0          1          0          0          0   \n",
       "2926          0          1          0          0          0          0   \n",
       "2927          1          0          0          0          0          0   \n",
       "\n",
       "      Year_2006  Year_2007  Year_2008  Year_2009  Year_2010  Year_2011  \\\n",
       "0             0          0          0          0          0          0   \n",
       "1             0          0          0          0          0          0   \n",
       "2             0          0          0          0          0          0   \n",
       "3             0          0          0          0          0          0   \n",
       "4             0          0          0          0          0          1   \n",
       "...         ...        ...        ...        ...        ...        ...   \n",
       "2923          0          0          0          0          0          0   \n",
       "2924          0          0          0          0          0          0   \n",
       "2925          0          0          0          0          0          0   \n",
       "2926          0          0          0          0          0          0   \n",
       "2927          0          0          0          0          0          0   \n",
       "\n",
       "      Year_2012  Year_2013  Year_2014  Year_2015  \n",
       "0             0          0          0          1  \n",
       "1             0          0          1          0  \n",
       "2             0          1          0          0  \n",
       "3             1          0          0          0  \n",
       "4             0          0          0          0  \n",
       "...         ...        ...        ...        ...  \n",
       "2923          0          0          0          0  \n",
       "2924          0          0          0          0  \n",
       "2925          0          0          0          0  \n",
       "2926          0          0          0          0  \n",
       "2927          0          0          0          0  \n",
       "\n",
       "[2928 rows x 16 columns]"
      ]
     },
     "execution_count": 53,
     "metadata": {},
     "output_type": "execute_result"
    }
   ],
   "source": [
    "# We will use one hot encoding method to convert the categorical data to numerical values in the dataset\n",
    "year=pd.get_dummies(train['Year'],columns='Year',prefix='Year')\n",
    "year"
   ]
  },
  {
   "cell_type": "code",
   "execution_count": 54,
   "metadata": {},
   "outputs": [],
   "source": [
    "train = train.dropna(subset=['Life expectancy'],how='any')"
   ]
  },
  {
   "cell_type": "code",
   "execution_count": null,
   "metadata": {},
   "outputs": [],
   "source": []
  },
  {
   "cell_type": "code",
   "execution_count": 55,
   "metadata": {},
   "outputs": [],
   "source": [
    "train=pd.concat([train, year], axis=1)\n",
    "train.drop(['Year'],axis=1,inplace= True)"
   ]
  },
  {
   "cell_type": "markdown",
   "metadata": {},
   "source": [
    "#### Column : Status"
   ]
  },
  {
   "cell_type": "code",
   "execution_count": 56,
   "metadata": {},
   "outputs": [
    {
     "data": {
      "text/plain": [
       "array(['Developing', 'Developed'], dtype=object)"
      ]
     },
     "execution_count": 56,
     "metadata": {},
     "output_type": "execute_result"
    }
   ],
   "source": [
    "# Finding the number of unique entries in the Status column\n",
    "train['Status'].unique()\n"
   ]
  },
  {
   "cell_type": "code",
   "execution_count": 57,
   "metadata": {},
   "outputs": [],
   "source": [
    "# Since there are only two unique values, we will convert this column into a 0/1 column\n",
    "train['Status'] = train['Status'].map({'Developing':0,'Developed':1}).astype(int)"
   ]
  },
  {
   "cell_type": "code",
   "execution_count": 58,
   "metadata": {},
   "outputs": [
    {
     "data": {
      "text/plain": [
       "(2928, 37)"
      ]
     },
     "execution_count": 58,
     "metadata": {},
     "output_type": "execute_result"
    }
   ],
   "source": [
    "# Checking the shape of the two datasets\n",
    "train.shape"
   ]
  },
  {
   "cell_type": "markdown",
   "metadata": {},
   "source": [
    "# Machine Learning Model"
   ]
  },
  {
   "cell_type": "markdown",
   "metadata": {},
   "source": [
    "## Splitting the dataset into train and test, Scaling the dataset"
   ]
  },
  {
   "cell_type": "code",
   "execution_count": 59,
   "metadata": {},
   "outputs": [
    {
     "data": {
      "text/html": [
       "<div>\n",
       "<style scoped>\n",
       "    .dataframe tbody tr th:only-of-type {\n",
       "        vertical-align: middle;\n",
       "    }\n",
       "\n",
       "    .dataframe tbody tr th {\n",
       "        vertical-align: top;\n",
       "    }\n",
       "\n",
       "    .dataframe thead th {\n",
       "        text-align: right;\n",
       "    }\n",
       "</style>\n",
       "<table border=\"1\" class=\"dataframe\">\n",
       "  <thead>\n",
       "    <tr style=\"text-align: right;\">\n",
       "      <th></th>\n",
       "      <th>Status</th>\n",
       "      <th>Adult Mortality</th>\n",
       "      <th>infant deaths</th>\n",
       "      <th>Alcohol</th>\n",
       "      <th>percentage expenditure</th>\n",
       "      <th>Hepatitis B</th>\n",
       "      <th>Measles</th>\n",
       "      <th>BMI</th>\n",
       "      <th>under-five deaths</th>\n",
       "      <th>Polio</th>\n",
       "      <th>...</th>\n",
       "      <th>Year_2006</th>\n",
       "      <th>Year_2007</th>\n",
       "      <th>Year_2008</th>\n",
       "      <th>Year_2009</th>\n",
       "      <th>Year_2010</th>\n",
       "      <th>Year_2011</th>\n",
       "      <th>Year_2012</th>\n",
       "      <th>Year_2013</th>\n",
       "      <th>Year_2014</th>\n",
       "      <th>Year_2015</th>\n",
       "    </tr>\n",
       "  </thead>\n",
       "  <tbody>\n",
       "    <tr>\n",
       "      <th>0</th>\n",
       "      <td>0</td>\n",
       "      <td>263</td>\n",
       "      <td>62</td>\n",
       "      <td>0.45</td>\n",
       "      <td>71.279624</td>\n",
       "      <td>94.5</td>\n",
       "      <td>1154</td>\n",
       "      <td>58.66875</td>\n",
       "      <td>83</td>\n",
       "      <td>92.5</td>\n",
       "      <td>...</td>\n",
       "      <td>0</td>\n",
       "      <td>0</td>\n",
       "      <td>0</td>\n",
       "      <td>0</td>\n",
       "      <td>0</td>\n",
       "      <td>0</td>\n",
       "      <td>0</td>\n",
       "      <td>0</td>\n",
       "      <td>0</td>\n",
       "      <td>1</td>\n",
       "    </tr>\n",
       "    <tr>\n",
       "      <th>1</th>\n",
       "      <td>0</td>\n",
       "      <td>271</td>\n",
       "      <td>64</td>\n",
       "      <td>0.45</td>\n",
       "      <td>73.523582</td>\n",
       "      <td>94.5</td>\n",
       "      <td>492</td>\n",
       "      <td>58.66875</td>\n",
       "      <td>86</td>\n",
       "      <td>92.5</td>\n",
       "      <td>...</td>\n",
       "      <td>0</td>\n",
       "      <td>0</td>\n",
       "      <td>0</td>\n",
       "      <td>0</td>\n",
       "      <td>0</td>\n",
       "      <td>0</td>\n",
       "      <td>0</td>\n",
       "      <td>0</td>\n",
       "      <td>1</td>\n",
       "      <td>0</td>\n",
       "    </tr>\n",
       "    <tr>\n",
       "      <th>2</th>\n",
       "      <td>0</td>\n",
       "      <td>268</td>\n",
       "      <td>66</td>\n",
       "      <td>0.45</td>\n",
       "      <td>73.219243</td>\n",
       "      <td>94.5</td>\n",
       "      <td>430</td>\n",
       "      <td>58.66875</td>\n",
       "      <td>89</td>\n",
       "      <td>92.5</td>\n",
       "      <td>...</td>\n",
       "      <td>0</td>\n",
       "      <td>0</td>\n",
       "      <td>0</td>\n",
       "      <td>0</td>\n",
       "      <td>0</td>\n",
       "      <td>0</td>\n",
       "      <td>0</td>\n",
       "      <td>1</td>\n",
       "      <td>0</td>\n",
       "      <td>0</td>\n",
       "    </tr>\n",
       "    <tr>\n",
       "      <th>3</th>\n",
       "      <td>0</td>\n",
       "      <td>272</td>\n",
       "      <td>69</td>\n",
       "      <td>0.45</td>\n",
       "      <td>78.184215</td>\n",
       "      <td>94.5</td>\n",
       "      <td>2787</td>\n",
       "      <td>58.66875</td>\n",
       "      <td>93</td>\n",
       "      <td>92.5</td>\n",
       "      <td>...</td>\n",
       "      <td>0</td>\n",
       "      <td>0</td>\n",
       "      <td>0</td>\n",
       "      <td>0</td>\n",
       "      <td>0</td>\n",
       "      <td>0</td>\n",
       "      <td>1</td>\n",
       "      <td>0</td>\n",
       "      <td>0</td>\n",
       "      <td>0</td>\n",
       "    </tr>\n",
       "    <tr>\n",
       "      <th>4</th>\n",
       "      <td>0</td>\n",
       "      <td>275</td>\n",
       "      <td>71</td>\n",
       "      <td>0.45</td>\n",
       "      <td>7.097109</td>\n",
       "      <td>94.5</td>\n",
       "      <td>3013</td>\n",
       "      <td>58.66875</td>\n",
       "      <td>97</td>\n",
       "      <td>92.5</td>\n",
       "      <td>...</td>\n",
       "      <td>0</td>\n",
       "      <td>0</td>\n",
       "      <td>0</td>\n",
       "      <td>0</td>\n",
       "      <td>0</td>\n",
       "      <td>1</td>\n",
       "      <td>0</td>\n",
       "      <td>0</td>\n",
       "      <td>0</td>\n",
       "      <td>0</td>\n",
       "    </tr>\n",
       "  </tbody>\n",
       "</table>\n",
       "<p>5 rows × 35 columns</p>\n",
       "</div>"
      ],
      "text/plain": [
       "   Status  Adult Mortality  infant deaths  Alcohol  percentage expenditure  \\\n",
       "0       0              263             62     0.45               71.279624   \n",
       "1       0              271             64     0.45               73.523582   \n",
       "2       0              268             66     0.45               73.219243   \n",
       "3       0              272             69     0.45               78.184215   \n",
       "4       0              275             71     0.45                7.097109   \n",
       "\n",
       "   Hepatitis B  Measles       BMI  under-five deaths  Polio  ...  Year_2006  \\\n",
       "0         94.5     1154  58.66875                 83   92.5  ...          0   \n",
       "1         94.5      492  58.66875                 86   92.5  ...          0   \n",
       "2         94.5      430  58.66875                 89   92.5  ...          0   \n",
       "3         94.5     2787  58.66875                 93   92.5  ...          0   \n",
       "4         94.5     3013  58.66875                 97   92.5  ...          0   \n",
       "\n",
       "   Year_2007  Year_2008  Year_2009  Year_2010  Year_2011  Year_2012  \\\n",
       "0          0          0          0          0          0          0   \n",
       "1          0          0          0          0          0          0   \n",
       "2          0          0          0          0          0          0   \n",
       "3          0          0          0          0          0          1   \n",
       "4          0          0          0          0          1          0   \n",
       "\n",
       "   Year_2013  Year_2014  Year_2015  \n",
       "0          0          0          1  \n",
       "1          0          1          0  \n",
       "2          1          0          0  \n",
       "3          0          0          0  \n",
       "4          0          0          0  \n",
       "\n",
       "[5 rows x 35 columns]"
      ]
     },
     "execution_count": 59,
     "metadata": {},
     "output_type": "execute_result"
    }
   ],
   "source": [
    "X = train.drop([\"Life expectancy\",\"Country\"],axis=1)\n",
    "y = train['Life expectancy']\n",
    "X.head()"
   ]
  },
  {
   "cell_type": "code",
   "execution_count": 60,
   "metadata": {},
   "outputs": [
    {
     "data": {
      "text/plain": [
       "0       65.0\n",
       "1       59.9\n",
       "2       59.9\n",
       "3       59.5\n",
       "4       59.2\n",
       "        ... \n",
       "2923    44.3\n",
       "2924    44.5\n",
       "2925    44.8\n",
       "2926    45.3\n",
       "2927    46.0\n",
       "Name: Life expectancy, Length: 2928, dtype: float64"
      ]
     },
     "execution_count": 60,
     "metadata": {},
     "output_type": "execute_result"
    }
   ],
   "source": [
    "y"
   ]
  },
  {
   "cell_type": "code",
   "execution_count": 61,
   "metadata": {},
   "outputs": [],
   "source": [
    "from sklearn.preprocessing import MinMaxScaler\n",
    "from sklearn.model_selection import train_test_split\n",
    "\n",
    "X_train_org, X_test_org, y_train, y_test = train_test_split(X, y, random_state = 0)\n",
    "\n",
    "scaler = MinMaxScaler()\n",
    "X_train = scaler.fit_transform(X_train_org)\n",
    "X_test = scaler.transform(X_test_org)"
   ]
  },
  {
   "cell_type": "markdown",
   "metadata": {},
   "source": [
    "## K Neighbors Regressor"
   ]
  },
  {
   "cell_type": "code",
   "execution_count": 62,
   "metadata": {},
   "outputs": [],
   "source": [
    "from sklearn.neighbors import KNeighborsRegressor\n",
    "from sklearn.model_selection import GridSearchCV\n",
    "\n",
    "knn_neighbours = { 'n_neighbors':[1,2,3,4,5,6,7,8,9,10]}"
   ]
  },
  {
   "cell_type": "code",
   "execution_count": 63,
   "metadata": {},
   "outputs": [
    {
     "data": {
      "text/plain": [
       "GridSearchCV(cv=10, estimator=KNeighborsRegressor(),\n",
       "             param_grid={'n_neighbors': [1, 2, 3, 4, 5, 6, 7, 8, 9, 10]},\n",
       "             return_train_score=True)"
      ]
     },
     "execution_count": 63,
     "metadata": {},
     "output_type": "execute_result"
    }
   ],
   "source": [
    "Grid_KNN = GridSearchCV(KNeighborsRegressor(),knn_neighbours,cv=10,return_train_score=True)\n",
    "Grid_KNN.fit(X_train, y_train)"
   ]
  },
  {
   "cell_type": "code",
   "execution_count": 64,
   "metadata": {},
   "outputs": [
    {
     "name": "stdout",
     "output_type": "stream",
     "text": [
      "Best cross-validation score for the model is: 0.8375\n",
      "Best parameters are:  {'n_neighbors': 4}\n",
      "Best estimator is:  KNeighborsRegressor(n_neighbors=4)\n"
     ]
    }
   ],
   "source": [
    "# Finding out the best parameters for the model\n",
    "\n",
    "print(\"Best cross-validation score for the model is: {:.4f}\".format(Grid_KNN.best_score_))\n",
    "print('Best parameters are: ', Grid_KNN.best_params_)\n",
    "print('Best estimator is: ', Grid_KNN.best_estimator_)"
   ]
  },
  {
   "cell_type": "code",
   "execution_count": 65,
   "metadata": {},
   "outputs": [
    {
     "name": "stdout",
     "output_type": "stream",
     "text": [
      "The train score is: 0.9126 \n",
      "The test score is: 0.8516 \n"
     ]
    }
   ],
   "source": [
    "# Reporting the training and testing scores for the best model\n",
    "\n",
    "print(\"The train score is: {:.4f} \".format(Grid_KNN.score(X_train, y_train)))\n",
    "print(\"The test score is: {:.4f} \".format(Grid_KNN.score(X_test, y_test)))"
   ]
  },
  {
   "cell_type": "code",
   "execution_count": 66,
   "metadata": {},
   "outputs": [
    {
     "data": {
      "text/plain": [
       "<matplotlib.collections.PathCollection at 0x20463dc0>"
      ]
     },
     "execution_count": 66,
     "metadata": {},
     "output_type": "execute_result"
    },
    {
     "data": {
      "image/png": "[encoded data removed]",
      "text/plain": [
       "<Figure size 432x288 with 1 Axes>"
      ]
     },
     "metadata": {
      "needs_background": "light"
     },
     "output_type": "display_data"
    }
   ],
   "source": [
    "#BMI and Life Expectancy\n",
    "X_b = X_train[:50,8].reshape(-1,1)\n",
    "y_b = y_train[:50]\n",
    "\n",
    "knn_reg = KNeighborsRegressor(5)\n",
    "knn_reg.fit(X_b, y_b)\n",
    "\n",
    "X_new=np.linspace(X_b.min(), X_b.max(), 50).reshape(50, 1)\n",
    "y_predict = knn_reg.predict(X_new)\n",
    "\n",
    "plt.plot(X_new, y_predict, c = 'r')\n",
    "plt.scatter(X_b, y_b)"
   ]
  },
  {
   "cell_type": "markdown",
   "metadata": {},
   "source": [
    "## Linear Regression using Normal Equation"
   ]
  },
  {
   "cell_type": "code",
   "execution_count": 67,
   "metadata": {},
   "outputs": [
    {
     "name": "stdout",
     "output_type": "stream",
     "text": [
      "The Best cross validation score is: 0.6788 \n",
      "0.6933\n",
      "0.6640\n"
     ]
    }
   ],
   "source": [
    "from sklearn.linear_model import LinearRegression\n",
    "from sklearn.model_selection import cross_val_score\n",
    "\n",
    "lreg = LinearRegression()\n",
    "lreg.fit(X_train, y_train)\n",
    "score = cross_val_score(lreg,X_train,y_train,cv=10)\n",
    "print(\"The Best cross validation score is: {:.4f} \".format(score.mean()))\n",
    "print(\"{:.4f}\".format(lreg.score(X_train, y_train)))\n",
    "print(\"{:.4f}\".format(lreg.score(X_test, y_test)))"
   ]
  },
  {
   "cell_type": "code",
   "execution_count": 68,
   "metadata": {},
   "outputs": [
    {
     "data": {
      "text/plain": [
       "Text(0.5, 0, 'RM')"
      ]
     },
     "execution_count": 68,
     "metadata": {},
     "output_type": "execute_result"
    },
    {
     "data": {
      "image/png": "[encoded data removed]",
      "text/plain": [
       "<Figure size 432x288 with 1 Axes>"
      ]
     },
     "metadata": {
      "needs_background": "light"
     },
     "output_type": "display_data"
    }
   ],
   "source": [
    "%matplotlib inline\n",
    "import matplotlib.pyplot as plt\n",
    "\n",
    "X_train_rm = X_train[:,1].reshape(-1,1)\n",
    "lreg.fit(X_train_rm, y_train)\n",
    "y_predict = lreg.predict(X_train_rm)\n",
    "\n",
    "plt.plot(X_train_rm, y_predict, c = 'r')\n",
    "plt.scatter(X_train_rm,y_train)\n",
    "plt.xlabel('RM')"
   ]
  },
  {
   "cell_type": "markdown",
   "metadata": {},
   "source": [
    "## Ridge Regression"
   ]
  },
  {
   "cell_type": "code",
   "execution_count": 69,
   "metadata": {},
   "outputs": [],
   "source": [
    "from sklearn.model_selection import GridSearchCV\n",
    "from  sklearn.linear_model import Ridge\n",
    "\n",
    "param_grid = {'alpha':[0.001,0.01, 0.1, 1, 10, 100,1000]}"
   ]
  },
  {
   "cell_type": "code",
   "execution_count": 70,
   "metadata": {},
   "outputs": [
    {
     "data": {
      "text/plain": [
       "GridSearchCV(cv=10, estimator=Ridge(),\n",
       "             param_grid={'alpha': [0.001, 0.01, 0.1, 1, 10, 100, 1000]},\n",
       "             return_train_score=True)"
      ]
     },
     "execution_count": 70,
     "metadata": {},
     "output_type": "execute_result"
    }
   ],
   "source": [
    "Grid_Ridge = GridSearchCV(Ridge(),param_grid,cv=10,return_train_score=True)\n",
    "Grid_Ridge.fit(X_train,y_train)"
   ]
  },
  {
   "cell_type": "code",
   "execution_count": 71,
   "metadata": {},
   "outputs": [
    {
     "name": "stdout",
     "output_type": "stream",
     "text": [
      "Best Cross-Validation Score: 0.6790\n",
      "Best Paramater: {'alpha': 0.001}\n"
     ]
    }
   ],
   "source": [
    "# Finding out the best parameters for the model\n",
    "\n",
    "print(\"Best Cross-Validation Score: {:.4f}\".format(Grid_Ridge.best_score_))\n",
    "print('Best Paramater:',Grid_Ridge.best_params_)"
   ]
  },
  {
   "cell_type": "code",
   "execution_count": 72,
   "metadata": {},
   "outputs": [
    {
     "name": "stdout",
     "output_type": "stream",
     "text": [
      "Best Training score: 0.6933\n",
      "Best Testing score: 0.6644\n"
     ]
    }
   ],
   "source": [
    "# Reporting the training and testing scores for the best model\n",
    "\n",
    "print(\"Best Training score: {:.4f}\".format(Grid_Ridge.score(X_train,y_train)))\n",
    "print(\"Best Testing score: {:.4f}\".format(Grid_Ridge.score(X_test,y_test)))"
   ]
  },
  {
   "cell_type": "code",
   "execution_count": 73,
   "metadata": {},
   "outputs": [
    {
     "data": {
      "image/png": "[encoded data removed]",
      "text/plain": [
       "<Figure size 432x288 with 1 Axes>"
      ]
     },
     "metadata": {
      "needs_background": "light"
     },
     "output_type": "display_data"
    }
   ],
   "source": [
    "%matplotlib inline\n",
    "import numpy as np\n",
    "\n",
    "x_range1 = np.linspace(0.001, 1, 100).reshape(-1,1)\n",
    "x_range2 = np.linspace(1, 10000, 10000).reshape(-1,1)\n",
    "\n",
    "x_range = np.append(x_range1, x_range2)\n",
    "coeff = []\n",
    "\n",
    "for alpha in x_range: \n",
    "    ridge = Ridge(alpha)\n",
    "    ridge.fit(X_train,y_train)\n",
    "    coeff.append(ridge.coef_ )\n",
    "    \n",
    "coeff = np.array(coeff)\n",
    "\n",
    "for i in range(0,13):\n",
    "    plt.plot(x_range, coeff[:,i], label = 'feature {:d}'.format(i))\n",
    "\n",
    "plt.axhline(y=0, xmin=0.001, xmax=9999, linewidth=1, c ='gray')\n",
    "plt.xlabel(r'$\\alpha$')\n",
    "plt.xscale('log')\n",
    "plt.legend(loc='upper center', bbox_to_anchor=(0.5, 1.5),\n",
    "          ncol=3, fancybox=True, shadow=True)\n",
    "plt.show()"
   ]
  },
  {
   "cell_type": "markdown",
   "metadata": {},
   "source": [
    "## Lasso Regression"
   ]
  },
  {
   "cell_type": "code",
   "execution_count": 74,
   "metadata": {},
   "outputs": [],
   "source": [
    "from sklearn.model_selection import GridSearchCV\n",
    "from  sklearn.linear_model import Lasso\n",
    "\n",
    "param_grid = {'alpha':[0.001,0.01, 0.1, 1, 10, 100,1000]}"
   ]
  },
  {
   "cell_type": "code",
   "execution_count": 75,
   "metadata": {},
   "outputs": [
    {
     "name": "stderr",
     "output_type": "stream",
     "text": [
      "c:\\users\\rajas\\appdata\\local\\programs\\python\\python38-32\\lib\\site-packages\\sklearn\\linear_model\\_coordinate_descent.py:529: ConvergenceWarning: Objective did not converge. You might want to increase the number of iterations. Duality gap: 17.774375464461627, tolerance: 17.643138605263157\n",
      "  model = cd_fast.enet_coordinate_descent(\n",
      "c:\\users\\rajas\\appdata\\local\\programs\\python\\python38-32\\lib\\site-packages\\sklearn\\linear_model\\_coordinate_descent.py:529: ConvergenceWarning: Objective did not converge. You might want to increase the number of iterations. Duality gap: 20.180701786186546, tolerance: 18.0092327368421\n",
      "  model = cd_fast.enet_coordinate_descent(\n"
     ]
    },
    {
     "data": {
      "text/plain": [
       "GridSearchCV(cv=10, estimator=Lasso(),\n",
       "             param_grid={'alpha': [0.001, 0.01, 0.1, 1, 10, 100, 1000]},\n",
       "             return_train_score=True)"
      ]
     },
     "execution_count": 75,
     "metadata": {},
     "output_type": "execute_result"
    }
   ],
   "source": [
    "Grid_Lasso = GridSearchCV(Lasso(),param_grid,cv=10,return_train_score=True)\n",
    "Grid_Lasso.fit(X_train,y_train)"
   ]
  },
  {
   "cell_type": "code",
   "execution_count": 76,
   "metadata": {},
   "outputs": [
    {
     "name": "stdout",
     "output_type": "stream",
     "text": [
      "Best Cross-Validation Score: 0.6784\n",
      "Best Paramater: {'alpha': 0.001}\n"
     ]
    }
   ],
   "source": [
    "# Finding out the best parameters for the model\n",
    "\n",
    "print(\"Best Cross-Validation Score: {:.4f}\".format(Grid_Lasso.best_score_))\n",
    "print('Best Paramater:',Grid_Lasso.best_params_)"
   ]
  },
  {
   "cell_type": "code",
   "execution_count": 77,
   "metadata": {},
   "outputs": [
    {
     "name": "stdout",
     "output_type": "stream",
     "text": [
      "Best Training score: 0.6917\n",
      "Best Testing score: 0.6660\n"
     ]
    }
   ],
   "source": [
    "# Reporting the training and testing scores for the best model\n",
    "\n",
    "print(\"Best Training score: {:.4f}\".format(Grid_Lasso.score(X_train,y_train)))\n",
    "print(\"Best Testing score: {:.4f}\".format(Grid_Lasso.score(X_test,y_test)))"
   ]
  },
  {
   "cell_type": "code",
   "execution_count": 78,
   "metadata": {},
   "outputs": [
    {
     "data": {
      "image/png": "[encoded data removed]",
      "text/plain": [
       "<Figure size 432x288 with 1 Axes>"
      ]
     },
     "metadata": {
      "needs_background": "light"
     },
     "output_type": "display_data"
    }
   ],
   "source": [
    "%matplotlib inline\n",
    "\n",
    "x_range1 = np.linspace(0.001, 1, 1000).reshape(-1,1)\n",
    "x_range2 = np.linspace(1, 1000, 1000).reshape(-1,1)\n",
    "\n",
    "x_range = np.append(x_range1, x_range2)\n",
    "coeff = []\n",
    "\n",
    "for alpha in x_range: \n",
    "    lasso = Lasso(alpha)\n",
    "    lasso.fit(X_train,y_train)\n",
    "    coeff.append(lasso.coef_ )\n",
    "    \n",
    "coeff = np.array(coeff)\n",
    "\n",
    "for i in range(0,13):\n",
    "    plt.plot(x_range, coeff[:,i], label = 'feature {:d}'.format(i))\n",
    "\n",
    "plt.axhline(y=0, xmin=0.001, xmax=9999, linewidth=1, c ='gray')\n",
    "plt.xlabel(r'$\\alpha$')\n",
    "plt.xscale('log')\n",
    "plt.legend(loc='upper center', bbox_to_anchor=(0.5, 1.5),\n",
    "          ncol=3, fancybox=True, shadow=True)\n",
    "plt.show()"
   ]
  },
  {
   "cell_type": "code",
   "execution_count": null,
   "metadata": {},
   "outputs": [],
   "source": []
  },
  {
   "cell_type": "markdown",
   "metadata": {},
   "source": [
    "## Polynomial Regression"
   ]
  },
  {
   "cell_type": "code",
   "execution_count": 79,
   "metadata": {},
   "outputs": [],
   "source": [
    "from sklearn.preprocessing  import PolynomialFeatures\n",
    "from sklearn.model_selection import GridSearchCV\n",
    "from sklearn.pipeline import make_pipeline\n",
    "\n",
    "param_grid = {'polynomialfeatures__degree':[1,2,3]}"
   ]
  },
  {
   "cell_type": "code",
   "execution_count": 80,
   "metadata": {},
   "outputs": [],
   "source": [
    "pipeline = make_pipeline(PolynomialFeatures(),LinearRegression())"
   ]
  },
  {
   "cell_type": "code",
   "execution_count": 81,
   "metadata": {
    "scrolled": false
   },
   "outputs": [
    {
     "data": {
      "text/plain": [
       "GridSearchCV(cv=10,\n",
       "             estimator=Pipeline(steps=[('polynomialfeatures',\n",
       "                                        PolynomialFeatures()),\n",
       "                                       ('linearregression',\n",
       "                                        LinearRegression())]),\n",
       "             param_grid={'polynomialfeatures__degree': [1, 2, 3]},\n",
       "             return_train_score=True)"
      ]
     },
     "execution_count": 81,
     "metadata": {},
     "output_type": "execute_result"
    }
   ],
   "source": [
    "Grid_Poly = GridSearchCV(pipeline,param_grid,cv=10,return_train_score=True)\n",
    "Grid_Poly.fit(X_train,y_train)"
   ]
  },
  {
   "cell_type": "code",
   "execution_count": 82,
   "metadata": {},
   "outputs": [
    {
     "name": "stdout",
     "output_type": "stream",
     "text": [
      "Best Cross-Validation Score: 0.7170\n",
      "Best Paramater: {'polynomialfeatures__degree': 2}\n"
     ]
    }
   ],
   "source": [
    "# Finding out the best parameters for the model\n",
    "\n",
    "print(\"Best Cross-Validation Score: {:.4f}\".format(Grid_Poly.best_score_))\n",
    "print('Best Paramater:',Grid_Poly.best_params_)"
   ]
  },
  {
   "cell_type": "code",
   "execution_count": 83,
   "metadata": {},
   "outputs": [
    {
     "name": "stdout",
     "output_type": "stream",
     "text": [
      "Best Training score: 0.8537\n",
      "Best Testing score: 0.7423\n"
     ]
    }
   ],
   "source": [
    "# Reporting the training and testing scores for the best model\n",
    "\n",
    "print(\"Best Training score: {:.4f}\".format(Grid_Poly.score(X_train,y_train)))\n",
    "print(\"Best Testing score: {:.4f}\".format(Grid_Poly.score(X_test,y_test)))"
   ]
  },
  {
   "cell_type": "markdown",
   "metadata": {},
   "source": [
    "## Linear SVM"
   ]
  },
  {
   "cell_type": "code",
   "execution_count": 84,
   "metadata": {},
   "outputs": [
    {
     "data": {
      "text/plain": [
       "GridSearchCV(cv=10, estimator=LinearSVR(),\n",
       "             param_grid={'C': [0.001, 0.01, 0.1, 1, 10, 100], 'tol': [1]},\n",
       "             return_train_score=True, scoring='r2')"
      ]
     },
     "execution_count": 84,
     "metadata": {},
     "output_type": "execute_result"
    }
   ],
   "source": [
    "from sklearn.model_selection import GridSearchCV\n",
    "from sklearn.svm import LinearSVR\n",
    "\n",
    "param_grid = {'C': [0.001, 0.01, 0.1, 1, 10, 100],'tol':[1]}\n",
    "\n",
    "Grid_LSVC = GridSearchCV(LinearSVR(), param_grid, cv=10, return_train_score=True,scoring='r2')\n",
    "Grid_LSVC.fit(X_train, y_train)"
   ]
  },
  {
   "cell_type": "code",
   "execution_count": 85,
   "metadata": {},
   "outputs": [
    {
     "name": "stdout",
     "output_type": "stream",
     "text": [
      "Best Cross-Validation Score: 0.5395\n",
      "Best Paramater: {'C': 1, 'tol': 1}\n"
     ]
    }
   ],
   "source": [
    "# Finding out the best parameters for the model\n",
    "\n",
    "print(\"Best Cross-Validation Score: {:.4f}\".format(Grid_LSVC.best_score_))\n",
    "print('Best Paramater:',Grid_LSVC.best_params_)"
   ]
  },
  {
   "cell_type": "code",
   "execution_count": 86,
   "metadata": {},
   "outputs": [
    {
     "name": "stdout",
     "output_type": "stream",
     "text": [
      "Best Training score :0.6087\n",
      "Best Testing score: 0.5819\n"
     ]
    }
   ],
   "source": [
    "# Reporting the training and testing scores for the best model\n",
    "\n",
    "print(\"Best Training score :{:.4f}\".format(Grid_LSVC.score(X_train,y_train)))\n",
    "print(\"Best Testing score: {:.4f}\".format(Grid_LSVC.score(X_test,y_test)))"
   ]
  },
  {
   "cell_type": "markdown",
   "metadata": {},
   "source": [
    "## SVM with Linear Kernel"
   ]
  },
  {
   "cell_type": "code",
   "execution_count": 87,
   "metadata": {},
   "outputs": [],
   "source": [
    "from sklearn.model_selection import GridSearchCV\n",
    "from sklearn.svm import SVR\n",
    "\n",
    "param_grid = {'C': [0.001, 0.01, 0.1, 1, 10, 100]}"
   ]
  },
  {
   "cell_type": "code",
   "execution_count": 88,
   "metadata": {},
   "outputs": [
    {
     "data": {
      "text/plain": [
       "GridSearchCV(cv=10, estimator=SVR(kernel='linear'),\n",
       "             param_grid={'C': [0.001, 0.01, 0.1, 1, 10, 100]},\n",
       "             return_train_score=True)"
      ]
     },
     "execution_count": 88,
     "metadata": {},
     "output_type": "execute_result"
    }
   ],
   "source": [
    "Grid_LK = GridSearchCV(SVR(kernel = 'linear'), param_grid, cv=10, return_train_score=True)\n",
    "Grid_LK.fit(X_train, y_train)"
   ]
  },
  {
   "cell_type": "code",
   "execution_count": 89,
   "metadata": {},
   "outputs": [
    {
     "name": "stdout",
     "output_type": "stream",
     "text": [
      "Best parameters: {'C': 1}\n",
      "Best cross-validation score: 0.6058\n"
     ]
    }
   ],
   "source": [
    "# Finding out the best parameters for the model\n",
    "\n",
    "print(\"Best parameters: {}\".format(Grid_LK.best_params_))\n",
    "print(\"Best cross-validation score: {:.4f}\".format(Grid_LK.best_score_))"
   ]
  },
  {
   "cell_type": "code",
   "execution_count": 90,
   "metadata": {},
   "outputs": [
    {
     "name": "stdout",
     "output_type": "stream",
     "text": [
      "Best training score: 0.6201\n",
      "Best testing score: 0.6223\n"
     ]
    }
   ],
   "source": [
    "# Reporting the training and testing scores for the best model\n",
    "\n",
    "print(\"Best training score: {:.4f}\".format(Grid_LK.score(X_train,y_train)))\n",
    "print(\"Best testing score: {:.4f}\".format(Grid_LK.score(X_test,y_test)))"
   ]
  },
  {
   "cell_type": "markdown",
   "metadata": {},
   "source": [
    "## SVM with Poly Kernel"
   ]
  },
  {
   "cell_type": "code",
   "execution_count": 91,
   "metadata": {},
   "outputs": [],
   "source": [
    "from sklearn.model_selection import GridSearchCV\n",
    "from sklearn.svm import SVR\n",
    "\n",
    "param_grid = {'C': [0.001, 0.01, 0.1, 1, 10, 100]}"
   ]
  },
  {
   "cell_type": "code",
   "execution_count": 92,
   "metadata": {},
   "outputs": [
    {
     "data": {
      "text/plain": [
       "GridSearchCV(cv=10, estimator=SVR(kernel='poly'),\n",
       "             param_grid={'C': [0.001, 0.01, 0.1, 1, 10, 100]},\n",
       "             return_train_score=True)"
      ]
     },
     "execution_count": 92,
     "metadata": {},
     "output_type": "execute_result"
    }
   ],
   "source": [
    "Grid_PK = GridSearchCV(SVR(kernel = 'poly'), param_grid, cv=10, return_train_score=True)\n",
    "Grid_PK.fit(X_train, y_train)"
   ]
  },
  {
   "cell_type": "code",
   "execution_count": 93,
   "metadata": {},
   "outputs": [
    {
     "name": "stdout",
     "output_type": "stream",
     "text": [
      "Best parameters: {'C': 10}\n",
      "Best cross-validation score: 0.6661\n"
     ]
    }
   ],
   "source": [
    "# Finding out the best parameters for the model\n",
    "\n",
    "print(\"Best parameters: {}\".format(Grid_PK.best_params_))\n",
    "print(\"Best cross-validation score: {:.4f}\".format(Grid_PK.best_score_))"
   ]
  },
  {
   "cell_type": "code",
   "execution_count": 94,
   "metadata": {},
   "outputs": [
    {
     "name": "stdout",
     "output_type": "stream",
     "text": [
      "Best training score: 0.7093\n",
      "Best testing score: 0.6825\n"
     ]
    }
   ],
   "source": [
    "# Reporting the training and testing scores for the best model\n",
    "\n",
    "print(\"Best training score: {:.4f}\".format(Grid_PK.score(X_train,y_train)))\n",
    "print(\"Best testing score: {:.4f}\".format(Grid_PK.score(X_test,y_test)))"
   ]
  },
  {
   "cell_type": "markdown",
   "metadata": {},
   "source": [
    "## SVM with RBF Kernel"
   ]
  },
  {
   "cell_type": "code",
   "execution_count": 95,
   "metadata": {},
   "outputs": [],
   "source": [
    "from sklearn.model_selection import GridSearchCV\n",
    "from sklearn.svm import SVR\n",
    "\n",
    "param_grid = {'C': [0.001, 0.01, 0.1, 1, 10, 100],\n",
    "              'gamma': [0.001, 0.01, 0.1, 1, 10, 100]}"
   ]
  },
  {
   "cell_type": "code",
   "execution_count": 96,
   "metadata": {},
   "outputs": [
    {
     "data": {
      "text/plain": [
       "GridSearchCV(cv=10, estimator=SVR(),\n",
       "             param_grid={'C': [0.001, 0.01, 0.1, 1, 10, 100],\n",
       "                         'gamma': [0.001, 0.01, 0.1, 1, 10, 100]},\n",
       "             return_train_score=True)"
      ]
     },
     "execution_count": 96,
     "metadata": {},
     "output_type": "execute_result"
    }
   ],
   "source": [
    "Grid_RK = GridSearchCV(SVR(kernel = 'rbf'), param_grid, cv=10, return_train_score=True)\n",
    "Grid_RK.fit(X_train, y_train)"
   ]
  },
  {
   "cell_type": "code",
   "execution_count": 97,
   "metadata": {},
   "outputs": [
    {
     "name": "stdout",
     "output_type": "stream",
     "text": [
      "Best parameters: {'C': 100, 'gamma': 10}\n",
      "Best cross-validation score: 0.7998\n"
     ]
    }
   ],
   "source": [
    "# Finding out the best parameters for the model\n",
    "\n",
    "print(\"Best parameters: {}\".format(Grid_RK.best_params_))\n",
    "print(\"Best cross-validation score: {:.4f}\".format(Grid_RK.best_score_))"
   ]
  },
  {
   "cell_type": "code",
   "execution_count": 98,
   "metadata": {},
   "outputs": [
    {
     "name": "stdout",
     "output_type": "stream",
     "text": [
      "Best training score: 0.9047\n",
      "Best testing score: 0.8164\n"
     ]
    }
   ],
   "source": [
    "# Reporting the training and testing scores for the best model\n",
    "\n",
    "print(\"Best training score: {:.4f}\".format(Grid_RK.score(X_train,y_train)))\n",
    "print(\"Best testing score: {:.4f}\".format(Grid_RK.score(X_test,y_test)))"
   ]
  },
  {
   "cell_type": "markdown",
   "metadata": {},
   "source": [
    "## Decision Tree Regressor"
   ]
  },
  {
   "cell_type": "code",
   "execution_count": 99,
   "metadata": {},
   "outputs": [],
   "source": [
    "from sklearn.tree import DecisionTreeRegressor\n",
    "\n",
    "param_grid = {\"max_leaf_nodes\": range(2,6),\n",
    "              \"min_samples_split\": range(2,10,1),\n",
    "              \"max_depth\": [1,2,3,4]\n",
    "           }"
   ]
  },
  {
   "cell_type": "code",
   "execution_count": 100,
   "metadata": {},
   "outputs": [
    {
     "data": {
      "text/plain": [
       "GridSearchCV(cv=10, estimator=DecisionTreeRegressor(random_state=0),\n",
       "             param_grid={'max_depth': [1, 2, 3, 4],\n",
       "                         'max_leaf_nodes': range(2, 6),\n",
       "                         'min_samples_split': range(2, 10)},\n",
       "             return_train_score=True)"
      ]
     },
     "execution_count": 100,
     "metadata": {},
     "output_type": "execute_result"
    }
   ],
   "source": [
    "dreg = DecisionTreeRegressor(random_state=0)\n",
    "Grid_dtree = GridSearchCV(dreg, param_grid, cv=10, return_train_score = True)\n",
    "Grid_dtree.fit(X_train, y_train)"
   ]
  },
  {
   "cell_type": "code",
   "execution_count": 101,
   "metadata": {},
   "outputs": [
    {
     "name": "stdout",
     "output_type": "stream",
     "text": [
      "Best parameters: {'max_depth': 3, 'max_leaf_nodes': 5, 'min_samples_split': 2}\n",
      "Best cross-validation score: 0.7577\n"
     ]
    }
   ],
   "source": [
    "# Finding out the best parameters for the model\n",
    "\n",
    "print(\"Best parameters: {}\".format(Grid_dtree.best_params_))\n",
    "print(\"Best cross-validation score: {:.4f}\".format(Grid_dtree.best_score_))"
   ]
  },
  {
   "cell_type": "code",
   "execution_count": 102,
   "metadata": {},
   "outputs": [
    {
     "name": "stdout",
     "output_type": "stream",
     "text": [
      "Best training score: 0.7642\n",
      "Best testing score: 0.7501\n"
     ]
    }
   ],
   "source": [
    "# Reporting the training and testing scores for the best model\n",
    "\n",
    "print(\"Best training score: {:.4f}\".format(Grid_dtree.score(X_train,y_train)))\n",
    "print(\"Best testing score: {:.4f}\".format(Grid_dtree.score(X_test,y_test)))"
   ]
  },
  {
   "cell_type": "markdown",
   "metadata": {},
   "source": [
    "## SGD Regressor"
   ]
  },
  {
   "cell_type": "code",
   "execution_count": 103,
   "metadata": {},
   "outputs": [],
   "source": [
    "from sklearn.linear_model import SGDRegressor\n",
    "\n",
    "param_grid = {'alpha': [0.001, 0.01, 0.1, 1, 10, 100],\n",
    "              'penalty': ['l1','l2'],\n",
    "              'eta0':[0.01,0.05,0.1,0.5]}"
   ]
  },
  {
   "cell_type": "code",
   "execution_count": 104,
   "metadata": {},
   "outputs": [
    {
     "data": {
      "text/plain": [
       "GridSearchCV(cv=10, estimator=SGDRegressor(),\n",
       "             param_grid={'alpha': [0.001, 0.01, 0.1, 1, 10, 100],\n",
       "                         'eta0': [0.01, 0.05, 0.1, 0.5],\n",
       "                         'penalty': ['l1', 'l2']},\n",
       "             return_train_score=True)"
      ]
     },
     "execution_count": 104,
     "metadata": {},
     "output_type": "execute_result"
    }
   ],
   "source": [
    "Grid_SGD = GridSearchCV(SGDRegressor(max_iter=1000, tol=1e-3),param_grid,cv=10,return_train_score=True)\n",
    "Grid_SGD.fit(X_train,y_train)"
   ]
  },
  {
   "cell_type": "code",
   "execution_count": 105,
   "metadata": {},
   "outputs": [
    {
     "name": "stdout",
     "output_type": "stream",
     "text": [
      "Best parameters: {'alpha': 0.001, 'eta0': 0.1, 'penalty': 'l1'}\n",
      "Best cross-validation score: 0.6456\n"
     ]
    }
   ],
   "source": [
    "# Finding out the best parameters for the model\n",
    "\n",
    "print(\"Best parameters: {}\".format(Grid_SGD.best_params_))\n",
    "print(\"Best cross-validation score: {:.4f}\".format(Grid_SGD.best_score_))"
   ]
  },
  {
   "cell_type": "code",
   "execution_count": 106,
   "metadata": {},
   "outputs": [
    {
     "name": "stdout",
     "output_type": "stream",
     "text": [
      "Best training score: 0.6584\n",
      "Best testing score: 0.6371\n"
     ]
    }
   ],
   "source": [
    "# Reporting the training and testing scores for the best model\n",
    "\n",
    "print(\"Best training score: {:.4f}\".format(Grid_SGD.score(X_train,y_train)))\n",
    "print(\"Best testing score: {:.4f}\".format(Grid_SGD.score(X_test,y_test)))"
   ]
  },
  {
   "cell_type": "markdown",
   "metadata": {},
   "source": [
    "### We conclude that the best model for our dataset will be KNN Regressor, which gave the highest crossvalidation score: 0.83, highest training score: 0.91 and highest test score: 0.85. Best n = 4"
   ]
  },
  {
   "cell_type": "code",
   "execution_count": 111,
   "metadata": {},
   "outputs": [
    {
     "data": {
      "text/plain": [
       "KNeighborsRegressor(n_neighbors=4)"
      ]
     },
     "execution_count": 111,
     "metadata": {},
     "output_type": "execute_result"
    }
   ],
   "source": [
    "from sklearn.svm import SVR\n",
    "\n",
    "final_model = KNeighborsRegressor(4)\n",
    "final_model.fit(X_train,y_train)"
   ]
  },
  {
   "cell_type": "code",
   "execution_count": 112,
   "metadata": {},
   "outputs": [
    {
     "name": "stdout",
     "output_type": "stream",
     "text": [
      "Best training score: 0.9126\n",
      "Best testing score: 0.8516\n"
     ]
    }
   ],
   "source": [
    "print(\"Best training score: {:.4f}\".format(final_model.score(X_train,y_train)))\n",
    "print(\"Best testing score: {:.4f}\".format(final_model.score(X_test,y_test)))"
   ]
  },
  {
   "cell_type": "code",
   "execution_count": 113,
   "metadata": {},
   "outputs": [],
   "source": [
    "final_prediction = final_model.predict(X_test)"
   ]
  },
  {
   "cell_type": "code",
   "execution_count": 114,
   "metadata": {},
   "outputs": [
    {
     "data": {
      "text/plain": [
       "array([65.05 , 59.975, 49.375, 73.2  , 67.425, 70.55 , 58.275, 66.475,\n",
       "       71.375, 72.975, 73.625, 73.65 , 68.75 , 70.55 , 76.975, 61.625,\n",
       "       70.525, 66.525, 57.9  , 69.15 , 64.55 , 63.1  , 76.675, 67.1  ,\n",
       "       73.525, 73.8  , 60.625, 71.5  , 74.4  , 57.6  , 66.55 , 80.325,\n",
       "       73.85 , 66.775, 55.55 , 67.7  , 53.775, 69.3  , 73.   , 72.95 ,\n",
       "       53.475, 73.725, 79.8  , 55.75 , 72.875, 72.7  , 74.45 , 49.25 ,\n",
       "       78.95 , 76.85 , 77.725, 65.4  , 76.225, 63.325, 62.775, 78.6  ,\n",
       "       65.575, 73.975, 58.875, 68.325, 82.3  , 81.025, 64.425, 73.9  ,\n",
       "       72.725, 55.025, 58.725, 71.425, 64.25 , 81.625, 73.725, 75.425,\n",
       "       64.75 , 74.675, 73.575, 66.45 , 58.4  , 65.325, 80.3  , 70.2  ,\n",
       "       84.15 , 74.4  , 71.   , 56.275, 70.45 , 68.425, 78.925, 56.325,\n",
       "       74.425, 53.05 , 65.15 , 74.575, 75.9  , 75.7  , 62.85 , 72.775,\n",
       "       67.425, 54.25 , 69.2  , 52.625, 69.575, 73.7  , 66.45 , 75.425,\n",
       "       82.075, 66.95 , 65.55 , 55.125, 73.325, 74.875, 56.75 , 75.1  ,\n",
       "       84.15 , 59.225, 60.   , 61.625, 74.075, 73.025, 65.2  , 71.65 ,\n",
       "       50.35 , 68.075, 55.55 , 72.2  , 79.475, 68.05 , 74.025, 72.975,\n",
       "       57.175, 68.225, 74.525, 64.1  , 72.5  , 75.325, 50.4  , 75.1  ,\n",
       "       59.575, 70.9  , 60.625, 53.675, 53.35 , 62.575, 51.325, 75.3  ,\n",
       "       68.3  , 76.775, 65.8  , 80.175, 73.225, 74.375, 63.325, 74.025,\n",
       "       74.   , 74.525, 70.85 , 79.875, 75.375, 74.3  , 78.   , 61.825,\n",
       "       75.125, 61.55 , 71.65 , 71.925, 73.55 , 82.475, 68.3  , 78.175,\n",
       "       65.275, 72.575, 68.2  , 56.175, 66.1  , 80.15 , 59.4  , 82.775,\n",
       "       52.05 , 70.85 , 73.95 , 75.625, 73.175, 58.225, 60.65 , 50.55 ,\n",
       "       67.875, 60.8  , 78.725, 80.325, 73.5  , 51.75 , 62.125, 62.4  ,\n",
       "       69.875, 50.55 , 71.6  , 66.45 , 76.3  , 76.35 , 73.275, 75.65 ,\n",
       "       67.   , 73.25 , 77.75 , 73.425, 75.6  , 79.125, 78.775, 77.95 ,\n",
       "       64.975, 75.825, 78.975, 74.5  , 69.6  , 57.1  , 60.25 , 75.825,\n",
       "       66.   , 70.075, 73.2  , 74.375, 64.2  , 80.7  , 73.3  , 73.675,\n",
       "       69.475, 77.7  , 60.15 , 79.5  , 51.725, 50.925, 74.425, 72.775,\n",
       "       72.05 , 73.575, 79.125, 79.8  , 73.275, 54.825, 59.35 , 71.275,\n",
       "       73.775, 64.925, 59.325, 67.7  , 71.2  , 71.8  , 74.225, 63.975,\n",
       "       66.1  , 78.4  , 72.625, 80.325, 69.3  , 79.525, 71.925, 61.425,\n",
       "       71.025, 78.675, 60.25 , 70.425, 76.8  , 52.375, 64.575, 59.425,\n",
       "       74.575, 72.575, 73.025, 72.125, 76.   , 58.825, 80.925, 74.65 ,\n",
       "       73.775, 72.725, 70.125, 57.55 , 54.925, 75.1  , 51.35 , 70.175,\n",
       "       71.725, 65.475, 75.05 , 71.4  , 53.95 , 74.35 , 70.325, 76.3  ,\n",
       "       79.85 , 51.2  , 71.575, 75.1  , 56.625, 74.775, 79.85 , 77.475,\n",
       "       65.55 , 72.275, 59.35 , 80.175, 58.85 , 71.025, 56.   , 76.4  ,\n",
       "       80.3  , 72.375, 73.425, 70.825, 57.25 , 67.475, 79.075, 53.3  ,\n",
       "       73.75 , 73.775, 66.75 , 77.425, 56.925, 73.4  , 83.025, 75.45 ,\n",
       "       74.375, 74.525, 78.975, 71.275, 73.95 , 64.8  , 65.875, 66.075,\n",
       "       50.55 , 72.4  , 52.525, 55.35 , 71.325, 72.925, 71.55 , 52.525,\n",
       "       79.475, 70.075, 72.   , 76.65 , 58.   , 72.725, 71.425, 67.35 ,\n",
       "       64.975, 50.8  , 55.825, 78.325, 81.025, 82.675, 71.7  , 78.625,\n",
       "       81.05 , 56.175, 55.45 , 74.925, 61.9  , 63.975, 79.8  , 66.75 ,\n",
       "       75.5  , 54.875, 71.85 , 69.25 , 72.9  , 66.   , 54.625, 70.475,\n",
       "       74.8  , 72.95 , 55.325, 49.925, 82.55 , 53.025, 75.025, 71.5  ,\n",
       "       74.85 , 73.825, 74.525, 52.4  , 75.075, 73.575, 69.8  , 72.925,\n",
       "       79.55 , 72.725, 71.25 , 74.55 , 66.2  , 60.7  , 76.65 , 63.325,\n",
       "       72.175, 49.425, 84.25 , 77.625, 73.5  , 58.725, 76.225, 72.55 ,\n",
       "       68.75 , 68.9  , 56.575, 77.2  , 71.025, 66.1  , 82.825, 71.6  ,\n",
       "       70.6  , 80.375, 70.45 , 65.2  , 69.2  , 70.45 , 66.625, 82.7  ,\n",
       "       59.55 , 74.675, 75.5  , 74.025, 82.35 , 74.8  , 80.25 , 56.3  ,\n",
       "       76.625, 81.025, 55.275, 82.35 , 77.85 , 75.1  , 65.125, 71.95 ,\n",
       "       79.125, 71.25 , 62.45 , 83.675, 66.575, 63.9  , 72.3  , 73.95 ,\n",
       "       65.5  , 68.45 , 61.825, 60.175, 82.7  , 62.65 , 80.35 , 56.925,\n",
       "       66.8  , 65.325, 71.025, 81.05 , 75.825, 53.825, 77.075, 62.45 ,\n",
       "       54.875, 81.2  , 76.675, 81.775, 71.825, 73.325, 58.05 , 79.475,\n",
       "       79.65 , 72.85 , 56.4  , 73.125, 58.65 , 80.65 , 51.075, 75.925,\n",
       "       73.375, 56.825, 73.975, 68.125, 72.5  , 66.55 , 67.475, 54.125,\n",
       "       76.925, 66.65 , 62.45 , 65.275, 81.55 , 80.525, 78.125, 73.75 ,\n",
       "       65.225, 54.1  , 75.125, 81.35 , 60.925, 74.025, 51.75 , 63.325,\n",
       "       83.275, 51.45 , 71.25 , 73.525, 56.   , 73.55 , 54.3  , 79.85 ,\n",
       "       74.575, 80.3  , 73.025, 60.85 , 78.7  , 71.65 , 76.65 , 58.675,\n",
       "       76.8  , 76.625, 52.2  , 71.375, 73.275, 68.825, 82.35 , 71.3  ,\n",
       "       70.55 , 57.85 , 69.2  , 73.125, 68.7  , 74.075, 75.5  , 53.75 ,\n",
       "       83.5  , 78.4  , 46.275, 67.5  , 81.175, 72.825, 77.975, 80.475,\n",
       "       73.725, 58.9  , 73.375, 78.6  , 72.575, 71.5  , 64.95 , 78.8  ,\n",
       "       76.15 , 68.2  , 59.375, 76.325, 82.2  , 80.475, 74.375, 77.85 ,\n",
       "       70.35 , 73.825, 79.75 , 72.975, 58.375, 75.375, 74.525, 78.225,\n",
       "       72.825, 66.45 , 80.475, 73.875, 65.4  , 68.425, 81.525, 73.075,\n",
       "       80.325, 67.3  , 78.775, 74.125, 71.6  , 74.025, 77.175, 69.45 ,\n",
       "       76.65 , 71.05 , 78.45 , 77.575, 59.575, 71.2  , 64.925, 76.85 ,\n",
       "       74.975, 65.575, 78.8  , 75.875, 81.575, 54.825, 83.625, 63.25 ,\n",
       "       74.15 , 67.925, 79.3  , 52.575, 70.55 , 73.5  , 60.75 , 76.775,\n",
       "       62.7  , 76.925, 57.9  , 73.5  , 72.975, 57.175, 66.6  , 65.8  ,\n",
       "       69.65 , 69.475, 63.825, 70.025, 66.85 , 66.05 , 77.75 , 73.9  ,\n",
       "       56.2  , 73.375, 50.35 , 82.075, 51.45 , 75.425, 64.85 , 49.425,\n",
       "       55.85 , 73.4  , 66.1  , 49.425, 64.15 , 56.825, 52.825, 52.525,\n",
       "       77.975, 79.125, 70.125, 74.8  , 65.675, 76.35 , 76.9  , 53.375,\n",
       "       73.175, 68.25 , 54.65 , 72.825, 74.65 , 67.025, 50.35 , 84.025,\n",
       "       65.5  , 60.95 , 52.575, 71.   , 55.45 , 55.3  , 67.475, 69.875,\n",
       "       60.525, 63.775, 52.35 , 62.375, 72.1  , 61.5  , 61.725, 57.1  ,\n",
       "       72.875, 78.65 , 81.8  , 68.75 , 51.85 , 81.725, 77.   , 74.2  ,\n",
       "       65.775, 75.1  , 71.05 , 72.275, 70.8  , 75.8  , 76.825, 54.325,\n",
       "       69.875, 51.325, 54.475, 64.625, 78.7  , 79.75 , 69.675, 76.4  ,\n",
       "       72.8  , 75.1  , 67.475, 73.45 , 70.5  , 73.525, 59.45 , 58.   ,\n",
       "       67.35 , 51.35 , 58.975, 57.1  , 66.425, 52.2  , 73.7  , 80.7  ,\n",
       "       64.425, 73.8  , 71.625, 66.45 , 60.875, 83.05 , 82.625, 72.825,\n",
       "       52.375, 66.8  , 76.625, 53.975, 73.7  , 70.625, 71.075, 73.8  ,\n",
       "       79.3  , 54.05 , 63.3  , 71.65 , 70.775, 59.7  , 60.175, 55.525,\n",
       "       73.375, 73.5  , 73.95 , 54.325])"
      ]
     },
     "execution_count": 114,
     "metadata": {},
     "output_type": "execute_result"
    }
   ],
   "source": [
    "final_prediction"
   ]
  }
 ],
 "metadata": {
  "kernelspec": {
   "display_name": "Python 3",
   "language": "python",
   "name": "python3"
  },
  "language_info": {
   "codemirror_mode": {
    "name": "ipython",
    "version": 3
   },
   "file_extension": ".py",
   "mimetype": "text/x-python",
   "name": "python",
   "nbconvert_exporter": "python",
   "pygments_lexer": "ipython3",
   "version": "3.8.3"
  }
 },
 "nbformat": 4,
 "nbformat_minor": 2
}
